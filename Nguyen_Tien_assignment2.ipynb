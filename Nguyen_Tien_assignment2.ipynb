{
 "cells": [
  {
   "cell_type": "markdown",
   "id": "4ab9d70f",
   "metadata": {},
   "source": [
    "## Part A: Model Code and Exploration"
   ]
  },
  {
   "cell_type": "markdown",
   "id": "b74d4cd4",
   "metadata": {},
   "source": [
    "### 1. Perform Exploratory Data Analysis (EDA) and discuss the data and what you observe prior to beginning modeling and how impact, how to proceed [10 pts]"
   ]
  },
  {
   "cell_type": "markdown",
   "id": "01c23114",
   "metadata": {},
   "source": [
    "### Data Description"
   ]
  },
  {
   "cell_type": "code",
   "execution_count": 24,
   "id": "70dc05d1",
   "metadata": {},
   "outputs": [
    {
     "data": {
      "text/html": [
       "<div>\n",
       "<style scoped>\n",
       "    .dataframe tbody tr th:only-of-type {\n",
       "        vertical-align: middle;\n",
       "    }\n",
       "\n",
       "    .dataframe tbody tr th {\n",
       "        vertical-align: top;\n",
       "    }\n",
       "\n",
       "    .dataframe thead th {\n",
       "        text-align: right;\n",
       "    }\n",
       "</style>\n",
       "<table border=\"1\" class=\"dataframe\">\n",
       "  <thead>\n",
       "    <tr style=\"text-align: right;\">\n",
       "      <th></th>\n",
       "      <th>discharge_disposition_id</th>\n",
       "      <th>admission_source_id</th>\n",
       "      <th>payer_code</th>\n",
       "      <th>medical_specialty</th>\n",
       "      <th>num_lab_procedures</th>\n",
       "      <th>num_procedures</th>\n",
       "      <th>num_medications</th>\n",
       "      <th>number_outpatient</th>\n",
       "      <th>number_emergency</th>\n",
       "      <th>number_diagnoses</th>\n",
       "      <th>...</th>\n",
       "      <th>glipizide.metformin</th>\n",
       "      <th>glimepiride.pioglitazone</th>\n",
       "      <th>metformin.rosiglitazone</th>\n",
       "      <th>metformin.pioglitazone</th>\n",
       "      <th>change</th>\n",
       "      <th>diabetesMed</th>\n",
       "      <th>readmitted</th>\n",
       "      <th>2nd_diag</th>\n",
       "      <th>3rd_diag</th>\n",
       "      <th>ai_response</th>\n",
       "    </tr>\n",
       "  </thead>\n",
       "  <tbody>\n",
       "    <tr>\n",
       "      <th>0</th>\n",
       "      <td>Discharged to home</td>\n",
       "      <td>Transfer from a hospital</td>\n",
       "      <td>?</td>\n",
       "      <td>?</td>\n",
       "      <td>24</td>\n",
       "      <td>2</td>\n",
       "      <td>17</td>\n",
       "      <td>0</td>\n",
       "      <td>0</td>\n",
       "      <td>8</td>\n",
       "      <td>...</td>\n",
       "      <td>No</td>\n",
       "      <td>No</td>\n",
       "      <td>No</td>\n",
       "      <td>No</td>\n",
       "      <td>No</td>\n",
       "      <td>Yes</td>\n",
       "      <td>False</td>\n",
       "      <td>414</td>\n",
       "      <td>428</td>\n",
       "      <td>Based on the diagnosis code 250.01, which indi...</td>\n",
       "    </tr>\n",
       "    <tr>\n",
       "      <th>1</th>\n",
       "      <td>Discharged to home</td>\n",
       "      <td>Transfer from a hospital</td>\n",
       "      <td>?</td>\n",
       "      <td>?</td>\n",
       "      <td>37</td>\n",
       "      <td>3</td>\n",
       "      <td>14</td>\n",
       "      <td>0</td>\n",
       "      <td>0</td>\n",
       "      <td>8</td>\n",
       "      <td>...</td>\n",
       "      <td>No</td>\n",
       "      <td>No</td>\n",
       "      <td>No</td>\n",
       "      <td>No</td>\n",
       "      <td>No</td>\n",
       "      <td>Yes</td>\n",
       "      <td>False</td>\n",
       "      <td>410</td>\n",
       "      <td>414</td>\n",
       "      <td>Based on the information provided, I recommend...</td>\n",
       "    </tr>\n",
       "    <tr>\n",
       "      <th>2</th>\n",
       "      <td>Discharged to home</td>\n",
       "      <td>Emergency Room</td>\n",
       "      <td>SP</td>\n",
       "      <td>Emergency/Trauma</td>\n",
       "      <td>60</td>\n",
       "      <td>4</td>\n",
       "      <td>17</td>\n",
       "      <td>0</td>\n",
       "      <td>0</td>\n",
       "      <td>9</td>\n",
       "      <td>...</td>\n",
       "      <td>No</td>\n",
       "      <td>No</td>\n",
       "      <td>No</td>\n",
       "      <td>No</td>\n",
       "      <td>No</td>\n",
       "      <td>No</td>\n",
       "      <td>True</td>\n",
       "      <td>537</td>\n",
       "      <td>786</td>\n",
       "      <td>Based on the information provided, the patient...</td>\n",
       "    </tr>\n",
       "    <tr>\n",
       "      <th>3</th>\n",
       "      <td>Discharged to home</td>\n",
       "      <td>Emergency Room</td>\n",
       "      <td>?</td>\n",
       "      <td>?</td>\n",
       "      <td>40</td>\n",
       "      <td>3</td>\n",
       "      <td>25</td>\n",
       "      <td>1</td>\n",
       "      <td>0</td>\n",
       "      <td>9</td>\n",
       "      <td>...</td>\n",
       "      <td>No</td>\n",
       "      <td>No</td>\n",
       "      <td>No</td>\n",
       "      <td>No</td>\n",
       "      <td>Ch</td>\n",
       "      <td>Yes</td>\n",
       "      <td>True</td>\n",
       "      <td>425</td>\n",
       "      <td>428</td>\n",
       "      <td>Based on the information provided, the patient...</td>\n",
       "    </tr>\n",
       "    <tr>\n",
       "      <th>4</th>\n",
       "      <td>Discharged to home</td>\n",
       "      <td>Physician Referral</td>\n",
       "      <td>MD</td>\n",
       "      <td>Surgery-General</td>\n",
       "      <td>31</td>\n",
       "      <td>2</td>\n",
       "      <td>18</td>\n",
       "      <td>0</td>\n",
       "      <td>0</td>\n",
       "      <td>7</td>\n",
       "      <td>...</td>\n",
       "      <td>No</td>\n",
       "      <td>No</td>\n",
       "      <td>No</td>\n",
       "      <td>No</td>\n",
       "      <td>No</td>\n",
       "      <td>Yes</td>\n",
       "      <td>True</td>\n",
       "      <td>682</td>\n",
       "      <td>998</td>\n",
       "      <td>Based on the information provided, the patient...</td>\n",
       "    </tr>\n",
       "  </tbody>\n",
       "</table>\n",
       "<p>5 rows × 40 columns</p>\n",
       "</div>"
      ],
      "text/plain": [
       "  discharge_disposition_id       admission_source_id payer_code  \\\n",
       "0       Discharged to home  Transfer from a hospital          ?   \n",
       "1       Discharged to home  Transfer from a hospital          ?   \n",
       "2       Discharged to home            Emergency Room         SP   \n",
       "3       Discharged to home            Emergency Room          ?   \n",
       "4       Discharged to home        Physician Referral         MD   \n",
       "\n",
       "  medical_specialty  num_lab_procedures  num_procedures  num_medications  \\\n",
       "0                 ?                  24               2               17   \n",
       "1                 ?                  37               3               14   \n",
       "2  Emergency/Trauma                  60               4               17   \n",
       "3                 ?                  40               3               25   \n",
       "4   Surgery-General                  31               2               18   \n",
       "\n",
       "   number_outpatient  number_emergency  number_diagnoses  ...  \\\n",
       "0                  0                 0                 8  ...   \n",
       "1                  0                 0                 8  ...   \n",
       "2                  0                 0                 9  ...   \n",
       "3                  1                 0                 9  ...   \n",
       "4                  0                 0                 7  ...   \n",
       "\n",
       "  glipizide.metformin glimepiride.pioglitazone metformin.rosiglitazone  \\\n",
       "0                  No                       No                      No   \n",
       "1                  No                       No                      No   \n",
       "2                  No                       No                      No   \n",
       "3                  No                       No                      No   \n",
       "4                  No                       No                      No   \n",
       "\n",
       "  metformin.pioglitazone change diabetesMed readmitted 2nd_diag 3rd_diag  \\\n",
       "0                     No     No         Yes      False      414      428   \n",
       "1                     No     No         Yes      False      410      414   \n",
       "2                     No     No          No       True      537      786   \n",
       "3                     No     Ch         Yes       True      425      428   \n",
       "4                     No     No         Yes       True      682      998   \n",
       "\n",
       "                                         ai_response  \n",
       "0  Based on the diagnosis code 250.01, which indi...  \n",
       "1  Based on the information provided, I recommend...  \n",
       "2  Based on the information provided, the patient...  \n",
       "3  Based on the information provided, the patient...  \n",
       "4  Based on the information provided, the patient...  \n",
       "\n",
       "[5 rows x 40 columns]"
      ]
     },
     "execution_count": 24,
     "metadata": {},
     "output_type": "execute_result"
    }
   ],
   "source": [
    "import pandas as pd\n",
    "import numpy as np\n",
    "import seaborn as sns                      \n",
    "import matplotlib.pyplot as plt \n",
    "\n",
    "df = pd.read_csv('8k_diabetes_train.csv')\n",
    "\n",
    "# get general view of dataset \n",
    "df.head()"
   ]
  },
  {
   "cell_type": "code",
   "execution_count": 25,
   "id": "a4b92523",
   "metadata": {},
   "outputs": [
    {
     "data": {
      "text/plain": [
       "<Axes: xlabel='readmitted', ylabel='count'>"
      ]
     },
     "execution_count": 25,
     "metadata": {},
     "output_type": "execute_result"
    },
    {
     "data": {
      "image/png": "[encoded data removed]",
      "text/plain": [
       "<Figure size 640x480 with 1 Axes>"
      ]
     },
     "metadata": {},
     "output_type": "display_data"
    }
   ],
   "source": [
    "df['readmitted'].value_counts()\n",
    "\n",
    "sns.countplot(x='readmitted', data=df)"
   ]
  },
  {
   "cell_type": "code",
   "execution_count": 26,
   "id": "90ccce68",
   "metadata": {},
   "outputs": [
    {
     "data": {
      "text/plain": [
       "readmitted\n",
       "False    4790\n",
       "True     3210\n",
       "Name: count, dtype: int64"
      ]
     },
     "execution_count": 26,
     "metadata": {},
     "output_type": "execute_result"
    }
   ],
   "source": [
    "df['readmitted'].value_counts()"
   ]
  },
  {
   "cell_type": "markdown",
   "id": "d03d14f3",
   "metadata": {},
   "source": [
    "* There are **60%** of person not being readmitted and **40%** of person being readmitted in this dataset"
   ]
  },
  {
   "cell_type": "markdown",
   "id": "12eeff7d",
   "metadata": {},
   "source": [
    "#### Information about dataset "
   ]
  },
  {
   "cell_type": "code",
   "execution_count": 207,
   "id": "427c89e2",
   "metadata": {},
   "outputs": [
    {
     "name": "stdout",
     "output_type": "stream",
     "text": [
      "<class 'pandas.core.frame.DataFrame'>\n",
      "RangeIndex: 8000 entries, 0 to 7999\n",
      "Data columns (total 40 columns):\n",
      " #   Column                    Non-Null Count  Dtype \n",
      "---  ------                    --------------  ----- \n",
      " 0   discharge_disposition_id  7636 non-null   object\n",
      " 1   admission_source_id       7248 non-null   object\n",
      " 2   payer_code                8000 non-null   object\n",
      " 3   medical_specialty         8000 non-null   object\n",
      " 4   num_lab_procedures        8000 non-null   int64 \n",
      " 5   num_procedures            8000 non-null   int64 \n",
      " 6   num_medications           8000 non-null   int64 \n",
      " 7   number_outpatient         8000 non-null   int64 \n",
      " 8   number_emergency          8000 non-null   int64 \n",
      " 9   number_diagnoses          8000 non-null   int64 \n",
      " 10  max_glu_serum             534 non-null    object\n",
      " 11  metformin                 8000 non-null   object\n",
      " 12  repaglinide               8000 non-null   object\n",
      " 13  nateglinide               8000 non-null   object\n",
      " 14  chlorpropamide            8000 non-null   object\n",
      " 15  glimepiride               8000 non-null   object\n",
      " 16  acetohexamide             8000 non-null   object\n",
      " 17  glipizide                 8000 non-null   object\n",
      " 18  glyburide                 8000 non-null   object\n",
      " 19  tolbutamide               8000 non-null   object\n",
      " 20  pioglitazone              8000 non-null   object\n",
      " 21  rosiglitazone             8000 non-null   object\n",
      " 22  acarbose                  8000 non-null   object\n",
      " 23  miglitol                  8000 non-null   object\n",
      " 24  troglitazone              8000 non-null   object\n",
      " 25  tolazamide                8000 non-null   object\n",
      " 26  examide                   8000 non-null   object\n",
      " 27  citoglipton               8000 non-null   object\n",
      " 28  insulin                   8000 non-null   object\n",
      " 29  glyburide.metformin       8000 non-null   object\n",
      " 30  glipizide.metformin       8000 non-null   object\n",
      " 31  glimepiride.pioglitazone  8000 non-null   object\n",
      " 32  metformin.rosiglitazone   8000 non-null   object\n",
      " 33  metformin.pioglitazone    8000 non-null   object\n",
      " 34  change                    8000 non-null   object\n",
      " 35  diabetesMed               8000 non-null   object\n",
      " 36  readmitted                8000 non-null   bool  \n",
      " 37  2nd_diag                  8000 non-null   object\n",
      " 38  3rd_diag                  8000 non-null   object\n",
      " 39  ai_response               8000 non-null   object\n",
      "dtypes: bool(1), int64(6), object(33)\n",
      "memory usage: 2.4+ MB\n"
     ]
    }
   ],
   "source": [
    "# get data ifno\n",
    "df.info()"
   ]
  },
  {
   "cell_type": "markdown",
   "id": "0fefdcc3",
   "metadata": {},
   "source": [
    "* The dataset has 8000 rows and 40 columns. \n",
    "* It is a multi-modal dataset including categorical, numerical, and text data\n",
    "* Each row represents a unique hospital admission. Columns represent medical details, admission-specific information, prescriptions, diagnoses, and diagnose description (ai_response)\n",
    "* There exist missing values appear in the dataset "
   ]
  },
  {
   "cell_type": "markdown",
   "id": "102a5bd4",
   "metadata": {},
   "source": [
    "#### Statistical analysis of dataset"
   ]
  },
  {
   "cell_type": "code",
   "execution_count": 188,
   "id": "68fcaa0a",
   "metadata": {},
   "outputs": [
    {
     "data": {
      "text/html": [
       "<div>\n",
       "<style scoped>\n",
       "    .dataframe tbody tr th:only-of-type {\n",
       "        vertical-align: middle;\n",
       "    }\n",
       "\n",
       "    .dataframe tbody tr th {\n",
       "        vertical-align: top;\n",
       "    }\n",
       "\n",
       "    .dataframe thead th {\n",
       "        text-align: right;\n",
       "    }\n",
       "</style>\n",
       "<table border=\"1\" class=\"dataframe\">\n",
       "  <thead>\n",
       "    <tr style=\"text-align: right;\">\n",
       "      <th></th>\n",
       "      <th>num_lab_procedures</th>\n",
       "      <th>num_procedures</th>\n",
       "      <th>num_medications</th>\n",
       "      <th>number_outpatient</th>\n",
       "      <th>number_emergency</th>\n",
       "      <th>number_diagnoses</th>\n",
       "    </tr>\n",
       "  </thead>\n",
       "  <tbody>\n",
       "    <tr>\n",
       "      <th>count</th>\n",
       "      <td>8000.000000</td>\n",
       "      <td>8000.000000</td>\n",
       "      <td>8000.000000</td>\n",
       "      <td>8000.000000</td>\n",
       "      <td>8000.000000</td>\n",
       "      <td>8000.000000</td>\n",
       "    </tr>\n",
       "    <tr>\n",
       "      <th>mean</th>\n",
       "      <td>43.183375</td>\n",
       "      <td>1.391750</td>\n",
       "      <td>15.543375</td>\n",
       "      <td>0.280875</td>\n",
       "      <td>0.108375</td>\n",
       "      <td>7.027875</td>\n",
       "    </tr>\n",
       "    <tr>\n",
       "      <th>std</th>\n",
       "      <td>19.518187</td>\n",
       "      <td>1.709575</td>\n",
       "      <td>8.398151</td>\n",
       "      <td>1.075932</td>\n",
       "      <td>0.467608</td>\n",
       "      <td>2.019680</td>\n",
       "    </tr>\n",
       "    <tr>\n",
       "      <th>min</th>\n",
       "      <td>1.000000</td>\n",
       "      <td>0.000000</td>\n",
       "      <td>1.000000</td>\n",
       "      <td>0.000000</td>\n",
       "      <td>0.000000</td>\n",
       "      <td>1.000000</td>\n",
       "    </tr>\n",
       "    <tr>\n",
       "      <th>25%</th>\n",
       "      <td>32.000000</td>\n",
       "      <td>0.000000</td>\n",
       "      <td>10.000000</td>\n",
       "      <td>0.000000</td>\n",
       "      <td>0.000000</td>\n",
       "      <td>5.000000</td>\n",
       "    </tr>\n",
       "    <tr>\n",
       "      <th>50%</th>\n",
       "      <td>44.000000</td>\n",
       "      <td>1.000000</td>\n",
       "      <td>14.000000</td>\n",
       "      <td>0.000000</td>\n",
       "      <td>0.000000</td>\n",
       "      <td>7.000000</td>\n",
       "    </tr>\n",
       "    <tr>\n",
       "      <th>75%</th>\n",
       "      <td>57.000000</td>\n",
       "      <td>2.000000</td>\n",
       "      <td>19.000000</td>\n",
       "      <td>0.000000</td>\n",
       "      <td>0.000000</td>\n",
       "      <td>9.000000</td>\n",
       "    </tr>\n",
       "    <tr>\n",
       "      <th>max</th>\n",
       "      <td>120.000000</td>\n",
       "      <td>6.000000</td>\n",
       "      <td>75.000000</td>\n",
       "      <td>36.000000</td>\n",
       "      <td>9.000000</td>\n",
       "      <td>9.000000</td>\n",
       "    </tr>\n",
       "  </tbody>\n",
       "</table>\n",
       "</div>"
      ],
      "text/plain": [
       "       num_lab_procedures  num_procedures  num_medications  number_outpatient  \\\n",
       "count         8000.000000     8000.000000      8000.000000        8000.000000   \n",
       "mean            43.183375        1.391750        15.543375           0.280875   \n",
       "std             19.518187        1.709575         8.398151           1.075932   \n",
       "min              1.000000        0.000000         1.000000           0.000000   \n",
       "25%             32.000000        0.000000        10.000000           0.000000   \n",
       "50%             44.000000        1.000000        14.000000           0.000000   \n",
       "75%             57.000000        2.000000        19.000000           0.000000   \n",
       "max            120.000000        6.000000        75.000000          36.000000   \n",
       "\n",
       "       number_emergency  number_diagnoses  \n",
       "count       8000.000000       8000.000000  \n",
       "mean           0.108375          7.027875  \n",
       "std            0.467608          2.019680  \n",
       "min            0.000000          1.000000  \n",
       "25%            0.000000          5.000000  \n",
       "50%            0.000000          7.000000  \n",
       "75%            0.000000          9.000000  \n",
       "max            9.000000          9.000000  "
      ]
     },
     "execution_count": 188,
     "metadata": {},
     "output_type": "execute_result"
    }
   ],
   "source": [
    "# get statistics of dataset\n",
    "df.describe()"
   ]
  },
  {
   "cell_type": "markdown",
   "id": "26c6b249",
   "metadata": {},
   "source": [
    "#### Report of number of unique values in each column"
   ]
  },
  {
   "cell_type": "code",
   "execution_count": 189,
   "id": "b9f5a801",
   "metadata": {},
   "outputs": [
    {
     "data": {
      "text/plain": [
       "discharge_disposition_id      19\n",
       "admission_source_id           10\n",
       "payer_code                    16\n",
       "medical_specialty             52\n",
       "num_lab_procedures           107\n",
       "num_procedures                 7\n",
       "num_medications               65\n",
       "number_outpatient             19\n",
       "number_emergency              10\n",
       "number_diagnoses               9\n",
       "max_glu_serum                  3\n",
       "metformin                      4\n",
       "repaglinide                    4\n",
       "nateglinide                    4\n",
       "chlorpropamide                 3\n",
       "glimepiride                    4\n",
       "acetohexamide                  1\n",
       "glipizide                      4\n",
       "glyburide                      4\n",
       "tolbutamide                    2\n",
       "pioglitazone                   4\n",
       "rosiglitazone                  4\n",
       "acarbose                       3\n",
       "miglitol                       4\n",
       "troglitazone                   1\n",
       "tolazamide                     2\n",
       "examide                        1\n",
       "citoglipton                    1\n",
       "insulin                        4\n",
       "glyburide.metformin            4\n",
       "glipizide.metformin            2\n",
       "glimepiride.pioglitazone       1\n",
       "metformin.rosiglitazone        1\n",
       "metformin.pioglitazone         1\n",
       "change                         2\n",
       "diabetesMed                    2\n",
       "readmitted                     2\n",
       "2nd_diag                     391\n",
       "3rd_diag                     425\n",
       "ai_response                 6934\n",
       "dtype: int64"
      ]
     },
     "execution_count": 189,
     "metadata": {},
     "output_type": "execute_result"
    }
   ],
   "source": [
    "df.nunique()"
   ]
  },
  {
   "cell_type": "markdown",
   "id": "a95d39b2",
   "metadata": {},
   "source": [
    "#### Drop columns contain 1 unique value because they don't have impact on training the model\n",
    "* 'acetohexamide'\n",
    "* 'troglitazone'\n",
    "* 'examide'\n",
    "* 'citoglipton'\n",
    "* 'glimepiride.pioglitazone'\n",
    "* 'metformin.rosiglitazone'\n",
    "* 'metformin.pioglitazone'"
   ]
  },
  {
   "cell_type": "code",
   "execution_count": 27,
   "id": "34ad0c04",
   "metadata": {},
   "outputs": [],
   "source": [
    "drop_list = []\n",
    "for col in df.columns:\n",
    "    if len(df[col].unique()) == 1:\n",
    "        drop_list.append(col)\n",
    "        df.drop(col,inplace=True,axis=1)"
   ]
  },
  {
   "cell_type": "code",
   "execution_count": 28,
   "id": "e19cf6a0",
   "metadata": {},
   "outputs": [
    {
     "name": "stdout",
     "output_type": "stream",
     "text": [
      "['acetohexamide', 'troglitazone', 'examide', 'citoglipton', 'glimepiride.pioglitazone', 'metformin.rosiglitazone', 'metformin.pioglitazone']\n"
     ]
    },
    {
     "data": {
      "text/plain": [
       "Index(['discharge_disposition_id', 'admission_source_id', 'payer_code',\n",
       "       'medical_specialty', 'num_lab_procedures', 'num_procedures',\n",
       "       'num_medications', 'number_outpatient', 'number_emergency',\n",
       "       'number_diagnoses', 'max_glu_serum', 'metformin', 'repaglinide',\n",
       "       'nateglinide', 'chlorpropamide', 'glimepiride', 'glipizide',\n",
       "       'glyburide', 'tolbutamide', 'pioglitazone', 'rosiglitazone', 'acarbose',\n",
       "       'miglitol', 'tolazamide', 'insulin', 'glyburide.metformin',\n",
       "       'glipizide.metformin', 'change', 'diabetesMed', 'readmitted',\n",
       "       '2nd_diag', '3rd_diag', 'ai_response'],\n",
       "      dtype='object')"
      ]
     },
     "execution_count": 28,
     "metadata": {},
     "output_type": "execute_result"
    }
   ],
   "source": [
    "print(drop_list)\n",
    "df.columns"
   ]
  },
  {
   "cell_type": "markdown",
   "id": "afa74833",
   "metadata": {},
   "source": [
    "#### Check duplicate rows and drop if there exist any"
   ]
  },
  {
   "cell_type": "code",
   "execution_count": 210,
   "id": "9af70e54",
   "metadata": {
    "scrolled": false
   },
   "outputs": [
    {
     "name": "stdout",
     "output_type": "stream",
     "text": [
      "number of duplicate rows:  (0, 33)\n"
     ]
    }
   ],
   "source": [
    "# check duplicate\n",
    "duplicate_rows_df = df[df.duplicated()]\n",
    "print(\"number of duplicate rows: \", duplicate_rows_df.shape)"
   ]
  },
  {
   "cell_type": "markdown",
   "id": "70e309c4",
   "metadata": {},
   "source": [
    "* The dataset doesn't have duplicate rows"
   ]
  },
  {
   "cell_type": "markdown",
   "id": "77c61041",
   "metadata": {},
   "source": [
    "#### Check percentage of missing values or '?' in each column"
   ]
  },
  {
   "cell_type": "code",
   "execution_count": 4,
   "id": "df484545",
   "metadata": {},
   "outputs": [
    {
     "name": "stdout",
     "output_type": "stream",
     "text": [
      "discharge_disposition_id 0.0\n",
      "admission_source_id 0.0\n",
      "payer_code 53.77499999999999\n",
      "medical_specialty 40.975\n",
      "num_lab_procedures 0.0\n",
      "num_procedures 0.0\n",
      "num_medications 0.0\n",
      "number_outpatient 0.0\n",
      "number_emergency 0.0\n",
      "number_diagnoses 0.0\n",
      "max_glu_serum 0.0\n",
      "metformin 0.0\n",
      "repaglinide 0.0\n",
      "nateglinide 0.0\n",
      "chlorpropamide 0.0\n",
      "glimepiride 0.0\n",
      "glipizide 0.0\n",
      "glyburide 0.0\n",
      "tolbutamide 0.0\n",
      "pioglitazone 0.0\n",
      "rosiglitazone 0.0\n",
      "acarbose 0.0\n",
      "miglitol 0.0\n",
      "tolazamide 0.0\n",
      "insulin 0.0\n",
      "glyburide.metformin 0.0\n",
      "glipizide.metformin 0.0\n",
      "change 0.0\n",
      "diabetesMed 0.0\n",
      "readmitted 0.0\n",
      "2nd_diag 0.525\n",
      "3rd_diag 2.1125000000000003\n",
      "ai_response 0.0\n"
     ]
    }
   ],
   "source": [
    "for i in df.columns:\n",
    "    print(i, df[i][df[i] == '?'].count()/len(df) * 100)"
   ]
  },
  {
   "cell_type": "markdown",
   "id": "319001a3",
   "metadata": {},
   "source": [
    "* There are 4 features that contain missing values\n",
    "* **payer_code** and **medical_specialty** have high percentage of **54%** and **41%** missing values respectively"
   ]
  },
  {
   "cell_type": "markdown",
   "id": "133c9bd4",
   "metadata": {},
   "source": [
    "#### Report of all values in columns that contain '?' or NaN"
   ]
  },
  {
   "cell_type": "code",
   "execution_count": 29,
   "id": "11d267b5",
   "metadata": {
    "scrolled": false
   },
   "outputs": [
    {
     "name": "stdout",
     "output_type": "stream",
     "text": [
      "discharge_disposition_id\n",
      "Discharged to home                                                                                             4864\n",
      "Discharged/transferred to SNF                                                                                   954\n",
      "Discharged/transferred to home with home health service                                                         920\n",
      "NaN                                                                                                             364\n",
      "Expired                                                                                                         153\n",
      "Discharged/transferred to another short term hospital                                                           139\n",
      "Discharged/transferred to another rehab fac including rehab units of a hospital.                                134\n",
      "Discharged/transferred to another  type of inpatient care institution                                           130\n",
      "Not Mapped                                                                                                      107\n",
      "Discharged/transferred to ICF                                                                                    80\n",
      "Discharged/transferred to a long term care hospital.                                                             39\n",
      "Left AMA                                                                                                         36\n",
      "Hospice / home                                                                                                   28\n",
      "Hospice / medical facility                                                                                       22\n",
      "Discharged/transferred to home under care of Home IV provider                                                    12\n",
      "Discharged/transferred/referred to a psychiatric hospital of a psychiatric distinct part unit of a hospital      11\n",
      "Discharged/transferred within this institution to Medicare approved swing bed                                     3\n",
      "Admitted as an inpatient to this hospital                                                                         2\n",
      "Discharged/transferred/referred to this institution for outpatient services                                       1\n",
      "Discharged/transferred/referred another institution for outpatient services                                       1\n",
      "Name: count, dtype: int64 \n",
      "\n",
      "admission_source_id\n",
      "Emergency Room                                    3957\n",
      "Physician Referral                                2401\n",
      "NaN                                                752\n",
      "Transfer from a hospital                           328\n",
      "Transfer from another health care facility         271\n",
      "Clinic Referral                                    145\n",
      "Transfer from a Skilled Nursing Facility (SNF)      93\n",
      "HMO Referral                                        22\n",
      "Not Mapped                                          17\n",
      "Not Available                                       13\n",
      "Court/Law Enforcement                                1\n",
      "Name: count, dtype: int64 \n",
      "\n",
      "medical_specialty\n",
      "?                                       3278\n",
      "InternalMedicine                        1540\n",
      "Family/GeneralPractice                   685\n",
      "Cardiology                               559\n",
      "Emergency/Trauma                         395\n",
      "Surgery-General                          271\n",
      "Orthopedics-Reconstructive               133\n",
      "Nephrology                               129\n",
      "Psychiatry                               104\n",
      "Orthopedics                              102\n",
      "ObstetricsandGynecology                   85\n",
      "Pulmonology                               78\n",
      "Surgery-Cardiovascular/Thoracic           77\n",
      "Surgery-Neuro                             74\n",
      "Urology                                   59\n",
      "Surgery-Vascular                          54\n",
      "Gastroenterology                          49\n",
      "Radiologist                               41\n",
      "PhysicalMedicineandRehabilitation         30\n",
      "Oncology                                  30\n",
      "Pediatrics                                27\n",
      "Neurology                                 23\n",
      "Hematology/Oncology                       19\n",
      "Pediatrics-Endocrinology                  19\n",
      "Endocrinology                             16\n",
      "Surgery-Thoracic                          11\n",
      "Pediatrics-CriticalCare                   10\n",
      "Surgery-Cardiovascular                    10\n",
      "Otolaryngology                             9\n",
      "Radiology                                  9\n",
      "Podiatry                                   8\n",
      "Gynecology                                 8\n",
      "Ophthalmology                              7\n",
      "Psychology                                 6\n",
      "Obsterics&Gynecology-GynecologicOnco       5\n",
      "Osteopath                                  4\n",
      "Surgery-Plastic                            4\n",
      "Surgeon                                    4\n",
      "InfectiousDiseases                         3\n",
      "Anesthesiology-Pediatric                   3\n",
      "Pathology                                  3\n",
      "Surgery-Pediatric                          3\n",
      "Cardiology-Pediatric                       3\n",
      "Obstetrics                                 2\n",
      "Hospitalist                                2\n",
      "Surgery-Colon&Rectal                       2\n",
      "Hematology                                 2\n",
      "Pediatrics-EmergencyMedicine               1\n",
      "Pediatrics-Hematology-Oncology             1\n",
      "Surgery-PlasticwithinHeadandNeck           1\n",
      "Pediatrics-Pulmonology                     1\n",
      "PhysicianNotFound                          1\n",
      "Name: count, dtype: int64 \n",
      "\n",
      "payer_code\n",
      "?     4302\n",
      "MC    1988\n",
      "HM     364\n",
      "BC     300\n",
      "SP     242\n",
      "UN     221\n",
      "MD     189\n",
      "CP     159\n",
      "CM      88\n",
      "DM      46\n",
      "OG      39\n",
      "PO      34\n",
      "WC       9\n",
      "SI       8\n",
      "OT       6\n",
      "CH       5\n",
      "Name: count, dtype: int64 \n",
      "\n",
      "max_glu_serum\n",
      "NaN     7466\n",
      "Norm     271\n",
      ">200     160\n",
      ">300     103\n",
      "Name: count, dtype: int64 \n",
      "\n",
      "2nd_diag\n",
      "401    629\n",
      "428    623\n",
      "427    485\n",
      "414    478\n",
      "276    393\n",
      "      ... \n",
      "508      1\n",
      "174      1\n",
      "475      1\n",
      "474      1\n",
      "V58      1\n",
      "Name: count, Length: 391, dtype: int64 \n",
      "\n",
      "3rd_diag\n",
      "428    481\n",
      "786    392\n",
      "414    384\n",
      "599    332\n",
      "780    291\n",
      "      ... \n",
      "906      1\n",
      "905      1\n",
      "365      1\n",
      "893      1\n",
      "866      1\n",
      "Name: count, Length: 425, dtype: int64 \n",
      "\n"
     ]
    }
   ],
   "source": [
    "import numpy as np\n",
    "import pandas as pd\n",
    "\n",
    "missing_cat = ['discharge_disposition_id', 'admission_source_id', 'medical_specialty',\n",
    "              'payer_code', 'max_glu_serum', '2nd_diag', '3rd_diag']\n",
    "\n",
    "for m in missing_cat:\n",
    "    print(df.value_counts(m, dropna=False), '\\n')"
   ]
  },
  {
   "cell_type": "markdown",
   "id": "8f77af77",
   "metadata": {},
   "source": [
    "#### Replace '?' and fill NaN with 'missing'"
   ]
  },
  {
   "cell_type": "code",
   "execution_count": 30,
   "id": "f3af6e7a",
   "metadata": {},
   "outputs": [],
   "source": [
    "df.replace(\"?\", 'missing', inplace = True)\n",
    "df = df.fillna('missing')"
   ]
  },
  {
   "cell_type": "markdown",
   "id": "2e8f0a44",
   "metadata": {},
   "source": [
    "#### Check if those values have been changed"
   ]
  },
  {
   "cell_type": "code",
   "execution_count": 7,
   "id": "4fcbbb98",
   "metadata": {},
   "outputs": [
    {
     "name": "stdout",
     "output_type": "stream",
     "text": [
      "['Discharged to home'\n",
      " 'Discharged/transferred to home with home health service'\n",
      " 'Discharged/transferred to SNF' 'Not Mapped'\n",
      " 'Discharged/transferred to another  type of inpatient care institution'\n",
      " 'Discharged/transferred to another short term hospital' 'missing'\n",
      " 'Expired'\n",
      " 'Discharged/transferred to another rehab fac including rehab units of a hospital.'\n",
      " 'Left AMA'\n",
      " 'Discharged/transferred/referred to a psychiatric hospital of a psychiatric distinct part unit of a hospital'\n",
      " 'Discharged/transferred to a long term care hospital.' 'Hospice / home'\n",
      " 'Discharged/transferred to home under care of Home IV provider'\n",
      " 'Discharged/transferred to ICF'\n",
      " 'Discharged/transferred/referred to this institution for outpatient services'\n",
      " 'Hospice / medical facility' 'Admitted as an inpatient to this hospital'\n",
      " 'Discharged/transferred/referred another institution for outpatient services'\n",
      " 'Discharged/transferred within this institution to Medicare approved swing bed']\n",
      "['Transfer from a hospital' 'Emergency Room' 'Physician Referral'\n",
      " 'Transfer from another health care facility' 'Clinic Referral' 'missing'\n",
      " 'Transfer from a Skilled Nursing Facility (SNF)' 'Not Mapped'\n",
      " 'HMO Referral' 'Not Available' 'Court/Law Enforcement']\n",
      "['missing' 'Emergency/Trauma' 'Surgery-General' 'Family/GeneralPractice'\n",
      " 'Psychiatry' 'InternalMedicine' 'Orthopedics-Reconstructive' 'Cardiology'\n",
      " 'Surgery-Cardiovascular/Thoracic' 'Surgery-Neuro' 'Hematology/Oncology'\n",
      " 'Psychology' 'ObstetricsandGynecology' 'Hospitalist' 'Orthopedics'\n",
      " 'Pulmonology' 'Urology' 'Pediatrics-Endocrinology'\n",
      " 'PhysicalMedicineandRehabilitation' 'Radiologist' 'Pediatrics'\n",
      " 'Nephrology' 'Surgery-Thoracic' 'Gastroenterology'\n",
      " 'Surgery-PlasticwithinHeadandNeck' 'Neurology' 'Pediatrics-CriticalCare'\n",
      " 'Oncology' 'Surgery-Cardiovascular' 'Surgery-Vascular'\n",
      " 'InfectiousDiseases' 'Endocrinology' 'Ophthalmology' 'Surgery-Pediatric'\n",
      " 'Obsterics&Gynecology-GynecologicOnco' 'Surgery-Plastic' 'Osteopath'\n",
      " 'Radiology' 'Surgeon' 'Podiatry' 'Gynecology' 'Otolaryngology'\n",
      " 'Surgery-Colon&Rectal' 'Pathology' 'Cardiology-Pediatric' 'Hematology'\n",
      " 'Pediatrics-Pulmonology' 'Obstetrics' 'Pediatrics-Hematology-Oncology'\n",
      " 'Anesthesiology-Pediatric' 'PhysicianNotFound'\n",
      " 'Pediatrics-EmergencyMedicine']\n",
      "['missing' 'SP' 'MD' 'CP' 'MC' 'UN' 'BC' 'HM' 'CM' 'PO' 'DM' 'OG' 'WC'\n",
      " 'SI' 'CH' 'OT']\n",
      "['missing' 'Norm' '>200' '>300']\n",
      "['414' '410' '537' '425' '682' '728' '437' '305' '401' '782' '331' '486'\n",
      " '38' 'E849' '428' '552' '780' '794' '441' '427' '362' '344' '593' '599'\n",
      " '585' '415' '540' '493' '300' '272' '518' '250' '571' '491' '278' '434'\n",
      " '276' '821' '496' '411' '403' '715' '481' '285' '648' '196' '440' '357'\n",
      " '396' '995' '786' '424' '296' '625' '574' '382' '781' '250.02' '996'\n",
      " '308' '515' '311' '578' '562' '707' '594' 'missing' '507' '553' '397'\n",
      " '998' '558' '303' '433' '413' '250.1' '530' '250.03' '250.81' '823' '799'\n",
      " '519' '536' '402' '785' '729' '198' '584' '600' '41' 'V43' '710' '286'\n",
      " '945' '569' '453' '733' '724' '591' '309' '596' '289' '292' '727' '478'\n",
      " '730' '304' '416' '298' '250.6' '557' '564' '738' '719' '426' '5' '295'\n",
      " '250.51' '277' '348' '997' 'V54' '532' '681' '711' '787' '280' '788'\n",
      " '824' '473' '722' '616' '567' '535' '333' '435' '404' '199' '466' '820'\n",
      " '42' '290' '577' '723' '443' '250.92' '550' '485' '263' '726' '412' '455'\n",
      " '618' '556' '250.8' '531' '747' '850' '790' '483' '583' '431' 'V12' '492'\n",
      " '886' '294' '575' '458' '420' '252' '345' '534' '611' '560' '312' '343'\n",
      " '751' '3' '245' '372' '511' '70' '482' '250.11' '789' 'E942' '429' '287'\n",
      " '607' '512' 'V53' '461' '438' '582' '573' '436' '680' '284' '386' '812'\n",
      " 'E812' '233' '664' '528' '865' '291' '271' '646' '282' '617' '301' '621'\n",
      " '736' '398' '576' '459' '716' '266' '423' '475' '204' '592' '361'\n",
      " '250.01' '197' '805' '693' '340' '319' '642' '202' '430' 'V49' '288'\n",
      " '293' '813' '346' '447' '924' '572' '368' '337' '566' '250.52' '696'\n",
      " '474' '250.22' '521' '822' '250.4' '451' '603' '218' '721' '444' '810'\n",
      " '922' '784' '307' '456' '8' '53' '555' '601' '487' '709' 'V10' '969'\n",
      " '454' '808' '214' '79' '275' '405' '905' 'V58' '660' '250.13' '514' '369'\n",
      " '250.31' 'V17' '522' '490' '590' '228' '332' '250.53' '442' '389' '432'\n",
      " '250.82' '714' '598' '708' '281' '244' '274' '446' '253' '581' '595'\n",
      " '802' '861' '349' '964' '698' '807' '873' '241' '568' '825' '652' '966'\n",
      " '351' '377' '250.93' 'E932' '421' '465' '972' '920' '626' '758' '250.2'\n",
      " '387' '342' '752' '299' '250.12' '250.41' '381' '918' 'V42' '510' '379'\n",
      " '354' '189' '516' 'V45' '962' '350' '324' '265' '250.83' '882' '654'\n",
      " '462' '868' '852' '365' '78' '250.42' '255' '643' '826' '313' 'V11' '610'\n",
      " '508' '335' '847' '380' '647' '250.7' '378' '605' '706' '801' '452' '718'\n",
      " '644' '358' '692' '608' '814' '844' '327' '251' '179' '933' 'V57' '174'\n",
      " '188' '384' '356' '157' '620' '800' '370' '323']\n",
      "['428' '414' '786' '998' '707' '790' 'V57' 'V45' '599' '682' '782' '431'\n",
      " '482' 'E885' '785' '429' '780' 'V58' '992' '496' '435' '434' '724' '784'\n",
      " '491' 'V15' '560' '584' '511' '799' '618' '577' '710' '278' '427' '997'\n",
      " '787' '331' '824' '553' '518' 'missing' 'V10' '493' '424' '722' '663'\n",
      " '534' '458' '578' '9' 'E930' '996' '481' '304' '626' '794' '555' '729'\n",
      " '593' '715' 'V42' '401' '303' '922' 'V12' '571' '455' '465' '453' '820'\n",
      " '507' '585' '440' '600' 'V65' '934' '512' '781' '8' 'E878' '426' '619'\n",
      " '726' '535' 'E887' '716' '415' '537' '38' 'V49' '658' '515' '276' '486'\n",
      " '423' '490' '410' 'E819' '730' '601' 'V54' '616' '958' '592' '519' '567'\n",
      " 'E932' '574' '915' '583' '403' '681' '437' '959' '714' '492' '562' '727'\n",
      " '788' '540' '411' '595' '517' '569' '995' '654' '709' '70' '861' '575'\n",
      " '728' '733' 'E849' '295' '701' '357' '586' '436' 'V63' '572' '692' 'E888'\n",
      " '288' '530' '736' '865' '311' '319' '345' '614' 'E882' '300' 'E939' '346'\n",
      " '664' 'V43' '590' 'V09' '723' '79' '558' '652' 'V70' '721' '531' '443'\n",
      " '197' '402' '945' '564' '494' '576' '977' '250' '659' '610' '853' '309'\n",
      " '620' '466' '783' '916' '869' '536' '789' '821' '420' '305' '374' '425'\n",
      " 'V64' 'E941' '969' 'V18' 'E942' '516' '433' '823' 'E879' '731' '852'\n",
      " '604' '581' '272' '280' '348' '756' '648' '892' '573' '459' '812' 'E884'\n",
      " 'E935' '285' 'E880' '413' 'E933' 'V25' 'V46' 'V85' '457' 'V55' '625'\n",
      " '796' '627' '566' '713' '617' '802' '738' '396' '283' '398' '487' 'V72'\n",
      " '568' '198' '557' '745' '808' '378' '893' 'E816' '522' '680' '513' '565'\n",
      " '532' '322' '711' '913' '579' 'E934' '968' '386' '596' '607' 'E812' '696'\n",
      " '999' '432' '552' '965' '720' '845' '514' 'E950' '966' 'E949' '444' '473'\n",
      " '441' '301' '746' '703' '446' '741' 'E937' '447' '669' '759' '275' '362'\n",
      " 'E929' '462' '905' '873' '332' '404' 'E854' '351' '924' '54' '883' '792'\n",
      " '810' '53' 'E944' 'V27' '438' '972' '656' '694' '550' 'V53' '622' 'V17'\n",
      " '412' '75' 'E947' '527' '908' '252' '751' '591' '970' '805' '608' '695'\n",
      " '717' '344' 'V66' '88' '78' '508' '287' 'V16' '317' '700' '907' '296'\n",
      " '813' '475' '791' '867' 'V62' '935' '884' '41' '510' '294' '862' '840'\n",
      " '719' '753' '382' 'E905' '725' 'E938' '580' '868' '847' '42' '485' 'E916'\n",
      " '906' 'V14' '61' '822' '735' '250.01' '478' '623' '801' '734' '337' '594'\n",
      " '807' '556' '335' 'V56' '693' '430' '356' '962' 'E917' '218' '661' '307'\n",
      " '289' '314' '793' '611' '250.6' 'E822' '890' '284' 'E815' '350' '376'\n",
      " '82' '737' '588' '684' '866' 'E927' '708' '621' '461' 'E915' '298' '533'\n",
      " '274' '299' 'E858' '250.5' 'E980' '846' '312' '286' '442' '318' 'V08'\n",
      " '747' '94' '416' '991' '365' '220' 'E943' '836' '882' '308']\n"
     ]
    }
   ],
   "source": [
    "for m in missing_cat:\n",
    "    print(df[m].unique())"
   ]
  },
  {
   "cell_type": "markdown",
   "id": "ef10a5a4",
   "metadata": {},
   "source": [
    "#### Preprocess 'discharge_disposition_id' column"
   ]
  },
  {
   "cell_type": "code",
   "execution_count": 8,
   "id": "11e0af99",
   "metadata": {},
   "outputs": [
    {
     "name": "stdout",
     "output_type": "stream",
     "text": [
      "20\n"
     ]
    },
    {
     "data": {
      "text/plain": [
       "array(['Discharged to home',\n",
       "       'Discharged/transferred to home with home health service',\n",
       "       'Discharged/transferred to SNF', 'Not Mapped',\n",
       "       'Discharged/transferred to another  type of inpatient care institution',\n",
       "       'Discharged/transferred to another short term hospital', 'missing',\n",
       "       'Expired',\n",
       "       'Discharged/transferred to another rehab fac including rehab units of a hospital.',\n",
       "       'Left AMA',\n",
       "       'Discharged/transferred/referred to a psychiatric hospital of a psychiatric distinct part unit of a hospital',\n",
       "       'Discharged/transferred to a long term care hospital.',\n",
       "       'Hospice / home',\n",
       "       'Discharged/transferred to home under care of Home IV provider',\n",
       "       'Discharged/transferred to ICF',\n",
       "       'Discharged/transferred/referred to this institution for outpatient services',\n",
       "       'Hospice / medical facility',\n",
       "       'Admitted as an inpatient to this hospital',\n",
       "       'Discharged/transferred/referred another institution for outpatient services',\n",
       "       'Discharged/transferred within this institution to Medicare approved swing bed'],\n",
       "      dtype=object)"
      ]
     },
     "execution_count": 8,
     "metadata": {},
     "output_type": "execute_result"
    }
   ],
   "source": [
    "print(len(df['discharge_disposition_id'].unique()))\n",
    "df['discharge_disposition_id'].unique()"
   ]
  },
  {
   "cell_type": "markdown",
   "id": "fb2b790e",
   "metadata": {},
   "source": [
    "* **'discharge_disposition_id' column has 20 unique values**"
   ]
  },
  {
   "cell_type": "markdown",
   "id": "45a75b08",
   "metadata": {},
   "source": [
    "#### Aggregate variables in 'discharge_disposition_id' column\n",
    "* Any row contains 'Hospice ...' will become 'Hospice'\n",
    "* Any row contains 'Admitted ...' will become 'Admitted'"
   ]
  },
  {
   "cell_type": "code",
   "execution_count": 31,
   "id": "d4108908",
   "metadata": {},
   "outputs": [
    {
     "name": "stdout",
     "output_type": "stream",
     "text": [
      "19\n"
     ]
    },
    {
     "data": {
      "text/plain": [
       "array(['Discharged to home',\n",
       "       'Discharged/transferred to home with home health service',\n",
       "       'Discharged/transferred to SNF', 'Not Mapped',\n",
       "       'Discharged/transferred to another  type of inpatient care institution',\n",
       "       'Discharged/transferred to another short term hospital', 'missing',\n",
       "       'Expired',\n",
       "       'Discharged/transferred to another rehab fac including rehab units of a hospital.',\n",
       "       'Left AMA',\n",
       "       'Discharged/transferred/referred to a psychiatric hospital of a psychiatric distinct part unit of a hospital',\n",
       "       'Discharged/transferred to a long term care hospital.', 'Hospice',\n",
       "       'Discharged/transferred to home under care of Home IV provider',\n",
       "       'Discharged/transferred to ICF',\n",
       "       'Discharged/transferred/referred to this institution for outpatient services',\n",
       "       'Admitted',\n",
       "       'Discharged/transferred/referred another institution for outpatient services',\n",
       "       'Discharged/transferred within this institution to Medicare approved swing bed'],\n",
       "      dtype=object)"
      ]
     },
     "execution_count": 31,
     "metadata": {},
     "output_type": "execute_result"
    }
   ],
   "source": [
    "# replace rows contain 'Hospice ...' to 'Hospice'\n",
    "df['discharge_disposition_id'] = df['discharge_disposition_id'].replace([\n",
    "    'Hospice / home', 'Hospice / medical facility'\n",
    "], 'Hospice')\n",
    "\n",
    "\n",
    "# replace rows contain 'Admitted ... ' to 'Admitted'\n",
    "df['discharge_disposition_id'] = df['discharge_disposition_id'].replace(\n",
    "    'Admitted as an inpatient to this hospital', 'Admitted')\n",
    "\n",
    "print(len(df['discharge_disposition_id'].unique()))\n",
    "df['discharge_disposition_id'].unique()"
   ]
  },
  {
   "cell_type": "markdown",
   "id": "36f9c393",
   "metadata": {},
   "source": [
    "#### Removed code with ‘Expired’ & 'Hospice' since they're not helpful to predict readmission"
   ]
  },
  {
   "cell_type": "code",
   "execution_count": 32,
   "id": "207b002a",
   "metadata": {},
   "outputs": [],
   "source": [
    "# removed disposition code with ‘Expired’ & 'Hospice' \n",
    "df = df[(df.discharge_disposition_id != 'Expired') & (df.discharge_disposition_id != 'Hospice')]"
   ]
  },
  {
   "cell_type": "code",
   "execution_count": 11,
   "id": "4ea78672",
   "metadata": {},
   "outputs": [
    {
     "name": "stdout",
     "output_type": "stream",
     "text": [
      "['Discharged to home'\n",
      " 'Discharged/transferred to home with home health service'\n",
      " 'Discharged/transferred to SNF' 'Not Mapped'\n",
      " 'Discharged/transferred to another  type of inpatient care institution'\n",
      " 'Discharged/transferred to another short term hospital' 'missing'\n",
      " 'Discharged/transferred to another rehab fac including rehab units of a hospital.'\n",
      " 'Left AMA'\n",
      " 'Discharged/transferred/referred to a psychiatric hospital of a psychiatric distinct part unit of a hospital'\n",
      " 'Discharged/transferred to a long term care hospital.'\n",
      " 'Discharged/transferred to home under care of Home IV provider'\n",
      " 'Discharged/transferred to ICF'\n",
      " 'Discharged/transferred/referred to this institution for outpatient services'\n",
      " 'Admitted'\n",
      " 'Discharged/transferred/referred another institution for outpatient services'\n",
      " 'Discharged/transferred within this institution to Medicare approved swing bed']\n"
     ]
    }
   ],
   "source": [
    "print(df['discharge_disposition_id'].unique())"
   ]
  },
  {
   "cell_type": "code",
   "execution_count": 23,
   "id": "41a21a51",
   "metadata": {},
   "outputs": [
    {
     "data": {
      "text/plain": [
       "Index(['discharge_disposition_id', 'admission_source_id', 'payer_code',\n",
       "       'medical_specialty', 'num_lab_procedures', 'num_procedures',\n",
       "       'num_medications', 'number_outpatient', 'number_emergency',\n",
       "       'number_diagnoses', 'max_glu_serum', 'metformin', 'repaglinide',\n",
       "       'nateglinide', 'chlorpropamide', 'glimepiride', 'acetohexamide',\n",
       "       'glipizide', 'glyburide', 'tolbutamide', 'pioglitazone',\n",
       "       'rosiglitazone', 'acarbose', 'miglitol', 'troglitazone', 'tolazamide',\n",
       "       'examide', 'citoglipton', 'insulin', 'glyburide.metformin',\n",
       "       'glipizide.metformin', 'glimepiride.pioglitazone',\n",
       "       'metformin.rosiglitazone', 'metformin.pioglitazone', 'change',\n",
       "       'diabetesMed', 'readmitted', '2nd_diag', '3rd_diag', 'ai_response'],\n",
       "      dtype='object')"
      ]
     },
     "execution_count": 23,
     "metadata": {},
     "output_type": "execute_result"
    }
   ],
   "source": [
    "df.columns"
   ]
  },
  {
   "cell_type": "markdown",
   "id": "65aea3ac",
   "metadata": {},
   "source": [
    "###  Data split"
   ]
  },
  {
   "cell_type": "code",
   "execution_count": 33,
   "id": "a37cc65b",
   "metadata": {},
   "outputs": [],
   "source": [
    "# drop target vector\n",
    "X = df.drop(['readmitted'], axis=1)\n",
    "y = df['readmitted']"
   ]
  },
  {
   "cell_type": "code",
   "execution_count": 34,
   "id": "82dfe28b",
   "metadata": {},
   "outputs": [],
   "source": [
    "from sklearn.model_selection import train_test_split\n",
    "\n",
    "# split data into training and testing\n",
    "X_train, X_test, y_train, y_test = train_test_split(X, y, test_size=0.2, random_state=123)"
   ]
  },
  {
   "cell_type": "code",
   "execution_count": 35,
   "id": "f8520311",
   "metadata": {},
   "outputs": [
    {
     "name": "stdout",
     "output_type": "stream",
     "text": [
      "(6237, 32) (1560, 32) (6237,) (1560,)\n"
     ]
    }
   ],
   "source": [
    "print(X_train.shape, X_test.shape, y_train.shape, y_test.shape)"
   ]
  },
  {
   "cell_type": "markdown",
   "id": "b6a8d59c",
   "metadata": {},
   "source": [
    "### Get columns based on data types"
   ]
  },
  {
   "cell_type": "code",
   "execution_count": 36,
   "id": "6f02fca7",
   "metadata": {
    "scrolled": true
   },
   "outputs": [],
   "source": [
    "# determine categorical and numerical features\n",
    "numerical_features = X.select_dtypes('number').columns\n",
    "categorical_features = X.select_dtypes('object').columns"
   ]
  },
  {
   "cell_type": "markdown",
   "id": "36c4305d",
   "metadata": {},
   "source": [
    "### 2. Pre-processed categorical data for use in the model and justified pre-processing method. Note this may be different for each algorithm you try. [10 pts]"
   ]
  },
  {
   "cell_type": "code",
   "execution_count": 37,
   "id": "90e60cae",
   "metadata": {},
   "outputs": [
    {
     "data": {
      "text/html": [
       "<div>\n",
       "<style scoped>\n",
       "    .dataframe tbody tr th:only-of-type {\n",
       "        vertical-align: middle;\n",
       "    }\n",
       "\n",
       "    .dataframe tbody tr th {\n",
       "        vertical-align: top;\n",
       "    }\n",
       "\n",
       "    .dataframe thead th {\n",
       "        text-align: right;\n",
       "    }\n",
       "</style>\n",
       "<table border=\"1\" class=\"dataframe\">\n",
       "  <thead>\n",
       "    <tr style=\"text-align: right;\">\n",
       "      <th></th>\n",
       "      <th>discharge_disposition_id</th>\n",
       "      <th>admission_source_id</th>\n",
       "      <th>payer_code</th>\n",
       "      <th>medical_specialty</th>\n",
       "      <th>max_glu_serum</th>\n",
       "      <th>metformin</th>\n",
       "      <th>repaglinide</th>\n",
       "      <th>nateglinide</th>\n",
       "      <th>chlorpropamide</th>\n",
       "      <th>glimepiride</th>\n",
       "      <th>...</th>\n",
       "      <th>miglitol</th>\n",
       "      <th>tolazamide</th>\n",
       "      <th>insulin</th>\n",
       "      <th>glyburide.metformin</th>\n",
       "      <th>glipizide.metformin</th>\n",
       "      <th>change</th>\n",
       "      <th>diabetesMed</th>\n",
       "      <th>2nd_diag</th>\n",
       "      <th>3rd_diag</th>\n",
       "      <th>ai_response</th>\n",
       "    </tr>\n",
       "  </thead>\n",
       "  <tbody>\n",
       "    <tr>\n",
       "      <th>4663</th>\n",
       "      <td>Discharged to home</td>\n",
       "      <td>Physician Referral</td>\n",
       "      <td>missing</td>\n",
       "      <td>missing</td>\n",
       "      <td>missing</td>\n",
       "      <td>No</td>\n",
       "      <td>No</td>\n",
       "      <td>No</td>\n",
       "      <td>No</td>\n",
       "      <td>No</td>\n",
       "      <td>...</td>\n",
       "      <td>No</td>\n",
       "      <td>No</td>\n",
       "      <td>Steady</td>\n",
       "      <td>No</td>\n",
       "      <td>No</td>\n",
       "      <td>No</td>\n",
       "      <td>Yes</td>\n",
       "      <td>997</td>\n",
       "      <td>998</td>\n",
       "      <td>Based on the information provided, diagnosis c...</td>\n",
       "    </tr>\n",
       "    <tr>\n",
       "      <th>4694</th>\n",
       "      <td>Discharged to home</td>\n",
       "      <td>Emergency Room</td>\n",
       "      <td>missing</td>\n",
       "      <td>missing</td>\n",
       "      <td>missing</td>\n",
       "      <td>No</td>\n",
       "      <td>No</td>\n",
       "      <td>No</td>\n",
       "      <td>No</td>\n",
       "      <td>No</td>\n",
       "      <td>...</td>\n",
       "      <td>No</td>\n",
       "      <td>No</td>\n",
       "      <td>No</td>\n",
       "      <td>No</td>\n",
       "      <td>No</td>\n",
       "      <td>Ch</td>\n",
       "      <td>Yes</td>\n",
       "      <td>424</td>\n",
       "      <td>428</td>\n",
       "      <td>Based on the information provided, it is not p...</td>\n",
       "    </tr>\n",
       "    <tr>\n",
       "      <th>1306</th>\n",
       "      <td>Discharged to home</td>\n",
       "      <td>Emergency Room</td>\n",
       "      <td>HM</td>\n",
       "      <td>InternalMedicine</td>\n",
       "      <td>missing</td>\n",
       "      <td>No</td>\n",
       "      <td>No</td>\n",
       "      <td>No</td>\n",
       "      <td>No</td>\n",
       "      <td>No</td>\n",
       "      <td>...</td>\n",
       "      <td>No</td>\n",
       "      <td>No</td>\n",
       "      <td>Up</td>\n",
       "      <td>No</td>\n",
       "      <td>No</td>\n",
       "      <td>Ch</td>\n",
       "      <td>Yes</td>\n",
       "      <td>401</td>\n",
       "      <td>530</td>\n",
       "      <td>Based on the information provided, the patient...</td>\n",
       "    </tr>\n",
       "  </tbody>\n",
       "</table>\n",
       "<p>3 rows × 26 columns</p>\n",
       "</div>"
      ],
      "text/plain": [
       "     discharge_disposition_id admission_source_id payer_code  \\\n",
       "4663       Discharged to home  Physician Referral    missing   \n",
       "4694       Discharged to home      Emergency Room    missing   \n",
       "1306       Discharged to home      Emergency Room         HM   \n",
       "\n",
       "     medical_specialty max_glu_serum metformin repaglinide nateglinide  \\\n",
       "4663           missing       missing        No          No          No   \n",
       "4694           missing       missing        No          No          No   \n",
       "1306  InternalMedicine       missing        No          No          No   \n",
       "\n",
       "     chlorpropamide glimepiride  ... miglitol tolazamide insulin  \\\n",
       "4663             No          No  ...       No         No  Steady   \n",
       "4694             No          No  ...       No         No      No   \n",
       "1306             No          No  ...       No         No      Up   \n",
       "\n",
       "     glyburide.metformin glipizide.metformin change diabetesMed 2nd_diag  \\\n",
       "4663                  No                  No     No         Yes      997   \n",
       "4694                  No                  No     Ch         Yes      424   \n",
       "1306                  No                  No     Ch         Yes      401   \n",
       "\n",
       "     3rd_diag                                        ai_response  \n",
       "4663      998  Based on the information provided, diagnosis c...  \n",
       "4694      428  Based on the information provided, it is not p...  \n",
       "1306      530  Based on the information provided, the patient...  \n",
       "\n",
       "[3 rows x 26 columns]"
      ]
     },
     "execution_count": 37,
     "metadata": {},
     "output_type": "execute_result"
    }
   ],
   "source": [
    "X_train[categorical_features].head(3)"
   ]
  },
  {
   "cell_type": "code",
   "execution_count": 39,
   "id": "70da63c0",
   "metadata": {},
   "outputs": [
    {
     "data": {
      "text/plain": [
       "discharge_disposition_id      17\n",
       "admission_source_id           11\n",
       "payer_code                    16\n",
       "medical_specialty             51\n",
       "max_glu_serum                  4\n",
       "metformin                      4\n",
       "repaglinide                    4\n",
       "nateglinide                    4\n",
       "chlorpropamide                 3\n",
       "glimepiride                    4\n",
       "glipizide                      4\n",
       "glyburide                      4\n",
       "tolbutamide                    2\n",
       "pioglitazone                   4\n",
       "rosiglitazone                  4\n",
       "acarbose                       3\n",
       "miglitol                       4\n",
       "tolazamide                     2\n",
       "insulin                        4\n",
       "glyburide.metformin            4\n",
       "glipizide.metformin            2\n",
       "change                         2\n",
       "diabetesMed                    2\n",
       "2nd_diag                     390\n",
       "3rd_diag                     425\n",
       "ai_response                 6760\n",
       "dtype: int64"
      ]
     },
     "execution_count": 39,
     "metadata": {},
     "output_type": "execute_result"
    }
   ],
   "source": [
    "cat_feat = X[categorical_features].nunique()\n",
    "cat_feat"
   ]
  },
  {
   "cell_type": "code",
   "execution_count": 40,
   "id": "71189061",
   "metadata": {},
   "outputs": [
    {
     "name": "stdout",
     "output_type": "stream",
     "text": [
      "['discharge_disposition_id', 'admission_source_id', 'payer_code', 'medical_specialty', '2nd_diag', '3rd_diag', 'ai_response'] \n",
      " ['tolbutamide', 'tolazamide', 'glipizide.metformin', 'change', 'diabetesMed'] \n",
      " ['max_glu_serum', 'metformin', 'repaglinide', 'nateglinide', 'chlorpropamide', 'glimepiride', 'glipizide', 'glyburide', 'pioglitazone', 'rosiglitazone', 'acarbose', 'miglitol', 'insulin', 'glyburide.metformin']\n"
     ]
    }
   ],
   "source": [
    "# separate category features based on number of unique values\n",
    "\n",
    "high_arr = []\n",
    "low_arr = []\n",
    "mid_arr = []\n",
    "\n",
    "for i, t in cat_feat.items():\n",
    "    if t <= 2:\n",
    "        low_arr.append(i)\n",
    "    elif t <= 4:\n",
    "        mid_arr.append(i)\n",
    "    else:\n",
    "        high_arr.append(i)\n",
    "print(high_arr, '\\n' , low_arr, '\\n', mid_arr)"
   ]
  },
  {
   "cell_type": "markdown",
   "id": "58652444",
   "metadata": {},
   "source": [
    "### Encoding categorical data"
   ]
  },
  {
   "cell_type": "markdown",
   "id": "7b9751d6",
   "metadata": {},
   "source": [
    "* Target encoding can cause target leakage since it's using target variable to encode\n",
    "* One-hot encoding for categorical feature with high cardinality can make data very sparse\n"
   ]
  },
  {
   "cell_type": "code",
   "execution_count": 113,
   "id": "0bed72a2",
   "metadata": {},
   "outputs": [
    {
     "name": "stdout",
     "output_type": "stream",
     "text": [
      "Requirement already satisfied: category_encoders in c:\\users\\nguye\\anaconda3\\lib\\site-packages (2.6.3)\n",
      "Requirement already satisfied: numpy>=1.14.0 in c:\\users\\nguye\\anaconda3\\lib\\site-packages (from category_encoders) (1.24.3)\n",
      "Requirement already satisfied: scikit-learn>=0.20.0 in c:\\users\\nguye\\anaconda3\\lib\\site-packages (from category_encoders) (1.3.0)\n",
      "Requirement already satisfied: scipy>=1.0.0 in c:\\users\\nguye\\anaconda3\\lib\\site-packages (from category_encoders) (1.11.1)\n",
      "Requirement already satisfied: statsmodels>=0.9.0 in c:\\users\\nguye\\anaconda3\\lib\\site-packages (from category_encoders) (0.14.0)\n",
      "Requirement already satisfied: pandas>=1.0.5 in c:\\users\\nguye\\anaconda3\\lib\\site-packages (from category_encoders) (2.0.3)\n",
      "Requirement already satisfied: patsy>=0.5.1 in c:\\users\\nguye\\anaconda3\\lib\\site-packages (from category_encoders) (0.5.3)\n",
      "Requirement already satisfied: python-dateutil>=2.8.2 in c:\\users\\nguye\\anaconda3\\lib\\site-packages (from pandas>=1.0.5->category_encoders) (2.8.2)\n",
      "Requirement already satisfied: pytz>=2020.1 in c:\\users\\nguye\\anaconda3\\lib\\site-packages (from pandas>=1.0.5->category_encoders) (2023.3.post1)\n",
      "Requirement already satisfied: tzdata>=2022.1 in c:\\users\\nguye\\anaconda3\\lib\\site-packages (from pandas>=1.0.5->category_encoders) (2023.3)\n",
      "Requirement already satisfied: six in c:\\users\\nguye\\anaconda3\\lib\\site-packages (from patsy>=0.5.1->category_encoders) (1.16.0)\n",
      "Requirement already satisfied: joblib>=1.1.1 in c:\\users\\nguye\\anaconda3\\lib\\site-packages (from scikit-learn>=0.20.0->category_encoders) (1.2.0)\n",
      "Requirement already satisfied: threadpoolctl>=2.0.0 in c:\\users\\nguye\\anaconda3\\lib\\site-packages (from scikit-learn>=0.20.0->category_encoders) (2.2.0)\n",
      "Requirement already satisfied: packaging>=21.3 in c:\\users\\nguye\\anaconda3\\lib\\site-packages (from statsmodels>=0.9.0->category_encoders) (23.1)\n",
      "Note: you may need to restart the kernel to use updated packages.\n"
     ]
    }
   ],
   "source": [
    "pip install category_encoders"
   ]
  },
  {
   "cell_type": "code",
   "execution_count": 42,
   "id": "af5f26bb",
   "metadata": {},
   "outputs": [],
   "source": [
    "# encode starts here\n",
    "from sklearn.pipeline import Pipeline\n",
    "import category_encoders as ce\n",
    "from sklearn.preprocessing import OrdinalEncoder\n",
    "\n",
    "# transform high categorical features using Count/Frequency Encoding \n",
    "categorical_transformer = ce.CountEncoder()\n",
    "\n",
    "# exclude ai_response\n",
    "categorical_features_only = high_arr[:-1]\n",
    "\n",
    "X_train[categorical_features_only] = categorical_transformer.fit_transform(X_train[categorical_features_only])\n",
    "X_test[categorical_features_only] = categorical_transformer.transform(X_test[categorical_features_only])\n"
   ]
  },
  {
   "cell_type": "markdown",
   "id": "86314783",
   "metadata": {},
   "source": [
    "#### I apply Frequency Encoding for features with high cardinalities because\n",
    "* it helps model to assign the weight in direct and inverse proportion\n",
    "* it doesn't expand the feature space\n",
    "* it works well with tree-based algorithms"
   ]
  },
  {
   "cell_type": "code",
   "execution_count": 43,
   "id": "c6bfe6b8",
   "metadata": {},
   "outputs": [
    {
     "data": {
      "text/html": [
       "<div>\n",
       "<style scoped>\n",
       "    .dataframe tbody tr th:only-of-type {\n",
       "        vertical-align: middle;\n",
       "    }\n",
       "\n",
       "    .dataframe tbody tr th {\n",
       "        vertical-align: top;\n",
       "    }\n",
       "\n",
       "    .dataframe thead th {\n",
       "        text-align: right;\n",
       "    }\n",
       "</style>\n",
       "<table border=\"1\" class=\"dataframe\">\n",
       "  <thead>\n",
       "    <tr style=\"text-align: right;\">\n",
       "      <th></th>\n",
       "      <th>discharge_disposition_id</th>\n",
       "      <th>admission_source_id</th>\n",
       "      <th>payer_code</th>\n",
       "      <th>medical_specialty</th>\n",
       "      <th>num_lab_procedures</th>\n",
       "      <th>num_procedures</th>\n",
       "      <th>num_medications</th>\n",
       "      <th>number_outpatient</th>\n",
       "      <th>number_emergency</th>\n",
       "      <th>number_diagnoses</th>\n",
       "      <th>...</th>\n",
       "      <th>miglitol</th>\n",
       "      <th>tolazamide</th>\n",
       "      <th>insulin</th>\n",
       "      <th>glyburide.metformin</th>\n",
       "      <th>glipizide.metformin</th>\n",
       "      <th>change</th>\n",
       "      <th>diabetesMed</th>\n",
       "      <th>2nd_diag</th>\n",
       "      <th>3rd_diag</th>\n",
       "      <th>ai_response</th>\n",
       "    </tr>\n",
       "  </thead>\n",
       "  <tbody>\n",
       "    <tr>\n",
       "      <th>4663</th>\n",
       "      <td>3901</td>\n",
       "      <td>1903</td>\n",
       "      <td>3346</td>\n",
       "      <td>2530</td>\n",
       "      <td>12</td>\n",
       "      <td>6</td>\n",
       "      <td>14</td>\n",
       "      <td>0</td>\n",
       "      <td>0</td>\n",
       "      <td>9</td>\n",
       "      <td>...</td>\n",
       "      <td>No</td>\n",
       "      <td>No</td>\n",
       "      <td>Steady</td>\n",
       "      <td>No</td>\n",
       "      <td>No</td>\n",
       "      <td>No</td>\n",
       "      <td>Yes</td>\n",
       "      <td>9</td>\n",
       "      <td>88</td>\n",
       "      <td>Based on the information provided, diagnosis c...</td>\n",
       "    </tr>\n",
       "    <tr>\n",
       "      <th>4694</th>\n",
       "      <td>3901</td>\n",
       "      <td>3059</td>\n",
       "      <td>3346</td>\n",
       "      <td>2530</td>\n",
       "      <td>75</td>\n",
       "      <td>0</td>\n",
       "      <td>20</td>\n",
       "      <td>0</td>\n",
       "      <td>0</td>\n",
       "      <td>9</td>\n",
       "      <td>...</td>\n",
       "      <td>No</td>\n",
       "      <td>No</td>\n",
       "      <td>No</td>\n",
       "      <td>No</td>\n",
       "      <td>No</td>\n",
       "      <td>Ch</td>\n",
       "      <td>Yes</td>\n",
       "      <td>85</td>\n",
       "      <td>373</td>\n",
       "      <td>Based on the information provided, it is not p...</td>\n",
       "    </tr>\n",
       "    <tr>\n",
       "      <th>1306</th>\n",
       "      <td>3901</td>\n",
       "      <td>3059</td>\n",
       "      <td>291</td>\n",
       "      <td>1195</td>\n",
       "      <td>48</td>\n",
       "      <td>1</td>\n",
       "      <td>17</td>\n",
       "      <td>0</td>\n",
       "      <td>0</td>\n",
       "      <td>7</td>\n",
       "      <td>...</td>\n",
       "      <td>No</td>\n",
       "      <td>No</td>\n",
       "      <td>Up</td>\n",
       "      <td>No</td>\n",
       "      <td>No</td>\n",
       "      <td>Ch</td>\n",
       "      <td>Yes</td>\n",
       "      <td>497</td>\n",
       "      <td>43</td>\n",
       "      <td>Based on the information provided, the patient...</td>\n",
       "    </tr>\n",
       "  </tbody>\n",
       "</table>\n",
       "<p>3 rows × 32 columns</p>\n",
       "</div>"
      ],
      "text/plain": [
       "      discharge_disposition_id  admission_source_id  payer_code  \\\n",
       "4663                      3901                 1903        3346   \n",
       "4694                      3901                 3059        3346   \n",
       "1306                      3901                 3059         291   \n",
       "\n",
       "      medical_specialty  num_lab_procedures  num_procedures  num_medications  \\\n",
       "4663               2530                  12               6               14   \n",
       "4694               2530                  75               0               20   \n",
       "1306               1195                  48               1               17   \n",
       "\n",
       "      number_outpatient  number_emergency  number_diagnoses  ... miglitol  \\\n",
       "4663                  0                 0                 9  ...       No   \n",
       "4694                  0                 0                 9  ...       No   \n",
       "1306                  0                 0                 7  ...       No   \n",
       "\n",
       "     tolazamide insulin glyburide.metformin glipizide.metformin change  \\\n",
       "4663         No  Steady                  No                  No     No   \n",
       "4694         No      No                  No                  No     Ch   \n",
       "1306         No      Up                  No                  No     Ch   \n",
       "\n",
       "     diabetesMed 2nd_diag 3rd_diag  \\\n",
       "4663         Yes        9       88   \n",
       "4694         Yes       85      373   \n",
       "1306         Yes      497       43   \n",
       "\n",
       "                                            ai_response  \n",
       "4663  Based on the information provided, diagnosis c...  \n",
       "4694  Based on the information provided, it is not p...  \n",
       "1306  Based on the information provided, the patient...  \n",
       "\n",
       "[3 rows x 32 columns]"
      ]
     },
     "execution_count": 43,
     "metadata": {},
     "output_type": "execute_result"
    }
   ],
   "source": [
    "X_train.head(3)"
   ]
  },
  {
   "cell_type": "code",
   "execution_count": 45,
   "id": "9cfcc786",
   "metadata": {},
   "outputs": [
    {
     "data": {
      "text/html": [
       "<div>\n",
       "<style scoped>\n",
       "    .dataframe tbody tr th:only-of-type {\n",
       "        vertical-align: middle;\n",
       "    }\n",
       "\n",
       "    .dataframe tbody tr th {\n",
       "        vertical-align: top;\n",
       "    }\n",
       "\n",
       "    .dataframe thead th {\n",
       "        text-align: right;\n",
       "    }\n",
       "</style>\n",
       "<table border=\"1\" class=\"dataframe\">\n",
       "  <thead>\n",
       "    <tr style=\"text-align: right;\">\n",
       "      <th></th>\n",
       "      <th>tolbutamide</th>\n",
       "      <th>tolazamide</th>\n",
       "      <th>glipizide.metformin</th>\n",
       "      <th>change</th>\n",
       "      <th>diabetesMed</th>\n",
       "    </tr>\n",
       "  </thead>\n",
       "  <tbody>\n",
       "    <tr>\n",
       "      <th>4663</th>\n",
       "      <td>No</td>\n",
       "      <td>No</td>\n",
       "      <td>No</td>\n",
       "      <td>No</td>\n",
       "      <td>Yes</td>\n",
       "    </tr>\n",
       "    <tr>\n",
       "      <th>4694</th>\n",
       "      <td>No</td>\n",
       "      <td>No</td>\n",
       "      <td>No</td>\n",
       "      <td>Ch</td>\n",
       "      <td>Yes</td>\n",
       "    </tr>\n",
       "    <tr>\n",
       "      <th>1306</th>\n",
       "      <td>No</td>\n",
       "      <td>No</td>\n",
       "      <td>No</td>\n",
       "      <td>Ch</td>\n",
       "      <td>Yes</td>\n",
       "    </tr>\n",
       "    <tr>\n",
       "      <th>1875</th>\n",
       "      <td>No</td>\n",
       "      <td>No</td>\n",
       "      <td>No</td>\n",
       "      <td>Ch</td>\n",
       "      <td>Yes</td>\n",
       "    </tr>\n",
       "    <tr>\n",
       "      <th>3739</th>\n",
       "      <td>No</td>\n",
       "      <td>No</td>\n",
       "      <td>No</td>\n",
       "      <td>No</td>\n",
       "      <td>No</td>\n",
       "    </tr>\n",
       "    <tr>\n",
       "      <th>...</th>\n",
       "      <td>...</td>\n",
       "      <td>...</td>\n",
       "      <td>...</td>\n",
       "      <td>...</td>\n",
       "      <td>...</td>\n",
       "    </tr>\n",
       "    <tr>\n",
       "      <th>4168</th>\n",
       "      <td>No</td>\n",
       "      <td>No</td>\n",
       "      <td>No</td>\n",
       "      <td>No</td>\n",
       "      <td>Yes</td>\n",
       "    </tr>\n",
       "    <tr>\n",
       "      <th>1369</th>\n",
       "      <td>No</td>\n",
       "      <td>No</td>\n",
       "      <td>No</td>\n",
       "      <td>Ch</td>\n",
       "      <td>Yes</td>\n",
       "    </tr>\n",
       "    <tr>\n",
       "      <th>3539</th>\n",
       "      <td>No</td>\n",
       "      <td>No</td>\n",
       "      <td>No</td>\n",
       "      <td>No</td>\n",
       "      <td>No</td>\n",
       "    </tr>\n",
       "    <tr>\n",
       "      <th>7730</th>\n",
       "      <td>No</td>\n",
       "      <td>No</td>\n",
       "      <td>No</td>\n",
       "      <td>No</td>\n",
       "      <td>Yes</td>\n",
       "    </tr>\n",
       "    <tr>\n",
       "      <th>3669</th>\n",
       "      <td>No</td>\n",
       "      <td>No</td>\n",
       "      <td>No</td>\n",
       "      <td>Ch</td>\n",
       "      <td>Yes</td>\n",
       "    </tr>\n",
       "  </tbody>\n",
       "</table>\n",
       "<p>6237 rows × 5 columns</p>\n",
       "</div>"
      ],
      "text/plain": [
       "     tolbutamide tolazamide glipizide.metformin change diabetesMed\n",
       "4663          No         No                  No     No         Yes\n",
       "4694          No         No                  No     Ch         Yes\n",
       "1306          No         No                  No     Ch         Yes\n",
       "1875          No         No                  No     Ch         Yes\n",
       "3739          No         No                  No     No          No\n",
       "...          ...        ...                 ...    ...         ...\n",
       "4168          No         No                  No     No         Yes\n",
       "1369          No         No                  No     Ch         Yes\n",
       "3539          No         No                  No     No          No\n",
       "7730          No         No                  No     No         Yes\n",
       "3669          No         No                  No     Ch         Yes\n",
       "\n",
       "[6237 rows x 5 columns]"
      ]
     },
     "execution_count": 45,
     "metadata": {},
     "output_type": "execute_result"
    }
   ],
   "source": [
    "X_train[low_arr]"
   ]
  },
  {
   "cell_type": "code",
   "execution_count": 70,
   "id": "846a76c5",
   "metadata": {},
   "outputs": [],
   "source": [
    "# encode low category features\n",
    "X_train[low_arr] = X_train[low_arr].replace({'No': 0, 'Ch': 1, 'Steady': 1, 'Yes': 1}).astype(int)\n",
    "X_test[low_arr] = X_test[low_arr].replace({'No': 0, 'Ch': 1, 'Steady': 1, 'Yes': 1}).astype(int)"
   ]
  },
  {
   "cell_type": "markdown",
   "id": "2538431c",
   "metadata": {},
   "source": [
    "* **I preprocess category features with 2 values by replacing with 0, 1 to represent No and Yes**"
   ]
  },
  {
   "cell_type": "code",
   "execution_count": 71,
   "id": "85c643e1",
   "metadata": {},
   "outputs": [
    {
     "data": {
      "text/html": [
       "<div>\n",
       "<style scoped>\n",
       "    .dataframe tbody tr th:only-of-type {\n",
       "        vertical-align: middle;\n",
       "    }\n",
       "\n",
       "    .dataframe tbody tr th {\n",
       "        vertical-align: top;\n",
       "    }\n",
       "\n",
       "    .dataframe thead th {\n",
       "        text-align: right;\n",
       "    }\n",
       "</style>\n",
       "<table border=\"1\" class=\"dataframe\">\n",
       "  <thead>\n",
       "    <tr style=\"text-align: right;\">\n",
       "      <th></th>\n",
       "      <th>discharge_disposition_id</th>\n",
       "      <th>admission_source_id</th>\n",
       "      <th>payer_code</th>\n",
       "      <th>medical_specialty</th>\n",
       "      <th>num_lab_procedures</th>\n",
       "      <th>num_procedures</th>\n",
       "      <th>num_medications</th>\n",
       "      <th>number_outpatient</th>\n",
       "      <th>number_emergency</th>\n",
       "      <th>number_diagnoses</th>\n",
       "      <th>...</th>\n",
       "      <th>miglitol</th>\n",
       "      <th>tolazamide</th>\n",
       "      <th>insulin</th>\n",
       "      <th>glyburide.metformin</th>\n",
       "      <th>glipizide.metformin</th>\n",
       "      <th>change</th>\n",
       "      <th>diabetesMed</th>\n",
       "      <th>2nd_diag</th>\n",
       "      <th>3rd_diag</th>\n",
       "      <th>ai_response</th>\n",
       "    </tr>\n",
       "  </thead>\n",
       "  <tbody>\n",
       "    <tr>\n",
       "      <th>4663</th>\n",
       "      <td>3901</td>\n",
       "      <td>1903</td>\n",
       "      <td>3346</td>\n",
       "      <td>2530</td>\n",
       "      <td>-1.595454</td>\n",
       "      <td>2.690641</td>\n",
       "      <td>-0.185057</td>\n",
       "      <td>-0.286904</td>\n",
       "      <td>-0.229246</td>\n",
       "      <td>0.984454</td>\n",
       "      <td>...</td>\n",
       "      <td>0</td>\n",
       "      <td>0</td>\n",
       "      <td>2</td>\n",
       "      <td>0</td>\n",
       "      <td>0</td>\n",
       "      <td>0</td>\n",
       "      <td>1</td>\n",
       "      <td>9</td>\n",
       "      <td>88</td>\n",
       "      <td>Based information provided, diagnosis code 440...</td>\n",
       "    </tr>\n",
       "    <tr>\n",
       "      <th>4694</th>\n",
       "      <td>3901</td>\n",
       "      <td>3059</td>\n",
       "      <td>3346</td>\n",
       "      <td>2530</td>\n",
       "      <td>1.639609</td>\n",
       "      <td>-0.823815</td>\n",
       "      <td>0.534818</td>\n",
       "      <td>-0.286904</td>\n",
       "      <td>-0.229246</td>\n",
       "      <td>0.984454</td>\n",
       "      <td>...</td>\n",
       "      <td>0</td>\n",
       "      <td>0</td>\n",
       "      <td>0</td>\n",
       "      <td>0</td>\n",
       "      <td>0</td>\n",
       "      <td>1</td>\n",
       "      <td>1</td>\n",
       "      <td>85</td>\n",
       "      <td>373</td>\n",
       "      <td>Based information provided, possible accuratel...</td>\n",
       "    </tr>\n",
       "    <tr>\n",
       "      <th>1306</th>\n",
       "      <td>3901</td>\n",
       "      <td>3059</td>\n",
       "      <td>291</td>\n",
       "      <td>1195</td>\n",
       "      <td>0.253153</td>\n",
       "      <td>-0.238072</td>\n",
       "      <td>0.174881</td>\n",
       "      <td>-0.286904</td>\n",
       "      <td>-0.229246</td>\n",
       "      <td>-0.002849</td>\n",
       "      <td>...</td>\n",
       "      <td>0</td>\n",
       "      <td>0</td>\n",
       "      <td>3</td>\n",
       "      <td>0</td>\n",
       "      <td>0</td>\n",
       "      <td>1</td>\n",
       "      <td>1</td>\n",
       "      <td>497</td>\n",
       "      <td>43</td>\n",
       "      <td>Based information provided, patient diagnosis ...</td>\n",
       "    </tr>\n",
       "  </tbody>\n",
       "</table>\n",
       "<p>3 rows × 32 columns</p>\n",
       "</div>"
      ],
      "text/plain": [
       "      discharge_disposition_id  admission_source_id  payer_code  \\\n",
       "4663                      3901                 1903        3346   \n",
       "4694                      3901                 3059        3346   \n",
       "1306                      3901                 3059         291   \n",
       "\n",
       "      medical_specialty  num_lab_procedures  num_procedures  num_medications  \\\n",
       "4663               2530           -1.595454        2.690641        -0.185057   \n",
       "4694               2530            1.639609       -0.823815         0.534818   \n",
       "1306               1195            0.253153       -0.238072         0.174881   \n",
       "\n",
       "      number_outpatient  number_emergency  number_diagnoses  ...  miglitol  \\\n",
       "4663          -0.286904         -0.229246          0.984454  ...         0   \n",
       "4694          -0.286904         -0.229246          0.984454  ...         0   \n",
       "1306          -0.286904         -0.229246         -0.002849  ...         0   \n",
       "\n",
       "      tolazamide  insulin  glyburide.metformin  glipizide.metformin  change  \\\n",
       "4663           0        2                    0                    0       0   \n",
       "4694           0        0                    0                    0       1   \n",
       "1306           0        3                    0                    0       1   \n",
       "\n",
       "      diabetesMed  2nd_diag  3rd_diag  \\\n",
       "4663            1         9        88   \n",
       "4694            1        85       373   \n",
       "1306            1       497        43   \n",
       "\n",
       "                                            ai_response  \n",
       "4663  Based information provided, diagnosis code 440...  \n",
       "4694  Based information provided, possible accuratel...  \n",
       "1306  Based information provided, patient diagnosis ...  \n",
       "\n",
       "[3 rows x 32 columns]"
      ]
     },
     "execution_count": 71,
     "metadata": {},
     "output_type": "execute_result"
    }
   ],
   "source": [
    "X_train.head(3)"
   ]
  },
  {
   "cell_type": "code",
   "execution_count": 47,
   "id": "571d9f20",
   "metadata": {},
   "outputs": [
    {
     "data": {
      "text/html": [
       "<div>\n",
       "<style scoped>\n",
       "    .dataframe tbody tr th:only-of-type {\n",
       "        vertical-align: middle;\n",
       "    }\n",
       "\n",
       "    .dataframe tbody tr th {\n",
       "        vertical-align: top;\n",
       "    }\n",
       "\n",
       "    .dataframe thead th {\n",
       "        text-align: right;\n",
       "    }\n",
       "</style>\n",
       "<table border=\"1\" class=\"dataframe\">\n",
       "  <thead>\n",
       "    <tr style=\"text-align: right;\">\n",
       "      <th></th>\n",
       "      <th>discharge_disposition_id</th>\n",
       "      <th>admission_source_id</th>\n",
       "      <th>payer_code</th>\n",
       "      <th>medical_specialty</th>\n",
       "      <th>num_lab_procedures</th>\n",
       "      <th>num_procedures</th>\n",
       "      <th>num_medications</th>\n",
       "      <th>number_outpatient</th>\n",
       "      <th>number_emergency</th>\n",
       "      <th>number_diagnoses</th>\n",
       "      <th>...</th>\n",
       "      <th>miglitol</th>\n",
       "      <th>tolazamide</th>\n",
       "      <th>insulin</th>\n",
       "      <th>glyburide.metformin</th>\n",
       "      <th>glipizide.metformin</th>\n",
       "      <th>change</th>\n",
       "      <th>diabetesMed</th>\n",
       "      <th>2nd_diag</th>\n",
       "      <th>3rd_diag</th>\n",
       "      <th>ai_response</th>\n",
       "    </tr>\n",
       "  </thead>\n",
       "  <tbody>\n",
       "    <tr>\n",
       "      <th>1052</th>\n",
       "      <td>722</td>\n",
       "      <td>589</td>\n",
       "      <td>3346</td>\n",
       "      <td>2.0</td>\n",
       "      <td>65</td>\n",
       "      <td>2</td>\n",
       "      <td>27</td>\n",
       "      <td>2</td>\n",
       "      <td>0</td>\n",
       "      <td>8</td>\n",
       "      <td>...</td>\n",
       "      <td>No</td>\n",
       "      <td>No</td>\n",
       "      <td>No</td>\n",
       "      <td>No</td>\n",
       "      <td>No</td>\n",
       "      <td>No</td>\n",
       "      <td>Yes</td>\n",
       "      <td>314.0</td>\n",
       "      <td>144.0</td>\n",
       "      <td>Based on the information provided, it is diffi...</td>\n",
       "    </tr>\n",
       "    <tr>\n",
       "      <th>1593</th>\n",
       "      <td>722</td>\n",
       "      <td>1903</td>\n",
       "      <td>1555</td>\n",
       "      <td>2530.0</td>\n",
       "      <td>25</td>\n",
       "      <td>0</td>\n",
       "      <td>17</td>\n",
       "      <td>1</td>\n",
       "      <td>0</td>\n",
       "      <td>9</td>\n",
       "      <td>...</td>\n",
       "      <td>No</td>\n",
       "      <td>No</td>\n",
       "      <td>No</td>\n",
       "      <td>No</td>\n",
       "      <td>No</td>\n",
       "      <td>No</td>\n",
       "      <td>No</td>\n",
       "      <td>0.0</td>\n",
       "      <td>77.0</td>\n",
       "      <td>Based on the information provided, it appears ...</td>\n",
       "    </tr>\n",
       "    <tr>\n",
       "      <th>1616</th>\n",
       "      <td>722</td>\n",
       "      <td>589</td>\n",
       "      <td>3346</td>\n",
       "      <td>2530.0</td>\n",
       "      <td>70</td>\n",
       "      <td>6</td>\n",
       "      <td>25</td>\n",
       "      <td>0</td>\n",
       "      <td>0</td>\n",
       "      <td>9</td>\n",
       "      <td>...</td>\n",
       "      <td>No</td>\n",
       "      <td>No</td>\n",
       "      <td>No</td>\n",
       "      <td>No</td>\n",
       "      <td>No</td>\n",
       "      <td>No</td>\n",
       "      <td>Yes</td>\n",
       "      <td>145.0</td>\n",
       "      <td>17.0</td>\n",
       "      <td>Based on the information provided, it is diffi...</td>\n",
       "    </tr>\n",
       "  </tbody>\n",
       "</table>\n",
       "<p>3 rows × 32 columns</p>\n",
       "</div>"
      ],
      "text/plain": [
       "      discharge_disposition_id  admission_source_id  payer_code  \\\n",
       "1052                       722                  589        3346   \n",
       "1593                       722                 1903        1555   \n",
       "1616                       722                  589        3346   \n",
       "\n",
       "      medical_specialty  num_lab_procedures  num_procedures  num_medications  \\\n",
       "1052                2.0                  65               2               27   \n",
       "1593             2530.0                  25               0               17   \n",
       "1616             2530.0                  70               6               25   \n",
       "\n",
       "      number_outpatient  number_emergency  number_diagnoses  ... miglitol  \\\n",
       "1052                  2                 0                 8  ...       No   \n",
       "1593                  1                 0                 9  ...       No   \n",
       "1616                  0                 0                 9  ...       No   \n",
       "\n",
       "     tolazamide insulin glyburide.metformin glipizide.metformin change  \\\n",
       "1052         No      No                  No                  No     No   \n",
       "1593         No      No                  No                  No     No   \n",
       "1616         No      No                  No                  No     No   \n",
       "\n",
       "     diabetesMed 2nd_diag 3rd_diag  \\\n",
       "1052         Yes    314.0    144.0   \n",
       "1593          No      0.0     77.0   \n",
       "1616         Yes    145.0     17.0   \n",
       "\n",
       "                                            ai_response  \n",
       "1052  Based on the information provided, it is diffi...  \n",
       "1593  Based on the information provided, it appears ...  \n",
       "1616  Based on the information provided, it is diffi...  \n",
       "\n",
       "[3 rows x 32 columns]"
      ]
     },
     "execution_count": 47,
     "metadata": {},
     "output_type": "execute_result"
    }
   ],
   "source": [
    "X_test.head(3)"
   ]
  },
  {
   "cell_type": "code",
   "execution_count": 22,
   "id": "a9b33b1f",
   "metadata": {},
   "outputs": [
    {
     "name": "stdout",
     "output_type": "stream",
     "text": [
      "['missing' '>200' 'Norm' '>300']\n",
      "['No' 'Steady' 'Down' 'Up']\n",
      "['No' 'Steady' 'Up' 'Down']\n",
      "['No' 'Steady' 'Down']\n",
      "['No' 'Steady' 'Up']\n",
      "['No' 'Steady' 'Up' 'Down']\n",
      "['No' 'Steady' 'Up' 'Down']\n",
      "['No' 'Steady' 'Up' 'Down']\n",
      "['No' 'Steady' 'Up' 'Down']\n",
      "['No' 'Up' 'Steady' 'Down']\n",
      "['No' 'Steady' 'Up']\n",
      "['No' 'Steady' 'Down']\n",
      "['Steady' 'No' 'Up' 'Down']\n",
      "['No' 'Steady' 'Down' 'Up']\n"
     ]
    }
   ],
   "source": [
    "# encode mid category features with mannually with customized Ordinal Encoding\n",
    "for m in mid_arr:\n",
    "    print(X_train[m].unique())"
   ]
  },
  {
   "cell_type": "markdown",
   "id": "33a0ceb2",
   "metadata": {},
   "source": [
    "| Raw values    | Encoded values |\n",
    "| -------- | ------- |\n",
    "| missing  | 0    |\n",
    "| Norm | 1     |\n",
    "| >200    | 2    |\n",
    "| >300    | 3    |\n",
    "| No    | 0    |\n",
    "| Down    | 1    |\n",
    "| Steady    | 2    |\n",
    "| Up    | 3    |"
   ]
  },
  {
   "cell_type": "markdown",
   "id": "32aa4117",
   "metadata": {},
   "source": [
    "* **I preprocess these features by replacing with 0, 1, 2, 3 instead of applying Ordinal Encoding because although they have an order, they don't follow the same order in the columns**"
   ]
  },
  {
   "cell_type": "code",
   "execution_count": 48,
   "id": "dee6e442",
   "metadata": {},
   "outputs": [],
   "source": [
    "X_train[mid_arr] = X_train[mid_arr].replace({'missing': 0,'No': 0, \n",
    "                          'Down': 1, 'Norm': 1, \n",
    "                          '>200': 2, '>300': 3,\n",
    "                          'Steady': 2, 'Up': 3}).astype(int)\n",
    "\n",
    "X_test[mid_arr] = X_test[mid_arr].replace({'missing': 0,'No': 0, \n",
    "                          'Down': 1, 'Norm': 1, \n",
    "                          '>200': 2, '>300': 3,\n",
    "                          'Steady': 2, 'Up': 3}).astype(int)"
   ]
  },
  {
   "cell_type": "code",
   "execution_count": 49,
   "id": "ad8c3a7a",
   "metadata": {},
   "outputs": [
    {
     "data": {
      "text/html": [
       "<div>\n",
       "<style scoped>\n",
       "    .dataframe tbody tr th:only-of-type {\n",
       "        vertical-align: middle;\n",
       "    }\n",
       "\n",
       "    .dataframe tbody tr th {\n",
       "        vertical-align: top;\n",
       "    }\n",
       "\n",
       "    .dataframe thead th {\n",
       "        text-align: right;\n",
       "    }\n",
       "</style>\n",
       "<table border=\"1\" class=\"dataframe\">\n",
       "  <thead>\n",
       "    <tr style=\"text-align: right;\">\n",
       "      <th></th>\n",
       "      <th>discharge_disposition_id</th>\n",
       "      <th>admission_source_id</th>\n",
       "      <th>payer_code</th>\n",
       "      <th>medical_specialty</th>\n",
       "      <th>num_lab_procedures</th>\n",
       "      <th>num_procedures</th>\n",
       "      <th>num_medications</th>\n",
       "      <th>number_outpatient</th>\n",
       "      <th>number_emergency</th>\n",
       "      <th>number_diagnoses</th>\n",
       "      <th>...</th>\n",
       "      <th>miglitol</th>\n",
       "      <th>tolazamide</th>\n",
       "      <th>insulin</th>\n",
       "      <th>glyburide.metformin</th>\n",
       "      <th>glipizide.metformin</th>\n",
       "      <th>change</th>\n",
       "      <th>diabetesMed</th>\n",
       "      <th>2nd_diag</th>\n",
       "      <th>3rd_diag</th>\n",
       "      <th>ai_response</th>\n",
       "    </tr>\n",
       "  </thead>\n",
       "  <tbody>\n",
       "    <tr>\n",
       "      <th>4663</th>\n",
       "      <td>3901</td>\n",
       "      <td>1903</td>\n",
       "      <td>3346</td>\n",
       "      <td>2530</td>\n",
       "      <td>12</td>\n",
       "      <td>6</td>\n",
       "      <td>14</td>\n",
       "      <td>0</td>\n",
       "      <td>0</td>\n",
       "      <td>9</td>\n",
       "      <td>...</td>\n",
       "      <td>0</td>\n",
       "      <td>No</td>\n",
       "      <td>2</td>\n",
       "      <td>0</td>\n",
       "      <td>No</td>\n",
       "      <td>No</td>\n",
       "      <td>Yes</td>\n",
       "      <td>9</td>\n",
       "      <td>88</td>\n",
       "      <td>Based on the information provided, diagnosis c...</td>\n",
       "    </tr>\n",
       "    <tr>\n",
       "      <th>4694</th>\n",
       "      <td>3901</td>\n",
       "      <td>3059</td>\n",
       "      <td>3346</td>\n",
       "      <td>2530</td>\n",
       "      <td>75</td>\n",
       "      <td>0</td>\n",
       "      <td>20</td>\n",
       "      <td>0</td>\n",
       "      <td>0</td>\n",
       "      <td>9</td>\n",
       "      <td>...</td>\n",
       "      <td>0</td>\n",
       "      <td>No</td>\n",
       "      <td>0</td>\n",
       "      <td>0</td>\n",
       "      <td>No</td>\n",
       "      <td>Ch</td>\n",
       "      <td>Yes</td>\n",
       "      <td>85</td>\n",
       "      <td>373</td>\n",
       "      <td>Based on the information provided, it is not p...</td>\n",
       "    </tr>\n",
       "    <tr>\n",
       "      <th>1306</th>\n",
       "      <td>3901</td>\n",
       "      <td>3059</td>\n",
       "      <td>291</td>\n",
       "      <td>1195</td>\n",
       "      <td>48</td>\n",
       "      <td>1</td>\n",
       "      <td>17</td>\n",
       "      <td>0</td>\n",
       "      <td>0</td>\n",
       "      <td>7</td>\n",
       "      <td>...</td>\n",
       "      <td>0</td>\n",
       "      <td>No</td>\n",
       "      <td>3</td>\n",
       "      <td>0</td>\n",
       "      <td>No</td>\n",
       "      <td>Ch</td>\n",
       "      <td>Yes</td>\n",
       "      <td>497</td>\n",
       "      <td>43</td>\n",
       "      <td>Based on the information provided, the patient...</td>\n",
       "    </tr>\n",
       "  </tbody>\n",
       "</table>\n",
       "<p>3 rows × 32 columns</p>\n",
       "</div>"
      ],
      "text/plain": [
       "      discharge_disposition_id  admission_source_id  payer_code  \\\n",
       "4663                      3901                 1903        3346   \n",
       "4694                      3901                 3059        3346   \n",
       "1306                      3901                 3059         291   \n",
       "\n",
       "      medical_specialty  num_lab_procedures  num_procedures  num_medications  \\\n",
       "4663               2530                  12               6               14   \n",
       "4694               2530                  75               0               20   \n",
       "1306               1195                  48               1               17   \n",
       "\n",
       "      number_outpatient  number_emergency  number_diagnoses  ...  miglitol  \\\n",
       "4663                  0                 0                 9  ...         0   \n",
       "4694                  0                 0                 9  ...         0   \n",
       "1306                  0                 0                 7  ...         0   \n",
       "\n",
       "      tolazamide  insulin  glyburide.metformin  glipizide.metformin  change  \\\n",
       "4663          No        2                    0                   No      No   \n",
       "4694          No        0                    0                   No      Ch   \n",
       "1306          No        3                    0                   No      Ch   \n",
       "\n",
       "      diabetesMed  2nd_diag 3rd_diag  \\\n",
       "4663          Yes         9       88   \n",
       "4694          Yes        85      373   \n",
       "1306          Yes       497       43   \n",
       "\n",
       "                                            ai_response  \n",
       "4663  Based on the information provided, diagnosis c...  \n",
       "4694  Based on the information provided, it is not p...  \n",
       "1306  Based on the information provided, the patient...  \n",
       "\n",
       "[3 rows x 32 columns]"
      ]
     },
     "execution_count": 49,
     "metadata": {},
     "output_type": "execute_result"
    }
   ],
   "source": [
    "X_train.head(3)"
   ]
  },
  {
   "cell_type": "code",
   "execution_count": 50,
   "id": "ccc4c0a5",
   "metadata": {},
   "outputs": [
    {
     "name": "stdout",
     "output_type": "stream",
     "text": [
      "(6237, 32) (1560, 32) (6237,) (1560,)\n"
     ]
    }
   ],
   "source": [
    "# check point for shape\n",
    "print(X_train.shape, X_test.shape, y_train.shape, y_test.shape)"
   ]
  },
  {
   "cell_type": "markdown",
   "id": "ed21de78",
   "metadata": {},
   "source": [
    "### 3. Pre-processed numerical data appropriately including handling missing data and justified methods used. Note this may be different for each algorithm you try. [10 pts]"
   ]
  },
  {
   "cell_type": "markdown",
   "id": "7bf3129b",
   "metadata": {},
   "source": [
    "* There are no missing values in the numerical data\n",
    "* I applied **StandardScaler()** to scale the numerical features to prevent the dominance of numerical features with high values when training model"
   ]
  },
  {
   "cell_type": "code",
   "execution_count": 51,
   "id": "5dfe1e51",
   "metadata": {},
   "outputs": [],
   "source": [
    "# use minmax scaler\n",
    "from sklearn.preprocessing import StandardScaler\n",
    "\n",
    "# transform numeric features\n",
    "numerical_transformer = StandardScaler()\n",
    "\n",
    "X_train[numerical_features] = numerical_transformer.fit_transform(X_train[numerical_features])\n",
    "X_test[numerical_features] = numerical_transformer.transform(X_test[numerical_features])"
   ]
  },
  {
   "cell_type": "code",
   "execution_count": 72,
   "id": "c57d2d1b",
   "metadata": {},
   "outputs": [
    {
     "data": {
      "text/html": [
       "<div>\n",
       "<style scoped>\n",
       "    .dataframe tbody tr th:only-of-type {\n",
       "        vertical-align: middle;\n",
       "    }\n",
       "\n",
       "    .dataframe tbody tr th {\n",
       "        vertical-align: top;\n",
       "    }\n",
       "\n",
       "    .dataframe thead th {\n",
       "        text-align: right;\n",
       "    }\n",
       "</style>\n",
       "<table border=\"1\" class=\"dataframe\">\n",
       "  <thead>\n",
       "    <tr style=\"text-align: right;\">\n",
       "      <th></th>\n",
       "      <th>discharge_disposition_id</th>\n",
       "      <th>admission_source_id</th>\n",
       "      <th>payer_code</th>\n",
       "      <th>medical_specialty</th>\n",
       "      <th>num_lab_procedures</th>\n",
       "      <th>num_procedures</th>\n",
       "      <th>num_medications</th>\n",
       "      <th>number_outpatient</th>\n",
       "      <th>number_emergency</th>\n",
       "      <th>number_diagnoses</th>\n",
       "      <th>...</th>\n",
       "      <th>miglitol</th>\n",
       "      <th>tolazamide</th>\n",
       "      <th>insulin</th>\n",
       "      <th>glyburide.metformin</th>\n",
       "      <th>glipizide.metformin</th>\n",
       "      <th>change</th>\n",
       "      <th>diabetesMed</th>\n",
       "      <th>2nd_diag</th>\n",
       "      <th>3rd_diag</th>\n",
       "      <th>ai_response</th>\n",
       "    </tr>\n",
       "  </thead>\n",
       "  <tbody>\n",
       "    <tr>\n",
       "      <th>1052</th>\n",
       "      <td>722</td>\n",
       "      <td>589</td>\n",
       "      <td>3346</td>\n",
       "      <td>2.0</td>\n",
       "      <td>1.126107</td>\n",
       "      <td>0.347670</td>\n",
       "      <td>1.374671</td>\n",
       "      <td>1.844627</td>\n",
       "      <td>-0.229246</td>\n",
       "      <td>0.490802</td>\n",
       "      <td>...</td>\n",
       "      <td>0</td>\n",
       "      <td>0</td>\n",
       "      <td>0</td>\n",
       "      <td>0</td>\n",
       "      <td>0</td>\n",
       "      <td>0</td>\n",
       "      <td>1</td>\n",
       "      <td>314.0</td>\n",
       "      <td>144.0</td>\n",
       "      <td>Based information provided, difficult assess l...</td>\n",
       "    </tr>\n",
       "    <tr>\n",
       "      <th>1593</th>\n",
       "      <td>722</td>\n",
       "      <td>1903</td>\n",
       "      <td>1555</td>\n",
       "      <td>2530.0</td>\n",
       "      <td>-0.927902</td>\n",
       "      <td>-0.823815</td>\n",
       "      <td>0.174881</td>\n",
       "      <td>0.778861</td>\n",
       "      <td>-0.229246</td>\n",
       "      <td>0.984454</td>\n",
       "      <td>...</td>\n",
       "      <td>0</td>\n",
       "      <td>0</td>\n",
       "      <td>0</td>\n",
       "      <td>0</td>\n",
       "      <td>0</td>\n",
       "      <td>0</td>\n",
       "      <td>0</td>\n",
       "      <td>0.0</td>\n",
       "      <td>77.0</td>\n",
       "      <td>Based information provided, appear patient his...</td>\n",
       "    </tr>\n",
       "    <tr>\n",
       "      <th>1616</th>\n",
       "      <td>722</td>\n",
       "      <td>589</td>\n",
       "      <td>3346</td>\n",
       "      <td>2530.0</td>\n",
       "      <td>1.382858</td>\n",
       "      <td>2.690641</td>\n",
       "      <td>1.134713</td>\n",
       "      <td>-0.286904</td>\n",
       "      <td>-0.229246</td>\n",
       "      <td>0.984454</td>\n",
       "      <td>...</td>\n",
       "      <td>0</td>\n",
       "      <td>0</td>\n",
       "      <td>0</td>\n",
       "      <td>0</td>\n",
       "      <td>0</td>\n",
       "      <td>0</td>\n",
       "      <td>1</td>\n",
       "      <td>145.0</td>\n",
       "      <td>17.0</td>\n",
       "      <td>Based information provided, difficult assess l...</td>\n",
       "    </tr>\n",
       "  </tbody>\n",
       "</table>\n",
       "<p>3 rows × 32 columns</p>\n",
       "</div>"
      ],
      "text/plain": [
       "      discharge_disposition_id  admission_source_id  payer_code  \\\n",
       "1052                       722                  589        3346   \n",
       "1593                       722                 1903        1555   \n",
       "1616                       722                  589        3346   \n",
       "\n",
       "      medical_specialty  num_lab_procedures  num_procedures  num_medications  \\\n",
       "1052                2.0            1.126107        0.347670         1.374671   \n",
       "1593             2530.0           -0.927902       -0.823815         0.174881   \n",
       "1616             2530.0            1.382858        2.690641         1.134713   \n",
       "\n",
       "      number_outpatient  number_emergency  number_diagnoses  ...  miglitol  \\\n",
       "1052           1.844627         -0.229246          0.490802  ...         0   \n",
       "1593           0.778861         -0.229246          0.984454  ...         0   \n",
       "1616          -0.286904         -0.229246          0.984454  ...         0   \n",
       "\n",
       "      tolazamide  insulin  glyburide.metformin  glipizide.metformin  change  \\\n",
       "1052           0        0                    0                    0       0   \n",
       "1593           0        0                    0                    0       0   \n",
       "1616           0        0                    0                    0       0   \n",
       "\n",
       "      diabetesMed  2nd_diag  3rd_diag  \\\n",
       "1052            1     314.0     144.0   \n",
       "1593            0       0.0      77.0   \n",
       "1616            1     145.0      17.0   \n",
       "\n",
       "                                            ai_response  \n",
       "1052  Based information provided, difficult assess l...  \n",
       "1593  Based information provided, appear patient his...  \n",
       "1616  Based information provided, difficult assess l...  \n",
       "\n",
       "[3 rows x 32 columns]"
      ]
     },
     "execution_count": 72,
     "metadata": {},
     "output_type": "execute_result"
    }
   ],
   "source": [
    "X_test.head(3)"
   ]
  },
  {
   "cell_type": "code",
   "execution_count": 53,
   "id": "8869c47c",
   "metadata": {},
   "outputs": [
    {
     "name": "stdout",
     "output_type": "stream",
     "text": [
      "(6237, 32) (1560, 32) (6237,) (1560,)\n"
     ]
    }
   ],
   "source": [
    "# check point for shape\n",
    "print(X_train.shape, X_test.shape, y_train.shape, y_test.shape)"
   ]
  },
  {
   "cell_type": "markdown",
   "id": "7f4a17eb",
   "metadata": {},
   "source": [
    "### 4. Implement a model to make predictions using text data using tf-idf [20 pts]"
   ]
  },
  {
   "cell_type": "markdown",
   "id": "cc667ca2",
   "metadata": {},
   "source": [
    "#### Clean text data 'ai_response' column"
   ]
  },
  {
   "cell_type": "code",
   "execution_count": 25,
   "id": "5a26da57",
   "metadata": {},
   "outputs": [
    {
     "data": {
      "text/plain": [
       "4663    Based on the information provided, diagnosis c...\n",
       "4694    Based on the information provided, it is not p...\n",
       "1306    Based on the information provided, the patient...\n",
       "1875    Based on the information provided, the patient...\n",
       "3739    Based on the information provided, the patient...\n",
       "                              ...                        \n",
       "4168    Based on the information provided, the patient...\n",
       "1369    Based on the information provided, diagnosis c...\n",
       "3539    Based on the information provided, it is not p...\n",
       "7730    It is difficult to provide a definitive answer...\n",
       "3669    Based on the information provided, the patient...\n",
       "Name: ai_response, Length: 6237, dtype: object"
      ]
     },
     "execution_count": 25,
     "metadata": {},
     "output_type": "execute_result"
    }
   ],
   "source": [
    "X_train['ai_response']"
   ]
  },
  {
   "cell_type": "code",
   "execution_count": 26,
   "id": "a0319193",
   "metadata": {},
   "outputs": [
    {
     "data": {
      "text/plain": [
       "1052    Based on the information provided, it is diffi...\n",
       "1593    Based on the information provided, it appears ...\n",
       "1616    Based on the information provided, it is diffi...\n",
       "7529    Based on the information provided, the patient...\n",
       "4521    It is difficult to provide a definitive assess...\n",
       "                              ...                        \n",
       "7670    Based on the information provided, it is not p...\n",
       "1483    Based on the information provided, the patient...\n",
       "869     Based on the information provided, the patient...\n",
       "7175    Based on the information provided, the patient...\n",
       "7156    It is important to assess the overall health s...\n",
       "Name: ai_response, Length: 1560, dtype: object"
      ]
     },
     "execution_count": 26,
     "metadata": {},
     "output_type": "execute_result"
    }
   ],
   "source": [
    "X_test['ai_response']"
   ]
  },
  {
   "cell_type": "markdown",
   "id": "f6cf8711",
   "metadata": {},
   "source": [
    "#### Remove stop words"
   ]
  },
  {
   "cell_type": "code",
   "execution_count": 7,
   "id": "5ba32ba5",
   "metadata": {},
   "outputs": [
    {
     "name": "stdout",
     "output_type": "stream",
     "text": [
      "Requirement already satisfied: nltk in c:\\users\\nguye\\anaconda3\\lib\\site-packages (3.8.1)\n",
      "Requirement already satisfied: click in c:\\users\\nguye\\anaconda3\\lib\\site-packages (from nltk) (8.0.4)\n",
      "Requirement already satisfied: joblib in c:\\users\\nguye\\anaconda3\\lib\\site-packages (from nltk) (1.2.0)\n",
      "Requirement already satisfied: regex>=2021.8.3 in c:\\users\\nguye\\anaconda3\\lib\\site-packages (from nltk) (2022.7.9)\n",
      "Requirement already satisfied: tqdm in c:\\users\\nguye\\anaconda3\\lib\\site-packages (from nltk) (4.65.0)\n",
      "Requirement already satisfied: colorama in c:\\users\\nguye\\anaconda3\\lib\\site-packages (from click->nltk) (0.4.6)\n",
      "Note: you may need to restart the kernel to use updated packages.\n"
     ]
    }
   ],
   "source": [
    "pip install nltk"
   ]
  },
  {
   "cell_type": "code",
   "execution_count": 8,
   "id": "eb3c2f53",
   "metadata": {},
   "outputs": [
    {
     "name": "stderr",
     "output_type": "stream",
     "text": [
      "[nltk_data] Downloading package stopwords to\n",
      "[nltk_data]     C:\\Users\\nguye\\AppData\\Roaming\\nltk_data...\n",
      "[nltk_data]   Package stopwords is already up-to-date!\n"
     ]
    },
    {
     "data": {
      "text/plain": [
       "True"
      ]
     },
     "execution_count": 8,
     "metadata": {},
     "output_type": "execute_result"
    }
   ],
   "source": [
    "import nltk\n",
    "\n",
    "nltk.download('stopwords')"
   ]
  },
  {
   "cell_type": "code",
   "execution_count": 54,
   "id": "58d71ba0",
   "metadata": {},
   "outputs": [],
   "source": [
    "from nltk.corpus import stopwords\n",
    "stop_words = set(stopwords.words('english'))\n",
    "\n",
    "def remove_stopwords(text):\n",
    "    return \" \".join([word for word in str(text).split() if word not in stop_words])"
   ]
  },
  {
   "cell_type": "code",
   "execution_count": 55,
   "id": "0ea52238",
   "metadata": {},
   "outputs": [
    {
     "data": {
      "text/plain": [
       "4663    Based information provided, diagnosis code 440...\n",
       "4694    Based information provided, possible accuratel...\n",
       "1306    Based information provided, patient diagnosis ...\n",
       "1875    Based information provided, patient diagnosis ...\n",
       "3739    Based information provided, patient's diagnosi...\n",
       "                              ...                        \n",
       "4168    Based information provided, patient diagnosis ...\n",
       "1369    Based information provided, diagnosis code 287...\n",
       "3539    Based information provided, possible accuratel...\n",
       "7730    It difficult provide definitive answer without...\n",
       "3669    Based information provided, patient admitted d...\n",
       "Name: ai_response, Length: 6237, dtype: object"
      ]
     },
     "execution_count": 55,
     "metadata": {},
     "output_type": "execute_result"
    }
   ],
   "source": [
    "X_train['ai_response'] = X_train['ai_response'].apply(lambda text: remove_stopwords(text))\n",
    "X_train['ai_response']"
   ]
  },
  {
   "cell_type": "code",
   "execution_count": 56,
   "id": "de450a3b",
   "metadata": {},
   "outputs": [
    {
     "data": {
      "text/plain": [
       "1052    Based information provided, difficult assess l...\n",
       "1593    Based information provided, appears patient hi...\n",
       "1616    Based information provided, difficult assess l...\n",
       "7529    Based information provided, patient diagnosis ...\n",
       "4521    It difficult provide definitive assessment wit...\n",
       "                              ...                        \n",
       "7670    Based information provided, possible assess pa...\n",
       "1483    Based information provided, patient diagnosis ...\n",
       "869     Based information provided, patient diagnosis ...\n",
       "7175    Based information provided, patient discharged...\n",
       "7156    It important assess overall health status pote...\n",
       "Name: ai_response, Length: 1560, dtype: object"
      ]
     },
     "execution_count": 56,
     "metadata": {},
     "output_type": "execute_result"
    }
   ],
   "source": [
    "X_test['ai_response'] = X_test['ai_response'].apply(lambda text: remove_stopwords(text))\n",
    "X_test['ai_response']"
   ]
  },
  {
   "cell_type": "markdown",
   "id": "41072363",
   "metadata": {},
   "source": [
    "#### Lemmatization (ensures that the root word belongs to the language)\n",
    "* Ex: swims, swimming, swam → swim"
   ]
  },
  {
   "cell_type": "code",
   "execution_count": 252,
   "id": "ce2bfe90",
   "metadata": {},
   "outputs": [
    {
     "name": "stderr",
     "output_type": "stream",
     "text": [
      "[nltk_data] Downloading package wordnet to\n",
      "[nltk_data]     C:\\Users\\nguye\\AppData\\Roaming\\nltk_data...\n",
      "[nltk_data]   Package wordnet is already up-to-date!\n"
     ]
    }
   ],
   "source": [
    "import nltk\n",
    "\n",
    "nltk.download('wordnet')"
   ]
  },
  {
   "cell_type": "code",
   "execution_count": 57,
   "id": "9278156d",
   "metadata": {},
   "outputs": [],
   "source": [
    "from nltk.stem import WordNetLemmatizer\n",
    "from nltk.corpus import wordnet\n",
    "from nltk import pos_tag\n",
    "\n",
    "# pos_text: Part of speech, assign a tag to each token in a document to denote its part of speech\n",
    "\n",
    "wordnet_map = {\"N\":  wordnet.NOUN, \"V\": wordnet.VERB, \"J\": wordnet.ADJ, \"R\": wordnet.ADV}\n",
    "lemmatizer = WordNetLemmatizer()\n",
    "\n",
    "def lemmatize_words(text):\n",
    "    pos_text = pos_tag(text.split())\n",
    "    return \" \".join([lemmatizer.lemmatize(word, wordnet_map.get(pos[0], wordnet.NOUN)) for word, pos in pos_text])"
   ]
  },
  {
   "cell_type": "code",
   "execution_count": 58,
   "id": "39255f3b",
   "metadata": {},
   "outputs": [
    {
     "data": {
      "text/plain": [
       "4663    Based information provided, diagnosis code 440...\n",
       "4694    Based information provided, possible accuratel...\n",
       "1306    Based information provided, patient diagnosis ...\n",
       "1875    Based information provided, patient diagnosis ...\n",
       "3739    Based information provided, patient's diagnosi...\n",
       "                              ...                        \n",
       "4168    Based information provided, patient diagnosis ...\n",
       "1369    Based information provided, diagnosis code 287...\n",
       "3539    Based information provided, possible accuratel...\n",
       "7730    It difficult provide definitive answer without...\n",
       "3669    Based information provided, patient admit diab...\n",
       "Name: ai_response, Length: 6237, dtype: object"
      ]
     },
     "execution_count": 58,
     "metadata": {},
     "output_type": "execute_result"
    }
   ],
   "source": [
    "X_train['ai_response'] = X_train['ai_response'].apply(lambda text: lemmatize_words(text))\n",
    "X_train['ai_response']"
   ]
  },
  {
   "cell_type": "code",
   "execution_count": 59,
   "id": "1d0a5183",
   "metadata": {},
   "outputs": [
    {
     "data": {
      "text/plain": [
       "1052    Based information provided, difficult assess l...\n",
       "1593    Based information provided, appear patient his...\n",
       "1616    Based information provided, difficult assess l...\n",
       "7529    Based information provided, patient diagnosis ...\n",
       "4521    It difficult provide definitive assessment wit...\n",
       "                              ...                        \n",
       "7670    Based information provided, possible ass patie...\n",
       "1483    Based information provided, patient diagnosis ...\n",
       "869     Based information provided, patient diagnosis ...\n",
       "7175    Based information provided, patient discharge ...\n",
       "7156    It important ass overall health status potenti...\n",
       "Name: ai_response, Length: 1560, dtype: object"
      ]
     },
     "execution_count": 59,
     "metadata": {},
     "output_type": "execute_result"
    }
   ],
   "source": [
    "X_test['ai_response'] = X_test['ai_response'].apply(lambda text: lemmatize_words(text))\n",
    "X_test['ai_response']"
   ]
  },
  {
   "cell_type": "markdown",
   "id": "f345060e",
   "metadata": {},
   "source": [
    "### Model implementation using text data using tf-idf"
   ]
  },
  {
   "cell_type": "code",
   "execution_count": 60,
   "id": "27904cde",
   "metadata": {},
   "outputs": [
    {
     "name": "stderr",
     "output_type": "stream",
     "text": [
      "C:\\Users\\nguye\\anaconda3\\Lib\\site-packages\\sklearn\\linear_model\\_sag.py:350: ConvergenceWarning: The max_iter was reached which means the coef_ did not converge\n",
      "  warnings.warn(\n",
      "C:\\Users\\nguye\\anaconda3\\Lib\\site-packages\\sklearn\\linear_model\\_sag.py:350: ConvergenceWarning: The max_iter was reached which means the coef_ did not converge\n",
      "  warnings.warn(\n"
     ]
    }
   ],
   "source": [
    "from sklearn.model_selection import KFold\n",
    "from sklearn.linear_model import LogisticRegression\n",
    "from sklearn.feature_extraction.text import TfidfVectorizer\n",
    "import numpy as np\n",
    "\n",
    "tf = TfidfVectorizer()\n",
    "\n",
    "lr = LogisticRegression(penalty=\"elasticnet\", solver=\"saga\", l1_ratio=0.5)\n",
    "\n",
    "kfold = KFold(n_splits=5, shuffle=True, random_state=42)\n",
    "\n",
    "# initialize arrays to store predictions\n",
    "full_y_pred = np.empty((0,))\n",
    "full_holdout_pred = np.zeros(len(X_test))\n",
    "\n",
    "y_train_text = np.array(y_train)\n",
    "\n",
    "# tf-idf vectorized\n",
    "X_train_tf = tf.fit_transform(X_train['ai_response'])\n",
    "X_test_tf = tf.transform(X_test['ai_response'])\n",
    "\n",
    "# convert to array for easier\n",
    "X_train_tf_arr = np.array(X_train_tf)\n",
    "X_test_tf_arr = np.array(X_test_tf)\n",
    "\n",
    "# create out-of-fold predictions for model stacking\n",
    "for fold, (train_index, test_index) in enumerate(kfold.split(X_train_tf)):\n",
    "    X_train_fold, X_test_fold = X_train_tf[train_index], X_train_tf[test_index]\n",
    "    y_train_fold, y_test_fold = y_train_text[train_index], y_train_text[test_index]\n",
    "    \n",
    "    # fit model\n",
    "    lr.fit(X_train_fold, y_train_fold)\n",
    "    \n",
    "    # make predictions on fold test and test sets\n",
    "    y_fold_pred = lr.predict(X_test_fold)\n",
    "    holdout_pred = lr.predict(X_test_tf)\n",
    "    \n",
    "    # extend full_y_pred with fold predictions\n",
    "    full_y_pred = np.concatenate((full_y_pred, y_fold_pred))\n",
    "    \n",
    "    # collect hold out predictions\n",
    "    full_holdout_pred += holdout_pred"
   ]
  },
  {
   "cell_type": "code",
   "execution_count": 61,
   "id": "0517dd94",
   "metadata": {},
   "outputs": [
    {
     "name": "stdout",
     "output_type": "stream",
     "text": [
      "6237 1560\n"
     ]
    }
   ],
   "source": [
    "print(len(full_y_pred), len(full_holdout_pred))"
   ]
  },
  {
   "cell_type": "code",
   "execution_count": 62,
   "id": "fcd5cbbd",
   "metadata": {},
   "outputs": [],
   "source": [
    "# Average the holdout predictions\n",
    "full_holdout_pred /= kfold.get_n_splits()"
   ]
  },
  {
   "cell_type": "markdown",
   "id": "d9989cb7",
   "metadata": {},
   "source": [
    "### 5. Use model stacking to incorporate tf-idf predictions for the text field (diag_desc_combined) in the downstream algorithm [20 pts]"
   ]
  },
  {
   "cell_type": "code",
   "execution_count": 76,
   "id": "47064045",
   "metadata": {},
   "outputs": [],
   "source": [
    "X_train_new = X_train.drop('ai_response', axis=1)\n",
    "X_test_new = X_test.drop('ai_response', axis=1)\n",
    "\n",
    "# stack tf-idf prediction with the encoded and scaled features in train and test sets\n",
    "X_train_new = np.concatenate((X_train_new, full_y_pred.reshape(-1, 1)), axis=1)\n",
    "X_test_new = np.concatenate((X_test_new, full_holdout_pred.reshape(-1, 1)), axis=1)"
   ]
  },
  {
   "cell_type": "code",
   "execution_count": 77,
   "id": "a81feed6",
   "metadata": {},
   "outputs": [],
   "source": [
    "# create new data for meta model\n",
    "X_train_new_df = pd.DataFrame(X_train_new, columns=X_train.columns)\n",
    "X_test_new_df = pd.DataFrame(X_test_new, columns=X_test.columns)"
   ]
  },
  {
   "cell_type": "code",
   "execution_count": 78,
   "id": "4819e552",
   "metadata": {
    "scrolled": false
   },
   "outputs": [
    {
     "data": {
      "text/html": [
       "<div>\n",
       "<style scoped>\n",
       "    .dataframe tbody tr th:only-of-type {\n",
       "        vertical-align: middle;\n",
       "    }\n",
       "\n",
       "    .dataframe tbody tr th {\n",
       "        vertical-align: top;\n",
       "    }\n",
       "\n",
       "    .dataframe thead th {\n",
       "        text-align: right;\n",
       "    }\n",
       "</style>\n",
       "<table border=\"1\" class=\"dataframe\">\n",
       "  <thead>\n",
       "    <tr style=\"text-align: right;\">\n",
       "      <th></th>\n",
       "      <th>discharge_disposition_id</th>\n",
       "      <th>admission_source_id</th>\n",
       "      <th>payer_code</th>\n",
       "      <th>medical_specialty</th>\n",
       "      <th>num_lab_procedures</th>\n",
       "      <th>num_procedures</th>\n",
       "      <th>num_medications</th>\n",
       "      <th>number_outpatient</th>\n",
       "      <th>number_emergency</th>\n",
       "      <th>number_diagnoses</th>\n",
       "      <th>...</th>\n",
       "      <th>miglitol</th>\n",
       "      <th>tolazamide</th>\n",
       "      <th>insulin</th>\n",
       "      <th>glyburide.metformin</th>\n",
       "      <th>glipizide.metformin</th>\n",
       "      <th>change</th>\n",
       "      <th>diabetesMed</th>\n",
       "      <th>2nd_diag</th>\n",
       "      <th>3rd_diag</th>\n",
       "      <th>ai_response</th>\n",
       "    </tr>\n",
       "  </thead>\n",
       "  <tbody>\n",
       "    <tr>\n",
       "      <th>0</th>\n",
       "      <td>3901.0</td>\n",
       "      <td>1903.0</td>\n",
       "      <td>3346.0</td>\n",
       "      <td>2530.0</td>\n",
       "      <td>-1.595454</td>\n",
       "      <td>2.690641</td>\n",
       "      <td>-0.185057</td>\n",
       "      <td>-0.286904</td>\n",
       "      <td>-0.229246</td>\n",
       "      <td>0.984454</td>\n",
       "      <td>...</td>\n",
       "      <td>0.0</td>\n",
       "      <td>0.0</td>\n",
       "      <td>2.0</td>\n",
       "      <td>0.0</td>\n",
       "      <td>0.0</td>\n",
       "      <td>0.0</td>\n",
       "      <td>1.0</td>\n",
       "      <td>9.0</td>\n",
       "      <td>88.0</td>\n",
       "      <td>0.0</td>\n",
       "    </tr>\n",
       "    <tr>\n",
       "      <th>1</th>\n",
       "      <td>3901.0</td>\n",
       "      <td>3059.0</td>\n",
       "      <td>3346.0</td>\n",
       "      <td>2530.0</td>\n",
       "      <td>1.639609</td>\n",
       "      <td>-0.823815</td>\n",
       "      <td>0.534818</td>\n",
       "      <td>-0.286904</td>\n",
       "      <td>-0.229246</td>\n",
       "      <td>0.984454</td>\n",
       "      <td>...</td>\n",
       "      <td>0.0</td>\n",
       "      <td>0.0</td>\n",
       "      <td>0.0</td>\n",
       "      <td>0.0</td>\n",
       "      <td>0.0</td>\n",
       "      <td>1.0</td>\n",
       "      <td>1.0</td>\n",
       "      <td>85.0</td>\n",
       "      <td>373.0</td>\n",
       "      <td>0.0</td>\n",
       "    </tr>\n",
       "    <tr>\n",
       "      <th>2</th>\n",
       "      <td>3901.0</td>\n",
       "      <td>3059.0</td>\n",
       "      <td>291.0</td>\n",
       "      <td>1195.0</td>\n",
       "      <td>0.253153</td>\n",
       "      <td>-0.238072</td>\n",
       "      <td>0.174881</td>\n",
       "      <td>-0.286904</td>\n",
       "      <td>-0.229246</td>\n",
       "      <td>-0.002849</td>\n",
       "      <td>...</td>\n",
       "      <td>0.0</td>\n",
       "      <td>0.0</td>\n",
       "      <td>3.0</td>\n",
       "      <td>0.0</td>\n",
       "      <td>0.0</td>\n",
       "      <td>1.0</td>\n",
       "      <td>1.0</td>\n",
       "      <td>497.0</td>\n",
       "      <td>43.0</td>\n",
       "      <td>1.0</td>\n",
       "    </tr>\n",
       "  </tbody>\n",
       "</table>\n",
       "<p>3 rows × 32 columns</p>\n",
       "</div>"
      ],
      "text/plain": [
       "   discharge_disposition_id  admission_source_id  payer_code  \\\n",
       "0                    3901.0               1903.0      3346.0   \n",
       "1                    3901.0               3059.0      3346.0   \n",
       "2                    3901.0               3059.0       291.0   \n",
       "\n",
       "   medical_specialty  num_lab_procedures  num_procedures  num_medications  \\\n",
       "0             2530.0           -1.595454        2.690641        -0.185057   \n",
       "1             2530.0            1.639609       -0.823815         0.534818   \n",
       "2             1195.0            0.253153       -0.238072         0.174881   \n",
       "\n",
       "   number_outpatient  number_emergency  number_diagnoses  ...  miglitol  \\\n",
       "0          -0.286904         -0.229246          0.984454  ...       0.0   \n",
       "1          -0.286904         -0.229246          0.984454  ...       0.0   \n",
       "2          -0.286904         -0.229246         -0.002849  ...       0.0   \n",
       "\n",
       "   tolazamide  insulin  glyburide.metformin  glipizide.metformin  change  \\\n",
       "0         0.0      2.0                  0.0                  0.0     0.0   \n",
       "1         0.0      0.0                  0.0                  0.0     1.0   \n",
       "2         0.0      3.0                  0.0                  0.0     1.0   \n",
       "\n",
       "   diabetesMed  2nd_diag  3rd_diag  ai_response  \n",
       "0          1.0       9.0      88.0          0.0  \n",
       "1          1.0      85.0     373.0          0.0  \n",
       "2          1.0     497.0      43.0          1.0  \n",
       "\n",
       "[3 rows x 32 columns]"
      ]
     },
     "execution_count": 78,
     "metadata": {},
     "output_type": "execute_result"
    }
   ],
   "source": [
    "X_train_new_df.head(3)"
   ]
  },
  {
   "cell_type": "code",
   "execution_count": 79,
   "id": "b52ad465",
   "metadata": {},
   "outputs": [
    {
     "data": {
      "text/html": [
       "<div>\n",
       "<style scoped>\n",
       "    .dataframe tbody tr th:only-of-type {\n",
       "        vertical-align: middle;\n",
       "    }\n",
       "\n",
       "    .dataframe tbody tr th {\n",
       "        vertical-align: top;\n",
       "    }\n",
       "\n",
       "    .dataframe thead th {\n",
       "        text-align: right;\n",
       "    }\n",
       "</style>\n",
       "<table border=\"1\" class=\"dataframe\">\n",
       "  <thead>\n",
       "    <tr style=\"text-align: right;\">\n",
       "      <th></th>\n",
       "      <th>discharge_disposition_id</th>\n",
       "      <th>admission_source_id</th>\n",
       "      <th>payer_code</th>\n",
       "      <th>medical_specialty</th>\n",
       "      <th>num_lab_procedures</th>\n",
       "      <th>num_procedures</th>\n",
       "      <th>num_medications</th>\n",
       "      <th>number_outpatient</th>\n",
       "      <th>number_emergency</th>\n",
       "      <th>number_diagnoses</th>\n",
       "      <th>...</th>\n",
       "      <th>miglitol</th>\n",
       "      <th>tolazamide</th>\n",
       "      <th>insulin</th>\n",
       "      <th>glyburide.metformin</th>\n",
       "      <th>glipizide.metformin</th>\n",
       "      <th>change</th>\n",
       "      <th>diabetesMed</th>\n",
       "      <th>2nd_diag</th>\n",
       "      <th>3rd_diag</th>\n",
       "      <th>ai_response</th>\n",
       "    </tr>\n",
       "  </thead>\n",
       "  <tbody>\n",
       "    <tr>\n",
       "      <th>0</th>\n",
       "      <td>722.0</td>\n",
       "      <td>589.0</td>\n",
       "      <td>3346.0</td>\n",
       "      <td>2.0</td>\n",
       "      <td>1.126107</td>\n",
       "      <td>0.347670</td>\n",
       "      <td>1.374671</td>\n",
       "      <td>1.844627</td>\n",
       "      <td>-0.229246</td>\n",
       "      <td>0.490802</td>\n",
       "      <td>...</td>\n",
       "      <td>0.0</td>\n",
       "      <td>0.0</td>\n",
       "      <td>0.0</td>\n",
       "      <td>0.0</td>\n",
       "      <td>0.0</td>\n",
       "      <td>0.0</td>\n",
       "      <td>1.0</td>\n",
       "      <td>314.0</td>\n",
       "      <td>144.0</td>\n",
       "      <td>0.2</td>\n",
       "    </tr>\n",
       "    <tr>\n",
       "      <th>1</th>\n",
       "      <td>722.0</td>\n",
       "      <td>1903.0</td>\n",
       "      <td>1555.0</td>\n",
       "      <td>2530.0</td>\n",
       "      <td>-0.927902</td>\n",
       "      <td>-0.823815</td>\n",
       "      <td>0.174881</td>\n",
       "      <td>0.778861</td>\n",
       "      <td>-0.229246</td>\n",
       "      <td>0.984454</td>\n",
       "      <td>...</td>\n",
       "      <td>0.0</td>\n",
       "      <td>0.0</td>\n",
       "      <td>0.0</td>\n",
       "      <td>0.0</td>\n",
       "      <td>0.0</td>\n",
       "      <td>0.0</td>\n",
       "      <td>0.0</td>\n",
       "      <td>0.0</td>\n",
       "      <td>77.0</td>\n",
       "      <td>0.4</td>\n",
       "    </tr>\n",
       "    <tr>\n",
       "      <th>2</th>\n",
       "      <td>722.0</td>\n",
       "      <td>589.0</td>\n",
       "      <td>3346.0</td>\n",
       "      <td>2530.0</td>\n",
       "      <td>1.382858</td>\n",
       "      <td>2.690641</td>\n",
       "      <td>1.134713</td>\n",
       "      <td>-0.286904</td>\n",
       "      <td>-0.229246</td>\n",
       "      <td>0.984454</td>\n",
       "      <td>...</td>\n",
       "      <td>0.0</td>\n",
       "      <td>0.0</td>\n",
       "      <td>0.0</td>\n",
       "      <td>0.0</td>\n",
       "      <td>0.0</td>\n",
       "      <td>0.0</td>\n",
       "      <td>1.0</td>\n",
       "      <td>145.0</td>\n",
       "      <td>17.0</td>\n",
       "      <td>1.0</td>\n",
       "    </tr>\n",
       "  </tbody>\n",
       "</table>\n",
       "<p>3 rows × 32 columns</p>\n",
       "</div>"
      ],
      "text/plain": [
       "   discharge_disposition_id  admission_source_id  payer_code  \\\n",
       "0                     722.0                589.0      3346.0   \n",
       "1                     722.0               1903.0      1555.0   \n",
       "2                     722.0                589.0      3346.0   \n",
       "\n",
       "   medical_specialty  num_lab_procedures  num_procedures  num_medications  \\\n",
       "0                2.0            1.126107        0.347670         1.374671   \n",
       "1             2530.0           -0.927902       -0.823815         0.174881   \n",
       "2             2530.0            1.382858        2.690641         1.134713   \n",
       "\n",
       "   number_outpatient  number_emergency  number_diagnoses  ...  miglitol  \\\n",
       "0           1.844627         -0.229246          0.490802  ...       0.0   \n",
       "1           0.778861         -0.229246          0.984454  ...       0.0   \n",
       "2          -0.286904         -0.229246          0.984454  ...       0.0   \n",
       "\n",
       "   tolazamide  insulin  glyburide.metformin  glipizide.metformin  change  \\\n",
       "0         0.0      0.0                  0.0                  0.0     0.0   \n",
       "1         0.0      0.0                  0.0                  0.0     0.0   \n",
       "2         0.0      0.0                  0.0                  0.0     0.0   \n",
       "\n",
       "   diabetesMed  2nd_diag  3rd_diag  ai_response  \n",
       "0          1.0     314.0     144.0          0.2  \n",
       "1          0.0       0.0      77.0          0.4  \n",
       "2          1.0     145.0      17.0          1.0  \n",
       "\n",
       "[3 rows x 32 columns]"
      ]
     },
     "execution_count": 79,
     "metadata": {},
     "output_type": "execute_result"
    }
   ],
   "source": [
    "X_test_new_df.head(3)"
   ]
  },
  {
   "cell_type": "markdown",
   "id": "a41108b5",
   "metadata": {},
   "source": [
    "### 6. Perform experimentation for multiple modeling algorithms and justify why you selected the experiments you chose [20 pts]"
   ]
  },
  {
   "cell_type": "markdown",
   "id": "765d47b5",
   "metadata": {},
   "source": [
    "* **I selected these tree-based decision models because they are suitable for predicting multi-modal features**"
   ]
  },
  {
   "cell_type": "code",
   "execution_count": 80,
   "id": "c8915b76",
   "metadata": {},
   "outputs": [
    {
     "name": "stdout",
     "output_type": "stream",
     "text": [
      "SVM mean AUC score: 0.574517874265085\n",
      "RFM mean AUC score: 0.6311461851685056\n",
      "GBM mean AUC score: 0.6369880834579716\n"
     ]
    }
   ],
   "source": [
    "from sklearn.naive_bayes import GaussianNB\n",
    "from sklearn.svm import SVC\n",
    "from sklearn.ensemble import RandomForestClassifier\n",
    "from sklearn.ensemble import GradientBoostingClassifier\n",
    "from sklearn.ensemble import GradientBoostingRegressor\n",
    "\n",
    "from sklearn.model_selection import cross_val_score\n",
    "\n",
    "#SVM\n",
    "svm = SVC() \n",
    "svm_score = cross_val_score(svm, X_train_new_df, y_train, cv=kfold, scoring='roc_auc')\n",
    "print('SVM mean AUC score:', np.mean(svm_score))\n",
    "\n",
    "#Random Forest\n",
    "rfm = RandomForestClassifier() \n",
    "rfm_score = cross_val_score(rfm, X_train_new_df, y_train, cv=kfold, scoring='roc_auc')\n",
    "print('RFM mean AUC score:', np.mean(rfm_score))\n",
    "\n",
    "#Gradient Boosting\n",
    "gbm = GradientBoostingClassifier() \n",
    "gbm_score = cross_val_score(gbm, X_train_new_df, y_train, cv=kfold, scoring='roc_auc')\n",
    "print('GBM mean AUC score:', np.mean(gbm_score))"
   ]
  },
  {
   "cell_type": "markdown",
   "id": "116ada77",
   "metadata": {},
   "source": [
    "* **Gradient Boosting Classifier has the highest AUC score so I will choose it as the meta model**"
   ]
  },
  {
   "cell_type": "code",
   "execution_count": 81,
   "id": "228fe261",
   "metadata": {},
   "outputs": [],
   "source": [
    "# cross validation on GBM with n_estimators, learning_rate hyperparameter, n_iter_no_change\n",
    "from sklearn.ensemble import GradientBoostingClassifier\n",
    "from sklearn.model_selection import GridSearchCV\n",
    "from sklearn.model_selection import cross_val_score\n",
    "\n",
    "clf = GradientBoostingClassifier(learning_rate=0.02, n_estimators=1000, n_iter_no_change=100, random_state=42)\n",
    "\n",
    "cv_score = cross_val_score(clf, X_train_new_df, y_train, cv=kfold, scoring=\"roc_auc\")"
   ]
  },
  {
   "cell_type": "code",
   "execution_count": 82,
   "id": "686ce575",
   "metadata": {},
   "outputs": [
    {
     "name": "stdout",
     "output_type": "stream",
     "text": [
      "The maximum validation ROC AUC was: 0.63550.\n"
     ]
    }
   ],
   "source": [
    "print('The maximum validation ROC AUC was: {:.5f}.'.format(np.mean(cv_score)))"
   ]
  },
  {
   "cell_type": "code",
   "execution_count": 83,
   "id": "e6259adb",
   "metadata": {},
   "outputs": [
    {
     "name": "stdout",
     "output_type": "stream",
     "text": [
      "The baseline model scores 0.66529 ROC AUC on the test set.\n"
     ]
    }
   ],
   "source": [
    "# get baseline model\n",
    "from sklearn.metrics import roc_auc_score\n",
    "\n",
    "# Train and make predicions with model\n",
    "clf.fit(X_train_new_df, y_train)\n",
    "preds = clf.predict_proba(X_test_new_df)[:, 1]\n",
    "baseline_auc = roc_auc_score(y_test, preds)\n",
    "\n",
    "print('The baseline model scores {:.5f} ROC AUC on the test set.'.format(baseline_auc))"
   ]
  },
  {
   "cell_type": "code",
   "execution_count": 124,
   "id": "0f555b5e",
   "metadata": {},
   "outputs": [
    {
     "name": "stdout",
     "output_type": "stream",
     "text": [
      "random best score:  0.6421732586491078\n",
      "random best param:  {'max_depth': 4, 'min_samples_leaf': 70, 'subsample': 0.75}\n"
     ]
    }
   ],
   "source": [
    "from sklearn.model_selection import RandomizedSearchCV\n",
    "from sklearn.model_selection import GridSearchCV\n",
    "\n",
    "param = {'max_depth': [4,6,8,10], \n",
    "         'subsample': [0.5, 0.75, 1.0], \n",
    "         'min_samples_leaf': [50, 60, 70]}\n",
    "\n",
    "grid = GridSearchCV(clf, param, cv=kfold, scoring=\"roc_auc\", n_job=-1).fit(X_train_new_df, y_train)\n",
    "\n",
    "print('random best score: ', grid.best_score_)\n",
    "print('random best param: ', grid.best_params_)"
   ]
  },
  {
   "cell_type": "code",
   "execution_count": 88,
   "id": "98387bfd",
   "metadata": {},
   "outputs": [
    {
     "name": "stdout",
     "output_type": "stream",
     "text": [
      "The test model scores 0.67169 ROC AUC on the test set.\n"
     ]
    }
   ],
   "source": [
    "# Train and make predicions with new hyperparamters \n",
    "# 'max_depth': 4, 'min_samples_leaf': 70, 'subsample': 0.75\n",
    "\n",
    "test = GradientBoostingClassifier(max_depth=4, subsample=0.75, \n",
    "                                  learning_rate=0.02, n_estimators=1000, \n",
    "                                  n_iter_no_change=100, random_state=42,\n",
    "                                 min_samples_leaf=70)\n",
    "\n",
    "test.fit(X_train_new_df, y_train)\n",
    "pred = test.predict_proba(X_test_new_df)[:, 1]\n",
    "test_auc = roc_auc_score(y_test, pred)\n",
    "\n",
    "print('The test model scores {:.5f} ROC AUC on the test set.'.format(test_auc))"
   ]
  },
  {
   "cell_type": "code",
   "execution_count": 94,
   "id": "2b8abc64",
   "metadata": {},
   "outputs": [
    {
     "name": "stdout",
     "output_type": "stream",
     "text": [
      "Grid best score:  0.6408826339494658\n",
      "Grid best param:  {'min_samples_split': 200}\n"
     ]
    }
   ],
   "source": [
    "# tune min_samples_split\n",
    "test1 = GradientBoostingClassifier(max_depth=4, subsample=0.75, \n",
    "                                  learning_rate=0.02, n_estimators=1000, \n",
    "                                  n_iter_no_change=100, random_state=42,\n",
    "                                 min_samples_leaf=70)\n",
    "\n",
    "param1 = {'min_samples_split':range(200,1001,200)}\n",
    "\n",
    "grid1 = GridSearchCV(test1, param1, cv=kfold, scoring=\"roc_auc\", n_jobs=-1).fit(X_train_new_df, y_train)\n",
    "\n",
    "print('Grid best score: ', grid1.best_score_)\n",
    "print('Grid best param: ', grid1.best_params_)"
   ]
  },
  {
   "cell_type": "code",
   "execution_count": 95,
   "id": "4e46422d",
   "metadata": {},
   "outputs": [
    {
     "name": "stdout",
     "output_type": "stream",
     "text": [
      "The test model scores 0.67175 ROC AUC on the test set.\n"
     ]
    }
   ],
   "source": [
    "# Train and make predicions with new hyperparamters \n",
    "# 'min_samples_split': 200\n",
    "test2 = GradientBoostingClassifier(max_depth=4, subsample=0.75, \n",
    "                                  learning_rate=0.02, n_estimators=1000, \n",
    "                                  n_iter_no_change=100, random_state=42,\n",
    "                                 min_samples_leaf=70, min_samples_split=200)\n",
    "\n",
    "test2.fit(X_train_new_df, y_train)\n",
    "pred2 = test2.predict_proba(X_test_new_df)[:, 1]\n",
    "test2_auc = roc_auc_score(y_test, pred2)\n",
    "\n",
    "print('The test model scores {:.5f} ROC AUC on the test set.'.format(test2_auc))"
   ]
  },
  {
   "cell_type": "code",
   "execution_count": 102,
   "id": "6b1dc8b7",
   "metadata": {},
   "outputs": [
    {
     "name": "stdout",
     "output_type": "stream",
     "text": [
      "The test model 2 scores 0.67272 ROC AUC on the test set.\n"
     ]
    }
   ],
   "source": [
    "# Train and make predicions with new hyperparamters \n",
    "# add max_features='sqrt'\n",
    "test3 = GradientBoostingClassifier(max_depth=4, subsample=0.75, max_features='sqrt',\n",
    "                                  learning_rate=0.02, n_estimators=1000, \n",
    "                                  n_iter_no_change=100, random_state=42,\n",
    "                                 min_samples_leaf=70, min_samples_split=200)\n",
    "\n",
    "test3.fit(X_train_new_df, y_train)\n",
    "pred3 = test3.predict_proba(X_test_new_df)[:, 1]\n",
    "test3_auc = roc_auc_score(y_test, pred3)\n",
    "\n",
    "print('The test model 2 scores {:.5f} ROC AUC on the test set.'.format(test3_auc))"
   ]
  },
  {
   "cell_type": "code",
   "execution_count": 104,
   "id": "b3b939ca",
   "metadata": {},
   "outputs": [
    {
     "name": "stdout",
     "output_type": "stream",
     "text": [
      "The test model 3 scores 0.67272 ROC AUC on the test set.\n"
     ]
    }
   ],
   "source": [
    "# tune learning_rate: 0.02 -> 0.01\n",
    "test4 = GradientBoostingClassifier(max_depth=4, subsample=0.75, max_features='sqrt',\n",
    "                                  learning_rate=0.02, n_estimators=1000, \n",
    "                                  n_iter_no_change=100, random_state=42,\n",
    "                                 min_samples_leaf=70, min_samples_split=200)\n",
    "\n",
    "test4.fit(X_train_new_df, y_train)\n",
    "pred4 = test4.predict_proba(X_test_new_df)[:, 1]\n",
    "test4_auc = roc_auc_score(y_test, pred4)\n",
    "\n",
    "print('The test model 3 scores {:.5f} ROC AUC on the test set.'.format(test4_auc))"
   ]
  },
  {
   "cell_type": "code",
   "execution_count": 107,
   "id": "d8a57ba8",
   "metadata": {},
   "outputs": [
    {
     "name": "stdout",
     "output_type": "stream",
     "text": [
      "The test model 4 scores 0.67562 ROC AUC on the test set.\n"
     ]
    }
   ],
   "source": [
    "# mannually tune the following hyperparameter\n",
    "# max_depth: 4 -> 6, learning_rate: 0.02 -> 0.01, n_estimators: 1000 -> 1400\n",
    "\n",
    "test10 = GradientBoostingClassifier(max_depth=6, subsample=0.75, max_features='sqrt',\n",
    "                                  learning_rate=0.01, n_estimators=1400, \n",
    "                                  n_iter_no_change=100, random_state=42,\n",
    "                                 min_samples_leaf=70, min_samples_split=200)\n",
    "\n",
    "test10.fit(X_train_new_df, y_train)\n",
    "pred10 = test10.predict_proba(X_test_new_df)[:, 1]\n",
    "test10_auc = roc_auc_score(y_test, pred10)\n",
    "\n",
    "print('The test model 4 scores {:.5f} ROC AUC on the test set.'.format(test10_auc))"
   ]
  },
  {
   "cell_type": "markdown",
   "id": "d0adf953",
   "metadata": {},
   "source": [
    "* **I choose the above experiments because they help me to tune the hyperparameters to achieve a high AUC score**"
   ]
  },
  {
   "cell_type": "markdown",
   "id": "6e8dac03",
   "metadata": {},
   "source": [
    "### 7. Final model selection and discussion of your model choice and the model weaknesses (generally, where model doesn’t perform well, etc.) [10 pts]"
   ]
  },
  {
   "cell_type": "code",
   "execution_count": 108,
   "id": "4fc95c09",
   "metadata": {},
   "outputs": [
    {
     "name": "stdout",
     "output_type": "stream",
     "text": [
      "The final model scores 0.67562 ROC AUC on the test set.\n"
     ]
    }
   ],
   "source": [
    "# final model selection\n",
    "final_model = GradientBoostingClassifier(max_depth=6, subsample=0.75, max_features='sqrt',\n",
    "                                  learning_rate=0.01, n_estimators=1400, \n",
    "                                  n_iter_no_change=100, random_state=42,\n",
    "                                 min_samples_leaf=70, min_samples_split=200)\n",
    "\n",
    "final_model.fit(X_train_new_df, y_train)\n",
    "pred_final = final_model.predict_proba(X_test_new_df)[:, 1]\n",
    "final_model_auc = roc_auc_score(y_test, pred_final)\n",
    "\n",
    "print('The final model scores {:.5f} ROC AUC on the test set.'.format(final_model_auc))"
   ]
  },
  {
   "cell_type": "markdown",
   "id": "1f8b9f77",
   "metadata": {},
   "source": [
    "* **The final model with Gradient Boosting Classifier with the following hyperparameter produces an AUC score with 0.67525**\n",
    "    * max_features: 'sqrt'\n",
    "    * max_depth: 6\n",
    "    * subsample: 0.75\n",
    "    * learning_rate: 0.01\n",
    "    * n_estimators: 1400\n",
    "    * n_iter_no_change: 100\n",
    "    * random_state: 42\n",
    "    * min_samples_leaf: 70\n",
    "    * min_samples_split: 200"
   ]
  },
  {
   "cell_type": "code",
   "execution_count": 109,
   "id": "46255c9c",
   "metadata": {},
   "outputs": [
    {
     "data": {
      "text/plain": [
       "Text(0, 0.5, 'Feature Importance Score')"
      ]
     },
     "execution_count": 109,
     "metadata": {},
     "output_type": "execute_result"
    },
    {
     "data": {
      "image/png": "[encoded data removed]",
      "text/plain": [
       "<Figure size 1200x600 with 1 Axes>"
      ]
     },
     "metadata": {},
     "output_type": "display_data"
    }
   ],
   "source": [
    "predictors = [x for x in X_train_new_df.columns]\n",
    "\n",
    "feat_imp = pd.Series(final_model.feature_importances_, predictors).sort_values(ascending=False)\n",
    "fig = plt.figure(figsize=(12, 6))\n",
    "feat_imp.plot(kind='bar', title='Feature Importances')\n",
    "plt.ylabel('Feature Importance Score')"
   ]
  },
  {
   "cell_type": "markdown",
   "id": "172522e2",
   "metadata": {},
   "source": [
    "* **Num_lab_procedures** has the most influence in predicting the test data\n",
    "* Diabetes prescriptions (the last 9 features in the plot) have no importance in training the model"
   ]
  },
  {
   "cell_type": "code",
   "execution_count": 110,
   "id": "ec6b5910",
   "metadata": {},
   "outputs": [
    {
     "data": {
      "image/png": "[encoded data removed]",
      "text/plain": [
       "<Figure size 640x480 with 1 Axes>"
      ]
     },
     "metadata": {},
     "output_type": "display_data"
    }
   ],
   "source": [
    "# plot AUC curve here\n",
    "from sklearn.metrics import RocCurveDisplay\n",
    "\n",
    "final_dis = RocCurveDisplay.from_estimator(final_model, X_test_new_df, y_test)\n",
    "plt.show()"
   ]
  },
  {
   "cell_type": "markdown",
   "id": "58d9d143",
   "metadata": {},
   "source": [
    "### Conclusion\n",
    "* In this project, I used Diabetes Patient dataset to build a Readmitted Prediction, where I have acheived the best prediction performance using Gradient Boosting classifier with an AUC score of 0.67562\n",
    "* In the original dataset, there are 40 columns. I dropped the 7 colummns that contain 1 unique value because they will not have any impact in training the model\n",
    "* For columns contain '?', NaN as missing values, I replaced them with 'missing' word instead of excluding them despite their high percentage of missing values\n",
    "* The model performance can be improved if I excluded the last 9 features in the 'Feature Importance' plot before training the model"
   ]
  },
  {
   "cell_type": "markdown",
   "id": "e468895d",
   "metadata": {},
   "source": [
    "## This is the process for 2k dataset"
   ]
  },
  {
   "cell_type": "code",
   "execution_count": 111,
   "id": "6069f34c",
   "metadata": {},
   "outputs": [],
   "source": [
    "df2 = pd.read_csv('2k_diabetes_test_no_label.csv')"
   ]
  },
  {
   "cell_type": "code",
   "execution_count": 112,
   "id": "ed3d1893",
   "metadata": {},
   "outputs": [
    {
     "data": {
      "text/html": [
       "<div>\n",
       "<style scoped>\n",
       "    .dataframe tbody tr th:only-of-type {\n",
       "        vertical-align: middle;\n",
       "    }\n",
       "\n",
       "    .dataframe tbody tr th {\n",
       "        vertical-align: top;\n",
       "    }\n",
       "\n",
       "    .dataframe thead th {\n",
       "        text-align: right;\n",
       "    }\n",
       "</style>\n",
       "<table border=\"1\" class=\"dataframe\">\n",
       "  <thead>\n",
       "    <tr style=\"text-align: right;\">\n",
       "      <th></th>\n",
       "      <th>discharge_disposition_id</th>\n",
       "      <th>admission_source_id</th>\n",
       "      <th>payer_code</th>\n",
       "      <th>medical_specialty</th>\n",
       "      <th>num_lab_procedures</th>\n",
       "      <th>num_procedures</th>\n",
       "      <th>num_medications</th>\n",
       "      <th>number_outpatient</th>\n",
       "      <th>number_emergency</th>\n",
       "      <th>number_diagnoses</th>\n",
       "      <th>...</th>\n",
       "      <th>glyburide.metformin</th>\n",
       "      <th>glipizide.metformin</th>\n",
       "      <th>glimepiride.pioglitazone</th>\n",
       "      <th>metformin.rosiglitazone</th>\n",
       "      <th>metformin.pioglitazone</th>\n",
       "      <th>change</th>\n",
       "      <th>diabetesMed</th>\n",
       "      <th>2nd_diag</th>\n",
       "      <th>3rd_diag</th>\n",
       "      <th>ai_response</th>\n",
       "    </tr>\n",
       "  </thead>\n",
       "  <tbody>\n",
       "    <tr>\n",
       "      <th>0</th>\n",
       "      <td>Discharged/transferred to home with home healt...</td>\n",
       "      <td>NaN</td>\n",
       "      <td>MC</td>\n",
       "      <td>Family/GeneralPractice</td>\n",
       "      <td>12</td>\n",
       "      <td>0</td>\n",
       "      <td>21</td>\n",
       "      <td>0</td>\n",
       "      <td>0</td>\n",
       "      <td>9</td>\n",
       "      <td>...</td>\n",
       "      <td>No</td>\n",
       "      <td>No</td>\n",
       "      <td>No</td>\n",
       "      <td>No</td>\n",
       "      <td>No</td>\n",
       "      <td>No</td>\n",
       "      <td>Yes</td>\n",
       "      <td>428</td>\n",
       "      <td>481</td>\n",
       "      <td>Based on the information provided, the patient...</td>\n",
       "    </tr>\n",
       "    <tr>\n",
       "      <th>1</th>\n",
       "      <td>Discharged to home</td>\n",
       "      <td>NaN</td>\n",
       "      <td>?</td>\n",
       "      <td>Family/GeneralPractice</td>\n",
       "      <td>54</td>\n",
       "      <td>0</td>\n",
       "      <td>10</td>\n",
       "      <td>0</td>\n",
       "      <td>0</td>\n",
       "      <td>9</td>\n",
       "      <td>...</td>\n",
       "      <td>No</td>\n",
       "      <td>No</td>\n",
       "      <td>No</td>\n",
       "      <td>No</td>\n",
       "      <td>No</td>\n",
       "      <td>No</td>\n",
       "      <td>No</td>\n",
       "      <td>428</td>\n",
       "      <td>70</td>\n",
       "      <td>Based on the information provided, it is not p...</td>\n",
       "    </tr>\n",
       "    <tr>\n",
       "      <th>2</th>\n",
       "      <td>Discharged/transferred to a long term care hos...</td>\n",
       "      <td>Physician Referral</td>\n",
       "      <td>MC</td>\n",
       "      <td>Surgery-Cardiovascular/Thoracic</td>\n",
       "      <td>45</td>\n",
       "      <td>2</td>\n",
       "      <td>44</td>\n",
       "      <td>0</td>\n",
       "      <td>0</td>\n",
       "      <td>9</td>\n",
       "      <td>...</td>\n",
       "      <td>No</td>\n",
       "      <td>No</td>\n",
       "      <td>No</td>\n",
       "      <td>No</td>\n",
       "      <td>No</td>\n",
       "      <td>Ch</td>\n",
       "      <td>Yes</td>\n",
       "      <td>511</td>\n",
       "      <td>997</td>\n",
       "      <td>With a diagnosis code of 428 (heart failure), ...</td>\n",
       "    </tr>\n",
       "  </tbody>\n",
       "</table>\n",
       "<p>3 rows × 39 columns</p>\n",
       "</div>"
      ],
      "text/plain": [
       "                            discharge_disposition_id admission_source_id  \\\n",
       "0  Discharged/transferred to home with home healt...                 NaN   \n",
       "1                                 Discharged to home                 NaN   \n",
       "2  Discharged/transferred to a long term care hos...  Physician Referral   \n",
       "\n",
       "  payer_code                medical_specialty  num_lab_procedures  \\\n",
       "0         MC           Family/GeneralPractice                  12   \n",
       "1          ?           Family/GeneralPractice                  54   \n",
       "2         MC  Surgery-Cardiovascular/Thoracic                  45   \n",
       "\n",
       "   num_procedures  num_medications  number_outpatient  number_emergency  \\\n",
       "0               0               21                  0                 0   \n",
       "1               0               10                  0                 0   \n",
       "2               2               44                  0                 0   \n",
       "\n",
       "   number_diagnoses  ... glyburide.metformin glipizide.metformin  \\\n",
       "0                 9  ...                  No                  No   \n",
       "1                 9  ...                  No                  No   \n",
       "2                 9  ...                  No                  No   \n",
       "\n",
       "  glimepiride.pioglitazone metformin.rosiglitazone metformin.pioglitazone  \\\n",
       "0                       No                      No                     No   \n",
       "1                       No                      No                     No   \n",
       "2                       No                      No                     No   \n",
       "\n",
       "  change diabetesMed 2nd_diag 3rd_diag  \\\n",
       "0     No         Yes      428      481   \n",
       "1     No          No      428       70   \n",
       "2     Ch         Yes      511      997   \n",
       "\n",
       "                                         ai_response  \n",
       "0  Based on the information provided, the patient...  \n",
       "1  Based on the information provided, it is not p...  \n",
       "2  With a diagnosis code of 428 (heart failure), ...  \n",
       "\n",
       "[3 rows x 39 columns]"
      ]
     },
     "execution_count": 112,
     "metadata": {},
     "output_type": "execute_result"
    }
   ],
   "source": [
    "df2.head(3)"
   ]
  },
  {
   "cell_type": "code",
   "execution_count": 113,
   "id": "afd9fdde",
   "metadata": {},
   "outputs": [
    {
     "data": {
      "text/plain": [
       "discharge_disposition_id      18\n",
       "admission_source_id            9\n",
       "payer_code                    16\n",
       "medical_specialty             35\n",
       "num_lab_procedures            94\n",
       "num_procedures                 7\n",
       "num_medications               57\n",
       "number_outpatient             15\n",
       "number_emergency              10\n",
       "number_diagnoses               9\n",
       "max_glu_serum                  3\n",
       "metformin                      4\n",
       "repaglinide                    4\n",
       "nateglinide                    2\n",
       "chlorpropamide                 2\n",
       "glimepiride                    4\n",
       "acetohexamide                  1\n",
       "glipizide                      4\n",
       "glyburide                      4\n",
       "tolbutamide                    2\n",
       "pioglitazone                   4\n",
       "rosiglitazone                  4\n",
       "acarbose                       2\n",
       "miglitol                       2\n",
       "troglitazone                   1\n",
       "tolazamide                     1\n",
       "examide                        1\n",
       "citoglipton                    1\n",
       "insulin                        4\n",
       "glyburide.metformin            3\n",
       "glipizide.metformin            1\n",
       "glimepiride.pioglitazone       1\n",
       "metformin.rosiglitazone        1\n",
       "metformin.pioglitazone         1\n",
       "change                         2\n",
       "diabetesMed                    2\n",
       "2nd_diag                     249\n",
       "3rd_diag                     266\n",
       "ai_response                 1908\n",
       "dtype: int64"
      ]
     },
     "execution_count": 113,
     "metadata": {},
     "output_type": "execute_result"
    }
   ],
   "source": [
    "df2.nunique()"
   ]
  },
  {
   "cell_type": "code",
   "execution_count": 114,
   "id": "1a0a4bfa",
   "metadata": {},
   "outputs": [],
   "source": [
    "drop_list2 = []\n",
    "for col in df2.columns:\n",
    "    if col in ['tolazamide',  'glipizide.metformin']:\n",
    "        continue\n",
    "    if len(df2[col].unique()) == 1:\n",
    "        drop_list2.append(col)\n",
    "        df2.drop(col,inplace=True,axis=1)"
   ]
  },
  {
   "cell_type": "markdown",
   "id": "3663c1c1",
   "metadata": {},
   "source": [
    "* **Even though 'tolazamide' and 'glipizide.metformin' columns have 1 unique value in this 2k dataset, I didn't drop them because they are included in the trained model, excluding them will cause error**"
   ]
  },
  {
   "cell_type": "code",
   "execution_count": 116,
   "id": "0d1bfd42",
   "metadata": {},
   "outputs": [
    {
     "data": {
      "text/plain": [
       "Index(['discharge_disposition_id', 'admission_source_id', 'payer_code',\n",
       "       'medical_specialty', 'num_lab_procedures', 'num_procedures',\n",
       "       'num_medications', 'number_outpatient', 'number_emergency',\n",
       "       'number_diagnoses', 'max_glu_serum', 'metformin', 'repaglinide',\n",
       "       'nateglinide', 'chlorpropamide', 'glimepiride', 'glipizide',\n",
       "       'glyburide', 'tolbutamide', 'pioglitazone', 'rosiglitazone', 'acarbose',\n",
       "       'miglitol', 'tolazamide', 'insulin', 'glyburide.metformin',\n",
       "       'glipizide.metformin', 'change', 'diabetesMed', '2nd_diag', '3rd_diag',\n",
       "       'ai_response'],\n",
       "      dtype='object')"
      ]
     },
     "execution_count": 116,
     "metadata": {},
     "output_type": "execute_result"
    }
   ],
   "source": [
    "df2.columns"
   ]
  },
  {
   "cell_type": "code",
   "execution_count": 117,
   "id": "618f6675",
   "metadata": {},
   "outputs": [
    {
     "data": {
      "text/plain": [
       "(2000, 32)"
      ]
     },
     "execution_count": 117,
     "metadata": {},
     "output_type": "execute_result"
    }
   ],
   "source": [
    "df2.shape"
   ]
  },
  {
   "cell_type": "code",
   "execution_count": 118,
   "id": "f4b01ef4",
   "metadata": {},
   "outputs": [],
   "source": [
    "df2.replace(\"?\", 'missing', inplace = True)\n",
    "df2 = df2.fillna('missing')"
   ]
  },
  {
   "cell_type": "code",
   "execution_count": 119,
   "id": "95557e96",
   "metadata": {},
   "outputs": [
    {
     "data": {
      "text/html": [
       "<div>\n",
       "<style scoped>\n",
       "    .dataframe tbody tr th:only-of-type {\n",
       "        vertical-align: middle;\n",
       "    }\n",
       "\n",
       "    .dataframe tbody tr th {\n",
       "        vertical-align: top;\n",
       "    }\n",
       "\n",
       "    .dataframe thead th {\n",
       "        text-align: right;\n",
       "    }\n",
       "</style>\n",
       "<table border=\"1\" class=\"dataframe\">\n",
       "  <thead>\n",
       "    <tr style=\"text-align: right;\">\n",
       "      <th></th>\n",
       "      <th>discharge_disposition_id</th>\n",
       "      <th>admission_source_id</th>\n",
       "      <th>payer_code</th>\n",
       "      <th>medical_specialty</th>\n",
       "      <th>num_lab_procedures</th>\n",
       "      <th>num_procedures</th>\n",
       "      <th>num_medications</th>\n",
       "      <th>number_outpatient</th>\n",
       "      <th>number_emergency</th>\n",
       "      <th>number_diagnoses</th>\n",
       "      <th>...</th>\n",
       "      <th>miglitol</th>\n",
       "      <th>tolazamide</th>\n",
       "      <th>insulin</th>\n",
       "      <th>glyburide.metformin</th>\n",
       "      <th>glipizide.metformin</th>\n",
       "      <th>change</th>\n",
       "      <th>diabetesMed</th>\n",
       "      <th>2nd_diag</th>\n",
       "      <th>3rd_diag</th>\n",
       "      <th>ai_response</th>\n",
       "    </tr>\n",
       "  </thead>\n",
       "  <tbody>\n",
       "    <tr>\n",
       "      <th>0</th>\n",
       "      <td>Discharged/transferred to home with home healt...</td>\n",
       "      <td>missing</td>\n",
       "      <td>MC</td>\n",
       "      <td>Family/GeneralPractice</td>\n",
       "      <td>12</td>\n",
       "      <td>0</td>\n",
       "      <td>21</td>\n",
       "      <td>0</td>\n",
       "      <td>0</td>\n",
       "      <td>9</td>\n",
       "      <td>...</td>\n",
       "      <td>No</td>\n",
       "      <td>No</td>\n",
       "      <td>Steady</td>\n",
       "      <td>No</td>\n",
       "      <td>No</td>\n",
       "      <td>No</td>\n",
       "      <td>Yes</td>\n",
       "      <td>428</td>\n",
       "      <td>481</td>\n",
       "      <td>Based on the information provided, the patient...</td>\n",
       "    </tr>\n",
       "    <tr>\n",
       "      <th>1</th>\n",
       "      <td>Discharged to home</td>\n",
       "      <td>missing</td>\n",
       "      <td>missing</td>\n",
       "      <td>Family/GeneralPractice</td>\n",
       "      <td>54</td>\n",
       "      <td>0</td>\n",
       "      <td>10</td>\n",
       "      <td>0</td>\n",
       "      <td>0</td>\n",
       "      <td>9</td>\n",
       "      <td>...</td>\n",
       "      <td>No</td>\n",
       "      <td>No</td>\n",
       "      <td>No</td>\n",
       "      <td>No</td>\n",
       "      <td>No</td>\n",
       "      <td>No</td>\n",
       "      <td>No</td>\n",
       "      <td>428</td>\n",
       "      <td>70</td>\n",
       "      <td>Based on the information provided, it is not p...</td>\n",
       "    </tr>\n",
       "    <tr>\n",
       "      <th>2</th>\n",
       "      <td>Discharged/transferred to a long term care hos...</td>\n",
       "      <td>Physician Referral</td>\n",
       "      <td>MC</td>\n",
       "      <td>Surgery-Cardiovascular/Thoracic</td>\n",
       "      <td>45</td>\n",
       "      <td>2</td>\n",
       "      <td>44</td>\n",
       "      <td>0</td>\n",
       "      <td>0</td>\n",
       "      <td>9</td>\n",
       "      <td>...</td>\n",
       "      <td>No</td>\n",
       "      <td>No</td>\n",
       "      <td>Down</td>\n",
       "      <td>No</td>\n",
       "      <td>No</td>\n",
       "      <td>Ch</td>\n",
       "      <td>Yes</td>\n",
       "      <td>511</td>\n",
       "      <td>997</td>\n",
       "      <td>With a diagnosis code of 428 (heart failure), ...</td>\n",
       "    </tr>\n",
       "  </tbody>\n",
       "</table>\n",
       "<p>3 rows × 32 columns</p>\n",
       "</div>"
      ],
      "text/plain": [
       "                            discharge_disposition_id admission_source_id  \\\n",
       "0  Discharged/transferred to home with home healt...             missing   \n",
       "1                                 Discharged to home             missing   \n",
       "2  Discharged/transferred to a long term care hos...  Physician Referral   \n",
       "\n",
       "  payer_code                medical_specialty  num_lab_procedures  \\\n",
       "0         MC           Family/GeneralPractice                  12   \n",
       "1    missing           Family/GeneralPractice                  54   \n",
       "2         MC  Surgery-Cardiovascular/Thoracic                  45   \n",
       "\n",
       "   num_procedures  num_medications  number_outpatient  number_emergency  \\\n",
       "0               0               21                  0                 0   \n",
       "1               0               10                  0                 0   \n",
       "2               2               44                  0                 0   \n",
       "\n",
       "   number_diagnoses  ... miglitol tolazamide insulin glyburide.metformin  \\\n",
       "0                 9  ...       No         No  Steady                  No   \n",
       "1                 9  ...       No         No      No                  No   \n",
       "2                 9  ...       No         No    Down                  No   \n",
       "\n",
       "  glipizide.metformin change diabetesMed 2nd_diag 3rd_diag  \\\n",
       "0                  No     No         Yes      428      481   \n",
       "1                  No     No          No      428       70   \n",
       "2                  No     Ch         Yes      511      997   \n",
       "\n",
       "                                         ai_response  \n",
       "0  Based on the information provided, the patient...  \n",
       "1  Based on the information provided, it is not p...  \n",
       "2  With a diagnosis code of 428 (heart failure), ...  \n",
       "\n",
       "[3 rows x 32 columns]"
      ]
     },
     "execution_count": 119,
     "metadata": {},
     "output_type": "execute_result"
    }
   ],
   "source": [
    "df2.head(3)"
   ]
  },
  {
   "cell_type": "code",
   "execution_count": 120,
   "id": "91891e53",
   "metadata": {},
   "outputs": [
    {
     "name": "stdout",
     "output_type": "stream",
     "text": [
      "18\n"
     ]
    },
    {
     "data": {
      "text/plain": [
       "array(['Discharged/transferred to home with home health service',\n",
       "       'Discharged to home',\n",
       "       'Discharged/transferred to a long term care hospital.',\n",
       "       'Discharged/transferred to another  type of inpatient care institution',\n",
       "       'missing', 'Discharged/transferred to SNF',\n",
       "       'Discharged/transferred to another short term hospital', 'Hospice',\n",
       "       'Expired', 'Discharged/transferred to ICF',\n",
       "       'Discharged/transferred to another rehab fac including rehab units of a hospital.',\n",
       "       'Not Mapped', 'Left AMA',\n",
       "       'Discharged/transferred to home under care of Home IV provider',\n",
       "       'Discharged/transferred to a federal health care facility.',\n",
       "       'Discharged/transferred/referred to a psychiatric hospital of a psychiatric distinct part unit of a hospital',\n",
       "       'Discharged/transferred/referred to this institution for outpatient services',\n",
       "       'Discharged/transferred to a nursing facility certified under Medicaid but not certified under Medicare'],\n",
       "      dtype=object)"
      ]
     },
     "execution_count": 120,
     "metadata": {},
     "output_type": "execute_result"
    }
   ],
   "source": [
    "# replace rows contain 'Hospice ...' to 'Hospice'\n",
    "df2['discharge_disposition_id'] = df2['discharge_disposition_id'].replace([\n",
    "    'Hospice / home', 'Hospice / medical facility'\n",
    "], 'Hospice')\n",
    "\n",
    "\n",
    "# replace rows contain 'Admitted ... ' to 'Admitted'\n",
    "df2['discharge_disposition_id'] = df2['discharge_disposition_id'].replace(\n",
    "    'Admitted as an inpatient to this hospital', 'Admitted')\n",
    "\n",
    "print(len(df2['discharge_disposition_id'].unique()))\n",
    "df2['discharge_disposition_id'].unique()"
   ]
  },
  {
   "cell_type": "code",
   "execution_count": 121,
   "id": "6d0df9e4",
   "metadata": {},
   "outputs": [],
   "source": [
    "# removed disposition code with ‘Expired’ & 'Hospice' \n",
    "df2 = df2[(df2.discharge_disposition_id != 'Expired') & (df2.discharge_disposition_id != 'Hospice')]"
   ]
  },
  {
   "cell_type": "code",
   "execution_count": 122,
   "id": "9b672561",
   "metadata": {},
   "outputs": [
    {
     "name": "stdout",
     "output_type": "stream",
     "text": [
      "['Discharged/transferred to home with home health service'\n",
      " 'Discharged to home'\n",
      " 'Discharged/transferred to a long term care hospital.'\n",
      " 'Discharged/transferred to another  type of inpatient care institution'\n",
      " 'missing' 'Discharged/transferred to SNF'\n",
      " 'Discharged/transferred to another short term hospital'\n",
      " 'Discharged/transferred to ICF'\n",
      " 'Discharged/transferred to another rehab fac including rehab units of a hospital.'\n",
      " 'Not Mapped' 'Left AMA'\n",
      " 'Discharged/transferred to home under care of Home IV provider'\n",
      " 'Discharged/transferred to a federal health care facility.'\n",
      " 'Discharged/transferred/referred to a psychiatric hospital of a psychiatric distinct part unit of a hospital'\n",
      " 'Discharged/transferred/referred to this institution for outpatient services'\n",
      " 'Discharged/transferred to a nursing facility certified under Medicaid but not certified under Medicare']\n"
     ]
    }
   ],
   "source": [
    "print(df2['discharge_disposition_id'].unique())"
   ]
  },
  {
   "cell_type": "code",
   "execution_count": 123,
   "id": "f01f1e33",
   "metadata": {},
   "outputs": [
    {
     "data": {
      "text/plain": [
       "discharge_disposition_id      16\n",
       "admission_source_id           10\n",
       "payer_code                    16\n",
       "medical_specialty             35\n",
       "num_lab_procedures            94\n",
       "num_procedures                 7\n",
       "num_medications               56\n",
       "number_outpatient             15\n",
       "number_emergency              10\n",
       "number_diagnoses               9\n",
       "max_glu_serum                  4\n",
       "metformin                      4\n",
       "repaglinide                    4\n",
       "nateglinide                    2\n",
       "chlorpropamide                 2\n",
       "glimepiride                    4\n",
       "glipizide                      4\n",
       "glyburide                      4\n",
       "tolbutamide                    2\n",
       "pioglitazone                   4\n",
       "rosiglitazone                  4\n",
       "acarbose                       2\n",
       "miglitol                       2\n",
       "tolazamide                     1\n",
       "insulin                        4\n",
       "glyburide.metformin            3\n",
       "glipizide.metformin            1\n",
       "change                         2\n",
       "diabetesMed                    2\n",
       "2nd_diag                     247\n",
       "3rd_diag                     263\n",
       "ai_response                 1858\n",
       "dtype: int64"
      ]
     },
     "execution_count": 123,
     "metadata": {},
     "output_type": "execute_result"
    }
   ],
   "source": [
    "df2.nunique()"
   ]
  },
  {
   "cell_type": "code",
   "execution_count": 124,
   "id": "3a2c0510",
   "metadata": {},
   "outputs": [],
   "source": [
    "# determine categorical and numerical features\n",
    "numerical_features = df2.select_dtypes('number').columns\n",
    "categorical_features = df2.select_dtypes('object').columns"
   ]
  },
  {
   "cell_type": "code",
   "execution_count": 125,
   "id": "5b1fdd08",
   "metadata": {},
   "outputs": [
    {
     "data": {
      "text/plain": [
       "discharge_disposition_id      16\n",
       "admission_source_id           10\n",
       "payer_code                    16\n",
       "medical_specialty             35\n",
       "max_glu_serum                  4\n",
       "metformin                      4\n",
       "repaglinide                    4\n",
       "nateglinide                    2\n",
       "chlorpropamide                 2\n",
       "glimepiride                    4\n",
       "glipizide                      4\n",
       "glyburide                      4\n",
       "tolbutamide                    2\n",
       "pioglitazone                   4\n",
       "rosiglitazone                  4\n",
       "acarbose                       2\n",
       "miglitol                       2\n",
       "tolazamide                     1\n",
       "insulin                        4\n",
       "glyburide.metformin            3\n",
       "glipizide.metformin            1\n",
       "change                         2\n",
       "diabetesMed                    2\n",
       "2nd_diag                     247\n",
       "3rd_diag                     263\n",
       "ai_response                 1858\n",
       "dtype: int64"
      ]
     },
     "execution_count": 125,
     "metadata": {},
     "output_type": "execute_result"
    }
   ],
   "source": [
    "cat_feat2 = df2[categorical_features].nunique()\n",
    "cat_feat2"
   ]
  },
  {
   "cell_type": "code",
   "execution_count": 126,
   "id": "94a0e49b",
   "metadata": {},
   "outputs": [
    {
     "name": "stdout",
     "output_type": "stream",
     "text": [
      "['nateglinide', 'chlorpropamide', 'tolbutamide', 'acarbose', 'miglitol', 'tolazamide', 'glipizide.metformin', 'change', 'diabetesMed'] \n",
      " ['max_glu_serum', 'metformin', 'repaglinide', 'glimepiride', 'glipizide', 'glyburide', 'pioglitazone', 'rosiglitazone', 'insulin', 'glyburide.metformin'] ['discharge_disposition_id', 'admission_source_id', 'payer_code', 'medical_specialty', '2nd_diag', '3rd_diag', 'ai_response']\n"
     ]
    }
   ],
   "source": [
    "high_arr2, mid_arr2, low_arr2 = [], [], []\n",
    "\n",
    "for i, t in cat_feat2.items():\n",
    "    if t <= 2:\n",
    "        low_arr2.append(i)\n",
    "    elif t <= 4:\n",
    "        mid_arr2.append(i)\n",
    "    else:\n",
    "        high_arr2.append(i)\n",
    "print(low_arr2, '\\n', mid_arr2, high_arr2)"
   ]
  },
  {
   "cell_type": "code",
   "execution_count": 127,
   "id": "f2f03b85",
   "metadata": {},
   "outputs": [],
   "source": [
    "# encode high cardinality features\n",
    "categorical_features_only_2 = high_arr2[:-1]\n",
    "\n",
    "df2[categorical_features_only_2] = categorical_transformer.transform(df2[categorical_features_only_2])"
   ]
  },
  {
   "cell_type": "code",
   "execution_count": 129,
   "id": "e34d560f",
   "metadata": {},
   "outputs": [
    {
     "data": {
      "text/html": [
       "<div>\n",
       "<style scoped>\n",
       "    .dataframe tbody tr th:only-of-type {\n",
       "        vertical-align: middle;\n",
       "    }\n",
       "\n",
       "    .dataframe tbody tr th {\n",
       "        vertical-align: top;\n",
       "    }\n",
       "\n",
       "    .dataframe thead th {\n",
       "        text-align: right;\n",
       "    }\n",
       "</style>\n",
       "<table border=\"1\" class=\"dataframe\">\n",
       "  <thead>\n",
       "    <tr style=\"text-align: right;\">\n",
       "      <th></th>\n",
       "      <th>discharge_disposition_id</th>\n",
       "      <th>admission_source_id</th>\n",
       "      <th>payer_code</th>\n",
       "      <th>medical_specialty</th>\n",
       "      <th>2nd_diag</th>\n",
       "      <th>3rd_diag</th>\n",
       "    </tr>\n",
       "  </thead>\n",
       "  <tbody>\n",
       "    <tr>\n",
       "      <th>0</th>\n",
       "      <td>722.0</td>\n",
       "      <td>589</td>\n",
       "      <td>1555</td>\n",
       "      <td>545.0</td>\n",
       "      <td>477.0</td>\n",
       "      <td>6.0</td>\n",
       "    </tr>\n",
       "    <tr>\n",
       "      <th>1</th>\n",
       "      <td>3901.0</td>\n",
       "      <td>589</td>\n",
       "      <td>3346</td>\n",
       "      <td>545.0</td>\n",
       "      <td>477.0</td>\n",
       "      <td>29.0</td>\n",
       "    </tr>\n",
       "    <tr>\n",
       "      <th>2</th>\n",
       "      <td>29.0</td>\n",
       "      <td>1903</td>\n",
       "      <td>1555</td>\n",
       "      <td>63.0</td>\n",
       "      <td>18.0</td>\n",
       "      <td>57.0</td>\n",
       "    </tr>\n",
       "  </tbody>\n",
       "</table>\n",
       "</div>"
      ],
      "text/plain": [
       "   discharge_disposition_id  admission_source_id  payer_code  \\\n",
       "0                     722.0                  589        1555   \n",
       "1                    3901.0                  589        3346   \n",
       "2                      29.0                 1903        1555   \n",
       "\n",
       "   medical_specialty  2nd_diag  3rd_diag  \n",
       "0              545.0     477.0       6.0  \n",
       "1              545.0     477.0      29.0  \n",
       "2               63.0      18.0      57.0  "
      ]
     },
     "execution_count": 129,
     "metadata": {},
     "output_type": "execute_result"
    }
   ],
   "source": [
    "df2[categorical_features_only_2].head(3)"
   ]
  },
  {
   "cell_type": "code",
   "execution_count": 130,
   "id": "dd4d8860",
   "metadata": {},
   "outputs": [],
   "source": [
    "# encode low cardinality features\n",
    "df2[low_arr2] = df2[low_arr2].replace({'No': 0, 'Ch': 1, 'Steady': 1, 'Yes': 1}).astype(int)"
   ]
  },
  {
   "cell_type": "code",
   "execution_count": 131,
   "id": "df019e6a",
   "metadata": {},
   "outputs": [
    {
     "data": {
      "text/html": [
       "<div>\n",
       "<style scoped>\n",
       "    .dataframe tbody tr th:only-of-type {\n",
       "        vertical-align: middle;\n",
       "    }\n",
       "\n",
       "    .dataframe tbody tr th {\n",
       "        vertical-align: top;\n",
       "    }\n",
       "\n",
       "    .dataframe thead th {\n",
       "        text-align: right;\n",
       "    }\n",
       "</style>\n",
       "<table border=\"1\" class=\"dataframe\">\n",
       "  <thead>\n",
       "    <tr style=\"text-align: right;\">\n",
       "      <th></th>\n",
       "      <th>nateglinide</th>\n",
       "      <th>chlorpropamide</th>\n",
       "      <th>tolbutamide</th>\n",
       "      <th>acarbose</th>\n",
       "      <th>miglitol</th>\n",
       "      <th>tolazamide</th>\n",
       "      <th>glipizide.metformin</th>\n",
       "      <th>change</th>\n",
       "      <th>diabetesMed</th>\n",
       "    </tr>\n",
       "  </thead>\n",
       "  <tbody>\n",
       "    <tr>\n",
       "      <th>0</th>\n",
       "      <td>0</td>\n",
       "      <td>0</td>\n",
       "      <td>0</td>\n",
       "      <td>0</td>\n",
       "      <td>0</td>\n",
       "      <td>0</td>\n",
       "      <td>0</td>\n",
       "      <td>0</td>\n",
       "      <td>1</td>\n",
       "    </tr>\n",
       "    <tr>\n",
       "      <th>1</th>\n",
       "      <td>0</td>\n",
       "      <td>0</td>\n",
       "      <td>0</td>\n",
       "      <td>0</td>\n",
       "      <td>0</td>\n",
       "      <td>0</td>\n",
       "      <td>0</td>\n",
       "      <td>0</td>\n",
       "      <td>0</td>\n",
       "    </tr>\n",
       "    <tr>\n",
       "      <th>2</th>\n",
       "      <td>0</td>\n",
       "      <td>0</td>\n",
       "      <td>0</td>\n",
       "      <td>0</td>\n",
       "      <td>0</td>\n",
       "      <td>0</td>\n",
       "      <td>0</td>\n",
       "      <td>1</td>\n",
       "      <td>1</td>\n",
       "    </tr>\n",
       "  </tbody>\n",
       "</table>\n",
       "</div>"
      ],
      "text/plain": [
       "   nateglinide  chlorpropamide  tolbutamide  acarbose  miglitol  tolazamide  \\\n",
       "0            0               0            0         0         0           0   \n",
       "1            0               0            0         0         0           0   \n",
       "2            0               0            0         0         0           0   \n",
       "\n",
       "   glipizide.metformin  change  diabetesMed  \n",
       "0                    0       0            1  \n",
       "1                    0       0            0  \n",
       "2                    0       1            1  "
      ]
     },
     "execution_count": 131,
     "metadata": {},
     "output_type": "execute_result"
    }
   ],
   "source": [
    "df2[low_arr2].head(3)"
   ]
  },
  {
   "cell_type": "code",
   "execution_count": 132,
   "id": "0f7b3265",
   "metadata": {},
   "outputs": [],
   "source": [
    "# encode the rest\n",
    "df2[mid_arr2] = df2[mid_arr2].replace({'missing': 0,'No': 0, \n",
    "                          'Down': 1, 'Norm': 1, \n",
    "                          '>200': 2, '>300': 3,\n",
    "                          'Steady': 2, 'Up': 3}).astype(int)\n"
   ]
  },
  {
   "cell_type": "code",
   "execution_count": 133,
   "id": "944f3947",
   "metadata": {},
   "outputs": [
    {
     "data": {
      "text/html": [
       "<div>\n",
       "<style scoped>\n",
       "    .dataframe tbody tr th:only-of-type {\n",
       "        vertical-align: middle;\n",
       "    }\n",
       "\n",
       "    .dataframe tbody tr th {\n",
       "        vertical-align: top;\n",
       "    }\n",
       "\n",
       "    .dataframe thead th {\n",
       "        text-align: right;\n",
       "    }\n",
       "</style>\n",
       "<table border=\"1\" class=\"dataframe\">\n",
       "  <thead>\n",
       "    <tr style=\"text-align: right;\">\n",
       "      <th></th>\n",
       "      <th>max_glu_serum</th>\n",
       "      <th>metformin</th>\n",
       "      <th>repaglinide</th>\n",
       "      <th>glimepiride</th>\n",
       "      <th>glipizide</th>\n",
       "      <th>glyburide</th>\n",
       "      <th>pioglitazone</th>\n",
       "      <th>rosiglitazone</th>\n",
       "      <th>insulin</th>\n",
       "      <th>glyburide.metformin</th>\n",
       "    </tr>\n",
       "  </thead>\n",
       "  <tbody>\n",
       "    <tr>\n",
       "      <th>0</th>\n",
       "      <td>2</td>\n",
       "      <td>0</td>\n",
       "      <td>0</td>\n",
       "      <td>0</td>\n",
       "      <td>0</td>\n",
       "      <td>0</td>\n",
       "      <td>0</td>\n",
       "      <td>0</td>\n",
       "      <td>2</td>\n",
       "      <td>0</td>\n",
       "    </tr>\n",
       "    <tr>\n",
       "      <th>1</th>\n",
       "      <td>0</td>\n",
       "      <td>0</td>\n",
       "      <td>0</td>\n",
       "      <td>0</td>\n",
       "      <td>0</td>\n",
       "      <td>0</td>\n",
       "      <td>0</td>\n",
       "      <td>0</td>\n",
       "      <td>0</td>\n",
       "      <td>0</td>\n",
       "    </tr>\n",
       "    <tr>\n",
       "      <th>2</th>\n",
       "      <td>0</td>\n",
       "      <td>1</td>\n",
       "      <td>0</td>\n",
       "      <td>0</td>\n",
       "      <td>2</td>\n",
       "      <td>2</td>\n",
       "      <td>0</td>\n",
       "      <td>0</td>\n",
       "      <td>1</td>\n",
       "      <td>0</td>\n",
       "    </tr>\n",
       "  </tbody>\n",
       "</table>\n",
       "</div>"
      ],
      "text/plain": [
       "   max_glu_serum  metformin  repaglinide  glimepiride  glipizide  glyburide  \\\n",
       "0              2          0            0            0          0          0   \n",
       "1              0          0            0            0          0          0   \n",
       "2              0          1            0            0          2          2   \n",
       "\n",
       "   pioglitazone  rosiglitazone  insulin  glyburide.metformin  \n",
       "0             0              0        2                    0  \n",
       "1             0              0        0                    0  \n",
       "2             0              0        1                    0  "
      ]
     },
     "execution_count": 133,
     "metadata": {},
     "output_type": "execute_result"
    }
   ],
   "source": [
    "df2[mid_arr2].head(3)"
   ]
  },
  {
   "cell_type": "code",
   "execution_count": 134,
   "id": "90194d03",
   "metadata": {},
   "outputs": [],
   "source": [
    "# scale numerical features\n",
    "df2[numerical_features] = numerical_transformer.transform(df2[numerical_features])"
   ]
  },
  {
   "cell_type": "code",
   "execution_count": 135,
   "id": "5b6a44a1",
   "metadata": {},
   "outputs": [
    {
     "data": {
      "text/html": [
       "<div>\n",
       "<style scoped>\n",
       "    .dataframe tbody tr th:only-of-type {\n",
       "        vertical-align: middle;\n",
       "    }\n",
       "\n",
       "    .dataframe tbody tr th {\n",
       "        vertical-align: top;\n",
       "    }\n",
       "\n",
       "    .dataframe thead th {\n",
       "        text-align: right;\n",
       "    }\n",
       "</style>\n",
       "<table border=\"1\" class=\"dataframe\">\n",
       "  <thead>\n",
       "    <tr style=\"text-align: right;\">\n",
       "      <th></th>\n",
       "      <th>discharge_disposition_id</th>\n",
       "      <th>admission_source_id</th>\n",
       "      <th>payer_code</th>\n",
       "      <th>medical_specialty</th>\n",
       "      <th>num_lab_procedures</th>\n",
       "      <th>num_procedures</th>\n",
       "      <th>num_medications</th>\n",
       "      <th>number_outpatient</th>\n",
       "      <th>number_emergency</th>\n",
       "      <th>number_diagnoses</th>\n",
       "      <th>...</th>\n",
       "      <th>miglitol</th>\n",
       "      <th>tolazamide</th>\n",
       "      <th>insulin</th>\n",
       "      <th>glyburide.metformin</th>\n",
       "      <th>glipizide.metformin</th>\n",
       "      <th>change</th>\n",
       "      <th>diabetesMed</th>\n",
       "      <th>2nd_diag</th>\n",
       "      <th>3rd_diag</th>\n",
       "      <th>ai_response</th>\n",
       "    </tr>\n",
       "  </thead>\n",
       "  <tbody>\n",
       "    <tr>\n",
       "      <th>0</th>\n",
       "      <td>722.0</td>\n",
       "      <td>589</td>\n",
       "      <td>1555</td>\n",
       "      <td>545.0</td>\n",
       "      <td>-1.595454</td>\n",
       "      <td>-0.823815</td>\n",
       "      <td>0.654797</td>\n",
       "      <td>-0.286904</td>\n",
       "      <td>-0.229246</td>\n",
       "      <td>0.984454</td>\n",
       "      <td>...</td>\n",
       "      <td>0</td>\n",
       "      <td>0</td>\n",
       "      <td>2</td>\n",
       "      <td>0</td>\n",
       "      <td>0</td>\n",
       "      <td>0</td>\n",
       "      <td>1</td>\n",
       "      <td>477.0</td>\n",
       "      <td>6.0</td>\n",
       "      <td>Based on the information provided, the patient...</td>\n",
       "    </tr>\n",
       "    <tr>\n",
       "      <th>1</th>\n",
       "      <td>3901.0</td>\n",
       "      <td>589</td>\n",
       "      <td>3346</td>\n",
       "      <td>545.0</td>\n",
       "      <td>0.561254</td>\n",
       "      <td>-0.823815</td>\n",
       "      <td>-0.664973</td>\n",
       "      <td>-0.286904</td>\n",
       "      <td>-0.229246</td>\n",
       "      <td>0.984454</td>\n",
       "      <td>...</td>\n",
       "      <td>0</td>\n",
       "      <td>0</td>\n",
       "      <td>0</td>\n",
       "      <td>0</td>\n",
       "      <td>0</td>\n",
       "      <td>0</td>\n",
       "      <td>0</td>\n",
       "      <td>477.0</td>\n",
       "      <td>29.0</td>\n",
       "      <td>Based on the information provided, it is not p...</td>\n",
       "    </tr>\n",
       "  </tbody>\n",
       "</table>\n",
       "<p>2 rows × 32 columns</p>\n",
       "</div>"
      ],
      "text/plain": [
       "   discharge_disposition_id  admission_source_id  payer_code  \\\n",
       "0                     722.0                  589        1555   \n",
       "1                    3901.0                  589        3346   \n",
       "\n",
       "   medical_specialty  num_lab_procedures  num_procedures  num_medications  \\\n",
       "0              545.0           -1.595454       -0.823815         0.654797   \n",
       "1              545.0            0.561254       -0.823815        -0.664973   \n",
       "\n",
       "   number_outpatient  number_emergency  number_diagnoses  ...  miglitol  \\\n",
       "0          -0.286904         -0.229246          0.984454  ...         0   \n",
       "1          -0.286904         -0.229246          0.984454  ...         0   \n",
       "\n",
       "   tolazamide  insulin  glyburide.metformin  glipizide.metformin  change  \\\n",
       "0           0        2                    0                    0       0   \n",
       "1           0        0                    0                    0       0   \n",
       "\n",
       "   diabetesMed  2nd_diag  3rd_diag  \\\n",
       "0            1     477.0       6.0   \n",
       "1            0     477.0      29.0   \n",
       "\n",
       "                                         ai_response  \n",
       "0  Based on the information provided, the patient...  \n",
       "1  Based on the information provided, it is not p...  \n",
       "\n",
       "[2 rows x 32 columns]"
      ]
     },
     "execution_count": 135,
     "metadata": {},
     "output_type": "execute_result"
    }
   ],
   "source": [
    "df2.head(2)"
   ]
  },
  {
   "cell_type": "code",
   "execution_count": 136,
   "id": "d5da37cb",
   "metadata": {},
   "outputs": [],
   "source": [
    "# remove stopwords in text data\n",
    "df2['ai_response'] = df2['ai_response'].apply(lambda text: remove_stopwords(text))"
   ]
  },
  {
   "cell_type": "code",
   "execution_count": 137,
   "id": "a41448b8",
   "metadata": {},
   "outputs": [],
   "source": [
    "# lemmatize text in text data\n",
    "df2['ai_response'] = df2['ai_response'].apply(lambda text: lemmatize_words(text))"
   ]
  },
  {
   "cell_type": "code",
   "execution_count": 138,
   "id": "a2c4e44f",
   "metadata": {},
   "outputs": [
    {
     "data": {
      "text/plain": [
       "0       Based information provided, patient diagnosis ...\n",
       "1       Based information provided, possible accuratel...\n",
       "2       With diagnosis code 428 (heart failure), patie...\n",
       "3       Based diagnosis code 250.82, indicate type 2 d...\n",
       "4       Based information provided, patient diagnosis ...\n",
       "                              ...                        \n",
       "1995    Based information provided, patient diagnosis ...\n",
       "1996    Based information provided, diagnosis code 250...\n",
       "1997    I recommend keep patient hospital information ...\n",
       "1998    Based information provided, patient diagnosis ...\n",
       "1999    Based diagnosis code 410 (acute myocardial inf...\n",
       "Name: ai_response, Length: 1947, dtype: object"
      ]
     },
     "execution_count": 138,
     "metadata": {},
     "output_type": "execute_result"
    }
   ],
   "source": [
    "df2['ai_response']"
   ]
  },
  {
   "cell_type": "code",
   "execution_count": 139,
   "id": "01e7bf9f",
   "metadata": {},
   "outputs": [],
   "source": [
    "# tf-idf vectorized text data\n",
    "df2_tf = tf.transform(df2['ai_response'])"
   ]
  },
  {
   "cell_type": "code",
   "execution_count": 140,
   "id": "f20844c9",
   "metadata": {},
   "outputs": [],
   "source": [
    "# make predictions with lr model\n",
    "df2_tf_pred = lr.predict(df2_tf)"
   ]
  },
  {
   "cell_type": "code",
   "execution_count": 141,
   "id": "29bd1d88",
   "metadata": {},
   "outputs": [
    {
     "name": "stdout",
     "output_type": "stream",
     "text": [
      "1947\n"
     ]
    }
   ],
   "source": [
    "print(len(df2_tf_pred))"
   ]
  },
  {
   "cell_type": "code",
   "execution_count": 142,
   "id": "ea0ac0f5",
   "metadata": {},
   "outputs": [],
   "source": [
    "df2_new = df2.drop('ai_response', axis=1)"
   ]
  },
  {
   "cell_type": "code",
   "execution_count": 143,
   "id": "af9c0eca",
   "metadata": {},
   "outputs": [
    {
     "data": {
      "text/html": [
       "<div>\n",
       "<style scoped>\n",
       "    .dataframe tbody tr th:only-of-type {\n",
       "        vertical-align: middle;\n",
       "    }\n",
       "\n",
       "    .dataframe tbody tr th {\n",
       "        vertical-align: top;\n",
       "    }\n",
       "\n",
       "    .dataframe thead th {\n",
       "        text-align: right;\n",
       "    }\n",
       "</style>\n",
       "<table border=\"1\" class=\"dataframe\">\n",
       "  <thead>\n",
       "    <tr style=\"text-align: right;\">\n",
       "      <th></th>\n",
       "      <th>discharge_disposition_id</th>\n",
       "      <th>admission_source_id</th>\n",
       "      <th>payer_code</th>\n",
       "      <th>medical_specialty</th>\n",
       "      <th>num_lab_procedures</th>\n",
       "      <th>num_procedures</th>\n",
       "      <th>num_medications</th>\n",
       "      <th>number_outpatient</th>\n",
       "      <th>number_emergency</th>\n",
       "      <th>number_diagnoses</th>\n",
       "      <th>...</th>\n",
       "      <th>acarbose</th>\n",
       "      <th>miglitol</th>\n",
       "      <th>tolazamide</th>\n",
       "      <th>insulin</th>\n",
       "      <th>glyburide.metformin</th>\n",
       "      <th>glipizide.metformin</th>\n",
       "      <th>change</th>\n",
       "      <th>diabetesMed</th>\n",
       "      <th>2nd_diag</th>\n",
       "      <th>3rd_diag</th>\n",
       "    </tr>\n",
       "  </thead>\n",
       "  <tbody>\n",
       "    <tr>\n",
       "      <th>0</th>\n",
       "      <td>722.0</td>\n",
       "      <td>589</td>\n",
       "      <td>1555</td>\n",
       "      <td>545.0</td>\n",
       "      <td>-1.595454</td>\n",
       "      <td>-0.823815</td>\n",
       "      <td>0.654797</td>\n",
       "      <td>-0.286904</td>\n",
       "      <td>-0.229246</td>\n",
       "      <td>0.984454</td>\n",
       "      <td>...</td>\n",
       "      <td>0</td>\n",
       "      <td>0</td>\n",
       "      <td>0</td>\n",
       "      <td>2</td>\n",
       "      <td>0</td>\n",
       "      <td>0</td>\n",
       "      <td>0</td>\n",
       "      <td>1</td>\n",
       "      <td>477.0</td>\n",
       "      <td>6.0</td>\n",
       "    </tr>\n",
       "    <tr>\n",
       "      <th>1</th>\n",
       "      <td>3901.0</td>\n",
       "      <td>589</td>\n",
       "      <td>3346</td>\n",
       "      <td>545.0</td>\n",
       "      <td>0.561254</td>\n",
       "      <td>-0.823815</td>\n",
       "      <td>-0.664973</td>\n",
       "      <td>-0.286904</td>\n",
       "      <td>-0.229246</td>\n",
       "      <td>0.984454</td>\n",
       "      <td>...</td>\n",
       "      <td>0</td>\n",
       "      <td>0</td>\n",
       "      <td>0</td>\n",
       "      <td>0</td>\n",
       "      <td>0</td>\n",
       "      <td>0</td>\n",
       "      <td>0</td>\n",
       "      <td>0</td>\n",
       "      <td>477.0</td>\n",
       "      <td>29.0</td>\n",
       "    </tr>\n",
       "  </tbody>\n",
       "</table>\n",
       "<p>2 rows × 31 columns</p>\n",
       "</div>"
      ],
      "text/plain": [
       "   discharge_disposition_id  admission_source_id  payer_code  \\\n",
       "0                     722.0                  589        1555   \n",
       "1                    3901.0                  589        3346   \n",
       "\n",
       "   medical_specialty  num_lab_procedures  num_procedures  num_medications  \\\n",
       "0              545.0           -1.595454       -0.823815         0.654797   \n",
       "1              545.0            0.561254       -0.823815        -0.664973   \n",
       "\n",
       "   number_outpatient  number_emergency  number_diagnoses  ...  acarbose  \\\n",
       "0          -0.286904         -0.229246          0.984454  ...         0   \n",
       "1          -0.286904         -0.229246          0.984454  ...         0   \n",
       "\n",
       "   miglitol  tolazamide  insulin  glyburide.metformin  glipizide.metformin  \\\n",
       "0         0           0        2                    0                    0   \n",
       "1         0           0        0                    0                    0   \n",
       "\n",
       "   change  diabetesMed  2nd_diag  3rd_diag  \n",
       "0       0            1     477.0       6.0  \n",
       "1       0            0     477.0      29.0  \n",
       "\n",
       "[2 rows x 31 columns]"
      ]
     },
     "execution_count": 143,
     "metadata": {},
     "output_type": "execute_result"
    }
   ],
   "source": [
    "df2_new.head(2)"
   ]
  },
  {
   "cell_type": "code",
   "execution_count": 144,
   "id": "182355fb",
   "metadata": {},
   "outputs": [],
   "source": [
    "# stack text data predictions in the new data\n",
    "df2_new = np.concatenate((df2_new, df2_tf_pred.reshape(-1, 1)), axis=1)"
   ]
  },
  {
   "cell_type": "code",
   "execution_count": 145,
   "id": "661e27b9",
   "metadata": {},
   "outputs": [],
   "source": [
    "# create new data for meta model to predict\n",
    "df2_new_df = pd.DataFrame(df2_new, columns=df2.columns)"
   ]
  },
  {
   "cell_type": "code",
   "execution_count": 146,
   "id": "72cee88c",
   "metadata": {},
   "outputs": [
    {
     "data": {
      "text/html": [
       "<div>\n",
       "<style scoped>\n",
       "    .dataframe tbody tr th:only-of-type {\n",
       "        vertical-align: middle;\n",
       "    }\n",
       "\n",
       "    .dataframe tbody tr th {\n",
       "        vertical-align: top;\n",
       "    }\n",
       "\n",
       "    .dataframe thead th {\n",
       "        text-align: right;\n",
       "    }\n",
       "</style>\n",
       "<table border=\"1\" class=\"dataframe\">\n",
       "  <thead>\n",
       "    <tr style=\"text-align: right;\">\n",
       "      <th></th>\n",
       "      <th>discharge_disposition_id</th>\n",
       "      <th>admission_source_id</th>\n",
       "      <th>payer_code</th>\n",
       "      <th>medical_specialty</th>\n",
       "      <th>num_lab_procedures</th>\n",
       "      <th>num_procedures</th>\n",
       "      <th>num_medications</th>\n",
       "      <th>number_outpatient</th>\n",
       "      <th>number_emergency</th>\n",
       "      <th>number_diagnoses</th>\n",
       "      <th>...</th>\n",
       "      <th>miglitol</th>\n",
       "      <th>tolazamide</th>\n",
       "      <th>insulin</th>\n",
       "      <th>glyburide.metformin</th>\n",
       "      <th>glipizide.metformin</th>\n",
       "      <th>change</th>\n",
       "      <th>diabetesMed</th>\n",
       "      <th>2nd_diag</th>\n",
       "      <th>3rd_diag</th>\n",
       "      <th>ai_response</th>\n",
       "    </tr>\n",
       "  </thead>\n",
       "  <tbody>\n",
       "    <tr>\n",
       "      <th>0</th>\n",
       "      <td>722.0</td>\n",
       "      <td>589.0</td>\n",
       "      <td>1555.0</td>\n",
       "      <td>545.0</td>\n",
       "      <td>-1.595454</td>\n",
       "      <td>-0.823815</td>\n",
       "      <td>0.654797</td>\n",
       "      <td>-0.286904</td>\n",
       "      <td>-0.229246</td>\n",
       "      <td>0.984454</td>\n",
       "      <td>...</td>\n",
       "      <td>0.0</td>\n",
       "      <td>0.0</td>\n",
       "      <td>2.0</td>\n",
       "      <td>0.0</td>\n",
       "      <td>0.0</td>\n",
       "      <td>0.0</td>\n",
       "      <td>1.0</td>\n",
       "      <td>477.0</td>\n",
       "      <td>6.0</td>\n",
       "      <td>1.0</td>\n",
       "    </tr>\n",
       "    <tr>\n",
       "      <th>1</th>\n",
       "      <td>3901.0</td>\n",
       "      <td>589.0</td>\n",
       "      <td>3346.0</td>\n",
       "      <td>545.0</td>\n",
       "      <td>0.561254</td>\n",
       "      <td>-0.823815</td>\n",
       "      <td>-0.664973</td>\n",
       "      <td>-0.286904</td>\n",
       "      <td>-0.229246</td>\n",
       "      <td>0.984454</td>\n",
       "      <td>...</td>\n",
       "      <td>0.0</td>\n",
       "      <td>0.0</td>\n",
       "      <td>0.0</td>\n",
       "      <td>0.0</td>\n",
       "      <td>0.0</td>\n",
       "      <td>0.0</td>\n",
       "      <td>0.0</td>\n",
       "      <td>477.0</td>\n",
       "      <td>29.0</td>\n",
       "      <td>1.0</td>\n",
       "    </tr>\n",
       "    <tr>\n",
       "      <th>2</th>\n",
       "      <td>29.0</td>\n",
       "      <td>1903.0</td>\n",
       "      <td>1555.0</td>\n",
       "      <td>63.0</td>\n",
       "      <td>0.099103</td>\n",
       "      <td>0.347670</td>\n",
       "      <td>3.414316</td>\n",
       "      <td>-0.286904</td>\n",
       "      <td>-0.229246</td>\n",
       "      <td>0.984454</td>\n",
       "      <td>...</td>\n",
       "      <td>0.0</td>\n",
       "      <td>0.0</td>\n",
       "      <td>1.0</td>\n",
       "      <td>0.0</td>\n",
       "      <td>0.0</td>\n",
       "      <td>1.0</td>\n",
       "      <td>1.0</td>\n",
       "      <td>18.0</td>\n",
       "      <td>57.0</td>\n",
       "      <td>0.0</td>\n",
       "    </tr>\n",
       "    <tr>\n",
       "      <th>3</th>\n",
       "      <td>105.0</td>\n",
       "      <td>3059.0</td>\n",
       "      <td>3346.0</td>\n",
       "      <td>2530.0</td>\n",
       "      <td>1.177457</td>\n",
       "      <td>-0.238072</td>\n",
       "      <td>-0.544994</td>\n",
       "      <td>-0.286904</td>\n",
       "      <td>-0.229246</td>\n",
       "      <td>0.984454</td>\n",
       "      <td>...</td>\n",
       "      <td>0.0</td>\n",
       "      <td>0.0</td>\n",
       "      <td>0.0</td>\n",
       "      <td>0.0</td>\n",
       "      <td>0.0</td>\n",
       "      <td>0.0</td>\n",
       "      <td>0.0</td>\n",
       "      <td>50.0</td>\n",
       "      <td>11.0</td>\n",
       "      <td>0.0</td>\n",
       "    </tr>\n",
       "    <tr>\n",
       "      <th>4</th>\n",
       "      <td>3901.0</td>\n",
       "      <td>3059.0</td>\n",
       "      <td>3346.0</td>\n",
       "      <td>1195.0</td>\n",
       "      <td>0.818005</td>\n",
       "      <td>-0.823815</td>\n",
       "      <td>0.534818</td>\n",
       "      <td>-0.286904</td>\n",
       "      <td>-0.229246</td>\n",
       "      <td>0.984454</td>\n",
       "      <td>...</td>\n",
       "      <td>0.0</td>\n",
       "      <td>0.0</td>\n",
       "      <td>2.0</td>\n",
       "      <td>0.0</td>\n",
       "      <td>0.0</td>\n",
       "      <td>1.0</td>\n",
       "      <td>1.0</td>\n",
       "      <td>75.0</td>\n",
       "      <td>373.0</td>\n",
       "      <td>0.0</td>\n",
       "    </tr>\n",
       "  </tbody>\n",
       "</table>\n",
       "<p>5 rows × 32 columns</p>\n",
       "</div>"
      ],
      "text/plain": [
       "   discharge_disposition_id  admission_source_id  payer_code  \\\n",
       "0                     722.0                589.0      1555.0   \n",
       "1                    3901.0                589.0      3346.0   \n",
       "2                      29.0               1903.0      1555.0   \n",
       "3                     105.0               3059.0      3346.0   \n",
       "4                    3901.0               3059.0      3346.0   \n",
       "\n",
       "   medical_specialty  num_lab_procedures  num_procedures  num_medications  \\\n",
       "0              545.0           -1.595454       -0.823815         0.654797   \n",
       "1              545.0            0.561254       -0.823815        -0.664973   \n",
       "2               63.0            0.099103        0.347670         3.414316   \n",
       "3             2530.0            1.177457       -0.238072        -0.544994   \n",
       "4             1195.0            0.818005       -0.823815         0.534818   \n",
       "\n",
       "   number_outpatient  number_emergency  number_diagnoses  ...  miglitol  \\\n",
       "0          -0.286904         -0.229246          0.984454  ...       0.0   \n",
       "1          -0.286904         -0.229246          0.984454  ...       0.0   \n",
       "2          -0.286904         -0.229246          0.984454  ...       0.0   \n",
       "3          -0.286904         -0.229246          0.984454  ...       0.0   \n",
       "4          -0.286904         -0.229246          0.984454  ...       0.0   \n",
       "\n",
       "   tolazamide  insulin  glyburide.metformin  glipizide.metformin  change  \\\n",
       "0         0.0      2.0                  0.0                  0.0     0.0   \n",
       "1         0.0      0.0                  0.0                  0.0     0.0   \n",
       "2         0.0      1.0                  0.0                  0.0     1.0   \n",
       "3         0.0      0.0                  0.0                  0.0     0.0   \n",
       "4         0.0      2.0                  0.0                  0.0     1.0   \n",
       "\n",
       "   diabetesMed  2nd_diag  3rd_diag  ai_response  \n",
       "0          1.0     477.0       6.0          1.0  \n",
       "1          0.0     477.0      29.0          1.0  \n",
       "2          1.0      18.0      57.0          0.0  \n",
       "3          0.0      50.0      11.0          0.0  \n",
       "4          1.0      75.0     373.0          0.0  \n",
       "\n",
       "[5 rows x 32 columns]"
      ]
     },
     "execution_count": 146,
     "metadata": {},
     "output_type": "execute_result"
    }
   ],
   "source": [
    "df2_new_df.head()"
   ]
  },
  {
   "cell_type": "code",
   "execution_count": 147,
   "id": "00e69d66",
   "metadata": {},
   "outputs": [],
   "source": [
    "# make predictions for this new set\n",
    "df2_pred = final_model.predict_proba(df2_new_df)[:, 1]"
   ]
  },
  {
   "cell_type": "code",
   "execution_count": 148,
   "id": "d6c5cf8d",
   "metadata": {},
   "outputs": [],
   "source": [
    "# store prediction probabilities to csv\n",
    "result = pd.DataFrame(df2_pred)\n",
    "result.index = df2_new_df.index\n",
    "result.columns = [\"prediction\"]\n",
    "result.to_csv(\"prediction_results.csv\")"
   ]
  },
  {
   "cell_type": "code",
   "execution_count": null,
   "id": "4d6001e4",
   "metadata": {},
   "outputs": [],
   "source": []
  }
 ],
 "metadata": {
  "kernelspec": {
   "display_name": "Python 3 (ipykernel)",
   "language": "python",
   "name": "python3"
  },
  "language_info": {
   "codemirror_mode": {
    "name": "ipython",
    "version": 3
   },
   "file_extension": ".py",
   "mimetype": "text/x-python",
   "name": "python",
   "nbconvert_exporter": "python",
   "pygments_lexer": "ipython3",
   "version": "3.11.5"
  }
 },
 "nbformat": 4,
 "nbformat_minor": 5
}
